{
 "cells": [
  {
   "cell_type": "markdown",
   "id": "a548c9f7",
   "metadata": {},
   "source": [
    "# Exercise 11\n",
    "## Simulation chain for neutrino detector"
   ]
  },
  {
   "cell_type": "code",
   "execution_count": 7,
   "id": "31433aef",
   "metadata": {},
   "outputs": [],
   "source": [
    "# importing extensions\n",
    "import numpy as np\n",
    "import pandas as pd\n",
    "import sympy as smp\n",
    "\n",
    "from project_a2.random import Generator\n",
    "\n",
    "smp.init_printing()"
   ]
  },
  {
   "cell_type": "markdown",
   "id": "20af3924",
   "metadata": {},
   "source": [
    "### a) Signal MC\n",
    "Flow of neutrinos given by:\n",
    "\n",
    "\\begin{equation}\n",
    "    \\Phi(E) = \\Phi_0 \\cdot \\left(\\frac{E}{\\text{TeV}}\\right)^{-\\gamma}\n",
    "\\end{equation}\n",
    "\n",
    "Determining normalization constant $\\Phi_0$:"
   ]
  },
  {
   "cell_type": "code",
   "execution_count": 2,
   "id": "eb67f3e6",
   "metadata": {},
   "outputs": [
    {
     "name": "stdout",
     "output_type": "stream",
     "text": [
      "The normalization constant has to be:\n"
     ]
    },
    {
     "data": {
      "image/png": "[encoded data removed]",
      "text/latex": [
       "$\\displaystyle \\left[ \\begin{cases} \\gamma - 1 & \\text{for}\\: \\gamma > 1 \\\\\\text{NaN} & \\text{otherwise} \\end{cases}, \\  \\begin{cases} \\begin{cases} \\gamma - 1 & \\text{for}\\: \\gamma > 1 \\\\\\frac{1}{\\int\\limits_{1}^{\\infty} E^{- \\gamma}\\, dE} & \\text{otherwise} \\end{cases} & \\text{for}\\: \\gamma \\leq 1 \\\\\\text{NaN} & \\text{otherwise} \\end{cases}\\right]$"
      ],
      "text/plain": [
       "⎡                   ⎧⎧ γ - 1    for γ > 1           ⎤\n",
       "⎢                   ⎪⎪                              ⎥\n",
       "⎢                   ⎪⎪   1                          ⎥\n",
       "⎢                   ⎪⎪────────  otherwise           ⎥\n",
       "⎢                   ⎪⎪∞                             ⎥\n",
       "⎢⎧γ - 1  for γ > 1  ⎪⎨⌠                    for γ ≤ 1⎥\n",
       "⎢⎨                , ⎨⎪⎮  -γ                         ⎥\n",
       "⎢⎩ nan   otherwise  ⎪⎪⎮ E   dE                      ⎥\n",
       "⎢                   ⎪⎪⌡                             ⎥\n",
       "⎢                   ⎪⎪1                             ⎥\n",
       "⎢                   ⎪⎩                              ⎥\n",
       "⎢                   ⎪                               ⎥\n",
       "⎣                   ⎩        nan           otherwise⎦"
      ]
     },
     "execution_count": 2,
     "metadata": {},
     "output_type": "execute_result"
    }
   ],
   "source": [
    "# calculating normalization constant phi_0\n",
    "E, phi_0, phi, gamma = smp.symbols('E, phi_0, phi, gamma', real = True, positive = True)\n",
    "f = phi_0*E**(-gamma)\n",
    "f_int = smp.integrate(phi_0*E**(-gamma),(E, 1, smp.oo))\n",
    "phi_0 = smp.solve(f_int-1, phi_0)\n",
    "\n",
    "print(f'The normalization constant has to be:')\n",
    "phi_0"
   ]
  },
  {
   "cell_type": "markdown",
   "id": "b2487d99",
   "metadata": {},
   "source": [
    "As $\\gamma = 2,7 > 1$,\n",
    "\\begin{equation}\n",
    "    \\Phi(E) = (\\gamma-1) \\cdot \\left(\\frac{E}{\\text{TeV}}\\right)^{-\\gamma}\n",
    "\\end{equation}\n",
    "\n",
    "Then, $u$ is given by\n",
    "\\begin{align}\n",
    "   u &= \\int_1^E \\Phi(E') \\text{d}E' \\\\\n",
    "     &= \\int_1^E (\\gamma-1) \\cdot \\left(\\frac{E'}{\\text{TeV}}\\right)^{-\\gamma}\\text{d}E'\n",
    "\\end{align}"
   ]
  },
  {
   "cell_type": "code",
   "execution_count": 3,
   "id": "d5bad82d",
   "metadata": {},
   "outputs": [
    {
     "name": "stdout",
     "output_type": "stream",
     "text": [
      "u equals:\n"
     ]
    },
    {
     "data": {
      "image/png": "[encoded data removed]",
      "text/latex": [
       "$\\displaystyle \\begin{cases} 1 - E^{1 - \\gamma} & \\text{for}\\: \\gamma \\neq 1 \\\\\\left(\\gamma - 1\\right) \\log{\\left(E \\right)} & \\text{otherwise} \\end{cases}$"
      ],
      "text/plain": [
       "⎧       1 - γ             \n",
       "⎪  1 - E         for γ ≠ 1\n",
       "⎨                         \n",
       "⎪(γ - 1)⋅log(E)  otherwise\n",
       "⎩                         "
      ]
     },
     "execution_count": 3,
     "metadata": {},
     "output_type": "execute_result"
    }
   ],
   "source": [
    "# calculating u\n",
    "u = smp.integrate((gamma-1)*E**(-gamma), (E,1,E))\n",
    "print(f'u equals:')\n",
    "smp.simplify(u)"
   ]
  },
  {
   "cell_type": "markdown",
   "id": "dba1664a",
   "metadata": {},
   "source": [
    "With the normalization constant $\\Phi_0$ $u$ can be written as\n",
    "\\begin{align}\n",
    "   u = 1-E^{1-\\gamma}.\n",
    "\\end{align}"
   ]
  },
  {
   "cell_type": "markdown",
   "id": "e934acb8",
   "metadata": {},
   "source": [
    "The energy $E$ is the inverse of $u$ and therefore\n",
    "\\begin{align}\n",
    "   E = \\left(1-u\\right)^{\\frac{1}{1-\\gamma}}\n",
    "\\end{align}\n",
    "with a normal distributed $u\\in[0,1]$"
   ]
  },
  {
   "cell_type": "code",
   "execution_count": 4,
   "id": "14ad4607",
   "metadata": {},
   "outputs": [
    {
     "data": {
      "text/html": [
       "<div>\n",
       "<style scoped>\n",
       "    .dataframe tbody tr th:only-of-type {\n",
       "        vertical-align: middle;\n",
       "    }\n",
       "\n",
       "    .dataframe tbody tr th {\n",
       "        vertical-align: top;\n",
       "    }\n",
       "\n",
       "    .dataframe thead th {\n",
       "        text-align: right;\n",
       "    }\n",
       "</style>\n",
       "<table border=\"1\" class=\"dataframe\">\n",
       "  <thead>\n",
       "    <tr style=\"text-align: right;\">\n",
       "      <th></th>\n",
       "      <th>Energy</th>\n",
       "    </tr>\n",
       "  </thead>\n",
       "  <tbody>\n",
       "    <tr>\n",
       "      <th>0</th>\n",
       "      <td>2.339111</td>\n",
       "    </tr>\n",
       "    <tr>\n",
       "      <th>1</th>\n",
       "      <td>1.600574</td>\n",
       "    </tr>\n",
       "    <tr>\n",
       "      <th>2</th>\n",
       "      <td>1.583425</td>\n",
       "    </tr>\n",
       "    <tr>\n",
       "      <th>3</th>\n",
       "      <td>1.750415</td>\n",
       "    </tr>\n",
       "    <tr>\n",
       "      <th>4</th>\n",
       "      <td>1.278816</td>\n",
       "    </tr>\n",
       "  </tbody>\n",
       "</table>\n",
       "</div>"
      ],
      "text/plain": [
       "     Energy\n",
       "0  2.339111\n",
       "1  1.600574\n",
       "2  1.583425\n",
       "3  1.750415\n",
       "4  1.278816"
      ]
     },
     "execution_count": 4,
     "metadata": {},
     "output_type": "execute_result"
    }
   ],
   "source": [
    "# random generator, getting 10^5 u in [0,1]\n",
    "rng = np.random.default_rng(666)\n",
    "\n",
    "u = rng.uniform(size=10**5)\n",
    "\n",
    "# defining function E\n",
    "gamma = 2.7\n",
    "def E(u):\n",
    "    return (1-u)**(1/(1-gamma))\n",
    "\n",
    "signal = pd.DataFrame({\n",
    "    'Energy': E(u)\n",
    "    \n",
    "})\n",
    "\n",
    "signal.head()"
   ]
  },
  {
   "cell_type": "markdown",
   "id": "3b7717d3",
   "metadata": {},
   "source": [
    "### b) Acceptance\n",
    "The probability of detecting an event is engergy dependent with the probability\n",
    "\\begin{align}\n",
    "   P(E)=\\left(1-\\text{e}^{-\\frac{E}{2}}\\right)^3.\n",
    "\\end{align}"
   ]
  },
  {
   "cell_type": "code",
   "execution_count": 5,
   "id": "0434b91a",
   "metadata": {},
   "outputs": [
    {
     "data": {
      "text/html": [
       "<div>\n",
       "<style scoped>\n",
       "    .dataframe tbody tr th:only-of-type {\n",
       "        vertical-align: middle;\n",
       "    }\n",
       "\n",
       "    .dataframe tbody tr th {\n",
       "        vertical-align: top;\n",
       "    }\n",
       "\n",
       "    .dataframe thead th {\n",
       "        text-align: right;\n",
       "    }\n",
       "</style>\n",
       "<table border=\"1\" class=\"dataframe\">\n",
       "  <thead>\n",
       "    <tr style=\"text-align: right;\">\n",
       "      <th></th>\n",
       "      <th>Energy</th>\n",
       "      <th>AcceptanceMask</th>\n",
       "    </tr>\n",
       "  </thead>\n",
       "  <tbody>\n",
       "    <tr>\n",
       "      <th>0</th>\n",
       "      <td>2.339111</td>\n",
       "      <td>0.327788</td>\n",
       "    </tr>\n",
       "    <tr>\n",
       "      <th>1</th>\n",
       "      <td>1.600574</td>\n",
       "      <td>0.167102</td>\n",
       "    </tr>\n",
       "    <tr>\n",
       "      <th>2</th>\n",
       "      <td>1.583425</td>\n",
       "      <td>0.163606</td>\n",
       "    </tr>\n",
       "    <tr>\n",
       "      <th>3</th>\n",
       "      <td>1.750415</td>\n",
       "      <td>0.198384</td>\n",
       "    </tr>\n",
       "    <tr>\n",
       "      <th>4</th>\n",
       "      <td>1.278816</td>\n",
       "      <td>0.105419</td>\n",
       "    </tr>\n",
       "  </tbody>\n",
       "</table>\n",
       "</div>"
      ],
      "text/plain": [
       "     Energy  AcceptanceMask\n",
       "0  2.339111        0.327788\n",
       "1  1.600574        0.167102\n",
       "2  1.583425        0.163606\n",
       "3  1.750415        0.198384\n",
       "4  1.278816        0.105419"
      ]
     },
     "execution_count": 5,
     "metadata": {},
     "output_type": "execute_result"
    }
   ],
   "source": [
    "# defining probability function\n",
    "def P(E):\n",
    "    return (1-np.e**(-E/2))**3\n",
    "\n",
    "\n",
    "signal['AcceptanceMask'] = P(signal['Energy'])\n",
    "\n",
    "signal.head()"
   ]
  },
  {
   "cell_type": "markdown",
   "id": "7585ede3",
   "metadata": {},
   "source": [
    "Wie sollen wir von % zu True/False kommen?"
   ]
  },
  {
   "cell_type": "markdown",
   "id": "f54383a7",
   "metadata": {},
   "source": [
    "### c) Polar method"
   ]
  },
  {
   "cell_type": "code",
   "execution_count": 6,
   "id": "0e7c4b62",
   "metadata": {},
   "outputs": [],
   "source": [
    "    def standard_normal(self, size=None):\n",
    "        '''\n",
    "        Override standard normal with using the Marsaglia polar method\n",
    "\n",
    "        Blatt 5, Aufgabe 11b)\n",
    "        '''\n",
    "        # Fügen Sie hier den Code ein um Zufallszahlen aus der\n",
    "        # angegebenen Verteilung zu erzeugen\n",
    "\n",
    "        # dummy, so the code works. Can be removed / replaced\n",
    "        # values = np.zeros(size)\n",
    "        \n",
    "        \n",
    "        x1 = np.zeros(size)\n",
    "        x2 = np.zeros(size)\n",
    "        \n",
    "        for i in range(size):\n",
    "            s = 2.\n",
    "            v1 = 0.\n",
    "            v2 = 0.\n",
    "            while s > 1:\n",
    "                u1 = self.uniform()\n",
    "                u2 = self.uniform()\n",
    "                v1 = 2*u1-1\n",
    "                v2 = 2*u2-1\n",
    "                s = v1**2+v2**2\n",
    "            \n",
    "            x1[i] = v1*np.sqrt(-2/s*np.log(s))\n",
    "            x2[i] = v2*np.sqrt(-2/s*np.log(s))\n",
    "                \n",
    "        values = x1\n",
    "        return values\n",
    "\n",
    "    def normal(self, loc=0, scale=1, size=None):\n",
    "        '''\n",
    "        Scale and shift standard normal values\n",
    "\n",
    "        Blatt 5, Aufgabe 11b)\n",
    "        '''\n",
    "        # Fügen Sie hier den Code ein um Zufallszahlen aus der\n",
    "        # angegebenen Verteilung zu erzeugen\n",
    "\n",
    "        # dummy, so the code works. Can be removed / replaced\n",
    "        values = Generator.standard_normal(self, size=size)\n",
    "        values = scale * values + loc\n",
    "        return values"
   ]
  },
  {
   "cell_type": "markdown",
   "id": "a18b176e",
   "metadata": {},
   "source": [
    "### d) Energy measurement"
   ]
  },
  {
   "cell_type": "code",
   "execution_count": 10,
   "id": "a2242f1c",
   "metadata": {},
   "outputs": [
    {
     "name": "stdout",
     "output_type": "stream",
     "text": [
      "[11.61566617 11.39092641 10.14613877 ... 10.87369341  8.29479241\n",
      "  8.49214208]\n"
     ]
    }
   ],
   "source": [
    "gen = Generator(seed=0)\n",
    "\n",
    "N = gen.normal(loc=10, scale=2, size=10**5) # muss noch Ener\n"
   ]
  },
  {
   "cell_type": "code",
   "execution_count": null,
   "id": "00fb0e48",
   "metadata": {},
   "outputs": [],
   "source": []
  }
 ],
 "metadata": {
  "kernelspec": {
   "display_name": "Python 3",
   "language": "python",
   "name": "python3"
  },
  "language_info": {
   "codemirror_mode": {
    "name": "ipython",
    "version": 3
   },
   "file_extension": ".py",
   "mimetype": "text/x-python",
   "name": "python",
   "nbconvert_exporter": "python",
   "pygments_lexer": "ipython3",
   "version": "3.8.8"
  }
 },
 "nbformat": 4,
 "nbformat_minor": 5
}
