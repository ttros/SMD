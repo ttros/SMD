{
 "cells": [
  {
   "cell_type": "code",
   "execution_count": 46,
   "id": "de92f44f",
   "metadata": {},
   "outputs": [
    {
     "name": "stdout",
     "output_type": "stream",
     "text": [
      "The mean vector of population 0 is [-0.00729968  2.96367644]. The mean vector of population 1 is [6.0962719  3.17467385].\n"
     ]
    }
   ],
   "source": [
    "import pandas as pd\n",
    "import numpy as np\n",
    "import numpy.linalg as alg\n",
    "import matplotlib.pyplot as plt\n",
    "import sympy as smp\n",
    "\n",
    "p0 = pd.read_hdf('two_populations.h5', key='P_0_10000')\n",
    "p1 = pd.read_hdf('two_populations.h5', key='P_1')\n",
    "p0_1000 = pd.read_hdf('two_populations.h5' ,key='P_0_1000')\n",
    "# a)\n",
    "p0_ = p0.to_numpy()\n",
    "p0x = p0_[:,0]\n",
    "p0y = p0_[:,1]\n",
    "p0xm = np.mean(p0x)\n",
    "p0ym = np.mean(p0y)\n",
    "mean0 = np.array([p0xm, p0ym])\n",
    "\n",
    " \n",
    "p1_ = p1.to_numpy()\n",
    "p1x = p1_[:,0]\n",
    "p1y = p1_[:,1]\n",
    "p1xm = np.mean(p1x)\n",
    "p1ym = np.mean(p1y)\n",
    "mean1 = np.array([p1xm, p1ym])\n",
    "\n",
    "print(f'The mean vector of population 0 is {mean0}. The mean vector of population 1 is {mean1}.' )\n"
   ]
  },
  {
   "cell_type": "code",
   "execution_count": 47,
   "id": "d32ab9e5",
   "metadata": {},
   "outputs": [],
   "source": [
    "# calculating covariance matrices\n",
    "v_P0 = np.cov(p0x, p0y)\n",
    "v_P1 = np.cov(p1x, p1y)\n",
    "\n",
    "v_P0P1 = v_P0 + v_P1\n",
    "\n",
    "S_W = v_P0P1\n",
    "S_B = np.matmul((mean0-mean1).transpose(),(mean0-mean1))\n",
    "\n",
    "S_W_inv = np.linalg.inv(S_W)\n",
    "\n",
    "# Eigenvectors\n",
    "\n",
    "#e_lambda = np.linalg.eig(S_W_inv*S_B)\n",
    "e_lambda = np.matmul(S_W_inv,(mean0-mean1))"
   ]
  },
  {
   "cell_type": "code",
   "execution_count": 48,
   "id": "c9bce520",
   "metadata": {},
   "outputs": [
    {
     "data": {
      "text/plain": [
       "array([-1.24901882,  1.58156321])"
      ]
     },
     "execution_count": 48,
     "metadata": {},
     "output_type": "execute_result"
    }
   ],
   "source": [
    "e_lambda"
   ]
  },
  {
   "cell_type": "code",
   "execution_count": 54,
   "id": "02a9f1fd",
   "metadata": {},
   "outputs": [
    {
     "data": {
      "image/png": "[encoded data removed]",
      "text/plain": [
       "<Figure size 432x288 with 3 Axes>"
      ]
     },
     "metadata": {
      "needs_background": "light"
     },
     "output_type": "display_data"
    }
   ],
   "source": [
    "# lambda = (-1.24901882,1.58156321)\n",
    "\n",
    "# Hilfsebene zur Berechnung des Lotfußpunktes\n",
    "def H(x,y):\n",
    "    return -1.24901882*x+1.58156321*y\n",
    "\n",
    "xx = np.linspace(-5, 5)\n",
    "\n",
    "# defining projection line function\n",
    "def lambda_1(x, b=0):\n",
    "    return -1.58156321/1.24901882*x + b\n",
    "\n",
    "plot = plt.figure()\n",
    "ax1 = plot.add_subplot(131,aspect='equal',xlabel='x',ylabel='y', title='population')\n",
    "ax2 = plot.add_subplot(132,aspect='equal',xlabel='x',ylabel='y', title='pop. and proj.')\n",
    "ax3 = plot.add_subplot(133,aspect='equal',xlabel='x',ylabel='y', title='projection')\n",
    "\n",
    "\n",
    "# plotting the populations and projection line\n",
    "ax1.scatter(p0x, p0y, c='indianred', alpha=0.02)\n",
    "ax1.scatter(p1x, p1y, c='dodgerblue', alpha=0.02)\n",
    "\n",
    "ax2.scatter(p0x, p0y, c='indianred', alpha=0.02)\n",
    "ax2.scatter(p1x, p1y, c='dodgerblue', alpha=0.02)\n",
    "ax2.plot(xx, lambda_1(xx), c='grey')\n",
    "\n",
    "ax3.plot(xx, lambda_1(xx), c='grey')\n",
    "\n",
    "# calculating the parameters for the foot of a dropped perpendicular\n",
    "for i in range(len(p0x)):\n",
    "    r = H(p0x[i],p0y[i])\n",
    "    s = H(p1x[i],p1y[i])\n",
    "    \n",
    "    t, u = smp.symbols('t, u', real = True)\n",
    "    t_1 = smp.solve(-1.24901882*(-1.24901882*t)+1.58156321*(1.58156321*t)-r,t)\n",
    "    t_2 = smp.solve(-1.24901882*(-1.249018820*u)+1.58156321*(1.58156321*u)-s,u)\n",
    "    \n",
    "    # plotting the projection\n",
    "    ax2.scatter(-1.24901882*t_1[0],1.58156321*t_1[0], c='lightcoral', alpha=0.1)\n",
    "    ax2.scatter(-1.24901882*t_2[0],1.58156321*t_2[0], c='steelblue', alpha=0.1)\n",
    "    \n",
    "    ax3.scatter(-1.24901882*t_1[0],1.58156321*t_1[0], c='lightcoral', alpha=0.02)\n",
    "    ax3.scatter(-1.24901882*t_2[0],1.58156321*t_2[0], c='steelblue', alpha=0.02)\n",
    "    \n",
    "\n",
    "plt.show()"
   ]
  },
  {
   "cell_type": "code",
   "execution_count": null,
   "id": "4f48929b",
   "metadata": {},
   "outputs": [],
   "source": []
  }
 ],
 "metadata": {
  "kernelspec": {
   "display_name": "Python 3",
   "language": "python",
   "name": "python3"
  },
  "language_info": {
   "codemirror_mode": {
    "name": "ipython",
    "version": 3
   },
   "file_extension": ".py",
   "mimetype": "text/x-python",
   "name": "python",
   "nbconvert_exporter": "python",
   "pygments_lexer": "ipython3",
   "version": "3.8.8"
  }
 },
 "nbformat": 4,
 "nbformat_minor": 5
}
