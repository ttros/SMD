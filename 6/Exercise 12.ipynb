{
 "cells": [
  {
   "cell_type": "markdown",
   "id": "682b41fe",
   "metadata": {},
   "source": [
    "C)"
   ]
  },
  {
   "cell_type": "code",
   "execution_count": 1,
   "id": "cf7e5512",
   "metadata": {},
   "outputs": [
    {
     "data": {
      "image/png": "[encoded data removed]",
      "text/plain": [
       "<Figure size 432x288 with 4 Axes>"
      ]
     },
     "metadata": {
      "needs_background": "light"
     },
     "output_type": "display_data"
    }
   ],
   "source": [
    "import numpy as np\n",
    "import matplotlib.pyplot as plt\n",
    "import sympy as smp\n",
    "\n",
    "x1 = [1, 2, 1.5, 2, 2, 3]\n",
    "y1 = [1., 1., 2., 2., 3., 3.]\n",
    "x2 = [1.5, 2.5, 3.5, 2.5, 3.5, 4.5]\n",
    "y2 = [1, 1, 1, 2, 2, 2]\n",
    "\n",
    "xx = np.linspace(-1, 1.5)\n",
    "\n",
    "# lambda = (-370,367)\n",
    "\n",
    "# Hilfsebene zur Berechnung des Lotfußpunktes\n",
    "def H(x,y):\n",
    "    return -370*x+367*y\n",
    "\n",
    "# defining projection line function\n",
    "def lambda_1(x, b=0):\n",
    "    return -367/370*x + b\n",
    "\n",
    "plot = plt.figure()\n",
    "#plot.tight_layout()\n",
    "plt.subplots_adjust(wspace=0.6)\n",
    "\n",
    "ax1 = plot.add_subplot(231,aspect='equal',xlabel='x',ylabel='y', title='population')\n",
    "ax2 = plot.add_subplot(232,aspect='equal',xlabel='x',ylabel='y', title='pop. and proj.')\n",
    "ax3 = plot.add_subplot(233,aspect='equal',xlabel='x',ylabel='y', title='projection')\n",
    "ax4 = plot.add_subplot(234,aspect='equal',xlabel='x',ylabel='y', title='lambda_cut')\n",
    "\n",
    "\n",
    "# plotting the populations and projection line\n",
    "ax1.scatter(x1, y1, c='indianred')\n",
    "ax1.scatter(x2, y2, c='dodgerblue')\n",
    "\n",
    "ax2.scatter(x1, y1, c='indianred')\n",
    "ax2.scatter(x2, y2, c='dodgerblue')\n",
    "ax2.plot(xx, lambda_1(xx), c='grey')\n",
    "\n",
    "ax3.plot(xx, lambda_1(xx), c='grey')\n",
    "\n",
    "# calculating the parameters for the foot of a dropped perpendicular\n",
    "for i in range(len(x1)):\n",
    "    r = H(x1[i],y1[i])\n",
    "    s = H(x2[i],y2[i])\n",
    "    \n",
    "    t, u = smp.symbols('t, u', real = True)\n",
    "    t_1 = smp.solve(-370*(-370*t)+367*(367*t)-r,t)\n",
    "    t_2 = smp.solve(-370*(-370*u)+367*(367*u)-s,u)\n",
    "    \n",
    "    # plotting the projection\n",
    "    ax2.scatter(-370*t_1[0],360*t_1[0], c='lightcoral')\n",
    "    ax2.scatter(-370*t_2[0],360*t_2[0], c='steelblue')\n",
    "    \n",
    "    ax3.scatter(-370*t_1[0],360*t_1[0], c='lightcoral')\n",
    "    ax3.scatter(-370*t_2[0],360*t_2[0], c='steelblue')\n",
    "    \n",
    "    # lambda cut\n",
    "    lambda_cut = 0.7\n",
    "    xxx = np.linspace(lambda_cut,1.5)\n",
    "    \n",
    "    ax4.plot(xxx, lambda_1(xxx), c='grey')\n",
    "    ax4.scatter(-370*t_1[0],360*t_1[0], c='lightcoral')\n",
    "    ax4.scatter(-370*t_2[0],360*t_2[0], c='steelblue')\n",
    "    "
   ]
  },
  {
   "cell_type": "markdown",
   "id": "552115b0",
   "metadata": {},
   "source": [
    "Choosing $\\lambda_{\\text{cut}}=0.7$ because we rather have false negative values than false positive ones.\n",
    "\n",
    "Counting tp, tn, fn, fp:\n",
    "\n",
    "tp = 4\n",
    "\n",
    "tn = 6\n",
    "\n",
    "fn = 2\n",
    "\n",
    "fp = 0\n",
    "\n",
    "Precision = tp/(tp+fp) = 4/(4+0) = 1\n",
    "\n",
    "Recall = tp/(tp+fn) = 4/(4+2) = 2/3\n",
    "\n",
    "Accuracy = (tp+tn)/(tp+tn+fn+fp) = (4+6)/(4+6+2) = 5/6"
   ]
  },
  {
   "cell_type": "code",
   "execution_count": null,
   "id": "7f9c81f9",
   "metadata": {},
   "outputs": [],
   "source": []
  }
 ],
 "metadata": {
  "kernelspec": {
   "display_name": "Python 3",
   "language": "python",
   "name": "python3"
  },
  "language_info": {
   "codemirror_mode": {
    "name": "ipython",
    "version": 3
   },
   "file_extension": ".py",
   "mimetype": "text/x-python",
   "name": "python",
   "nbconvert_exporter": "python",
   "pygments_lexer": "ipython3",
   "version": "3.8.8"
  }
 },
 "nbformat": 4,
 "nbformat_minor": 5
}
