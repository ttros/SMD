{
 "cells": [
  {
   "cell_type": "markdown",
   "id": "8e16adf4",
   "metadata": {},
   "source": [
    "# Ex 18\n",
    "## a)"
   ]
  },
  {
   "cell_type": "markdown",
   "id": "d0926c3b",
   "metadata": {},
   "source": [
    "Features that depend on the attribute that is supposed to be identified are useful for classification. Features that show random behavior and are not correlated to the result should not be used."
   ]
  },
  {
   "cell_type": "markdown",
   "id": "4a368199",
   "metadata": {},
   "source": [
    "After spending quite some time fixing the error in the data_exploration notebook we were not able to find a way to access the useful attributes like 'energy'."
   ]
  },
  {
   "cell_type": "markdown",
   "id": "2e097985",
   "metadata": {},
   "source": [
    "## d)\n",
    "A roc auc score of 0,5 means that the classifier randomly assigns the type of particle. This means that the feature does not correlate to the type of particle. A roc auc score of 1 means that the classifier can tell without any false predictions what kind of particle to assign, so the feature perfectly defines what kind of event took place."
   ]
  },
  {
   "cell_type": "markdown",
   "id": "03557928",
   "metadata": {},
   "source": [
    "# Ex 19"
   ]
  },
  {
   "cell_type": "markdown",
   "id": "3a56d694",
   "metadata": {},
   "source": [
    "Unfortunately, the command given in task 19 (python exercises/energy_regression.py project_<groupname> -d plots/)\n",
    "throws this error."
   ]
  },
  {
   "cell_type": "code",
   "execution_count": 2,
   "id": "d3d74361",
   "metadata": {},
   "outputs": [
    {
     "ename": "SyntaxError",
     "evalue": "invalid character '█' (U+2588) (3626119371.py, line 2)",
     "output_type": "error",
     "traceback": [
      "\u001b[0;36m  Input \u001b[0;32mIn [2]\u001b[0;36m\u001b[0m\n\u001b[0;31m    100%|████████████████████████████████████| 20000/20000 [00:43<00:00, 460.09it/s]\u001b[0m\n\u001b[0m         ^\u001b[0m\n\u001b[0;31mSyntaxError\u001b[0m\u001b[0;31m:\u001b[0m invalid character '█' (U+2588)\n"
     ]
    }
   ],
   "source": [
    "Simulating Cascade Events\n",
    "100%|████████████████████████████████████| 20000/20000 [00:43<00:00, 460.09it/s]\n",
    "Analysing events ...\n",
    "100%|██████████████████████████████████| 20000/20000 [00:01<00:00, 11500.54it/s]\n",
    "Performing cross validation ...\n",
    "Generating figures ...\n",
    "Could not plot the feature importances. Did you replace the dummy regressor ? \n",
    "Traceback (most recent call last):\n",
    "  File \"/Users/tomtroska/Desktop/SMD/project_a2/exercises/energy_regression.py\", line 448, in <module>\n",
    "    main()\n",
    "  File \"/opt/anaconda3/envs/smd/lib/python3.10/site-packages/click/core.py\", line 1130, in __call__\n",
    "    return self.main(*args, **kwargs)\n",
    "  File \"/opt/anaconda3/envs/smd/lib/python3.10/site-packages/click/core.py\", line 1055, in main\n",
    "    rv = self.invoke(ctx)\n",
    "  File \"/opt/anaconda3/envs/smd/lib/python3.10/site-packages/click/core.py\", line 1404, in invoke\n",
    "    return ctx.invoke(self.callback, **ctx.params)\n",
    "  File \"/opt/anaconda3/envs/smd/lib/python3.10/site-packages/click/core.py\", line 760, in invoke\n",
    "    return __callback(*args, **kwargs)\n",
    "  File \"/Users/tomtroska/Desktop/SMD/project_a2/exercises/energy_regression.py\", line 390, in main\n",
    "    ax4.set_yticklabels(X.columns.values[order])\n",
    "UnboundLocalError: local variable 'order' referenced before assignment"
   ]
  },
  {
   "cell_type": "code",
   "execution_count": null,
   "id": "18977af2",
   "metadata": {},
   "outputs": [],
   "source": []
  }
 ],
 "metadata": {
  "kernelspec": {
   "display_name": "Python 3 (ipykernel)",
   "language": "python",
   "name": "python3"
  },
  "language_info": {
   "codemirror_mode": {
    "name": "ipython",
    "version": 3
   },
   "file_extension": ".py",
   "mimetype": "text/x-python",
   "name": "python",
   "nbconvert_exporter": "python",
   "pygments_lexer": "ipython3",
   "version": "3.10.4"
  }
 },
 "nbformat": 4,
 "nbformat_minor": 5
}
