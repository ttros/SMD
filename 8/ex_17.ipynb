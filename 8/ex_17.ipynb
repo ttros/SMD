{
 "cells": [
  {
   "cell_type": "markdown",
   "id": "248b632d",
   "metadata": {},
   "source": [
    "# Ex 17\n",
    "## c)"
   ]
  },
  {
   "cell_type": "code",
   "execution_count": 1,
   "id": "20513a92",
   "metadata": {},
   "outputs": [],
   "source": [
    "import pandas as pd\n",
    "import matplotlib.pyplot as plt\n",
    "import numpy as np"
   ]
  },
  {
   "cell_type": "code",
   "execution_count": 2,
   "id": "88c7b5e5",
   "metadata": {},
   "outputs": [
    {
     "data": {
      "text/plain": [
       "14"
      ]
     },
     "execution_count": 2,
     "metadata": {},
     "output_type": "execute_result"
    }
   ],
   "source": [
    "# reading data\n",
    "Y = pd.read_csv(\"soccer.csv\")\n",
    "len(Y['wind'])"
   ]
  },
  {
   "cell_type": "code",
   "execution_count": 3,
   "id": "452d3595",
   "metadata": {},
   "outputs": [
    {
     "name": "stdout",
     "output_type": "stream",
     "text": [
      "Entropy:  0.9402859586706311\n"
     ]
    }
   ],
   "source": [
    "# defining entropy function for this particular dataset\n",
    "def H(Y):\n",
    "    n = len(Y)\n",
    "    p = len(Y[Y['soccer'] == True])/n\n",
    "    return -p * np.log2(p) - (1-p)*np.log2(1-p)\n",
    "\n",
    "print('Entropy: ', H(Y))"
   ]
  },
  {
   "cell_type": "code",
   "execution_count": 8,
   "id": "0fba21f0",
   "metadata": {},
   "outputs": [
    {
     "name": "stdout",
     "output_type": "stream",
     "text": [
      "Checking if function is correct by comparing to result of b): \n",
      "Information gain (wind):  0.04812703040826949\n"
     ]
    }
   ],
   "source": [
    "# prevents divide by zero error\n",
    "def log(p):\n",
    "    if p == 0:\n",
    "        return 0\n",
    "    return np.log2(p)\n",
    "\n",
    "def H_X(Y, subspace_1, subspace_2):\n",
    "    n1 = len(subspace_1)\n",
    "    n2 = len(subspace_2)\n",
    "    n = n1 + n2\n",
    "    \n",
    "    # checking for valid subspaces\n",
    "    if ((n1 == 0) or (n2 == 0)):\n",
    "        return 0\n",
    "    \n",
    "    # probability for p11('soccer=yes'|'subspace=yes')\n",
    "    p11 = len(subspace_1[subspace_1['soccer'] == True])/n1\n",
    "    p12 = len(subspace_1[subspace_1['soccer'] == False])/n1\n",
    "    p21 = len(subspace_2[subspace_2['soccer'] == True])/n2\n",
    "    p22 = len(subspace_2[subspace_2['soccer'] == False])/n2\n",
    "   \n",
    "    return -n1/n*(p11*log(p11) + p12*log(p12)) - n2/n*(p21*log(p21) + p22*log(p22))\n",
    "    \n",
    "print('Checking if function is correct by comparing to result of b): ')\n",
    "print('Information gain (wind): ', H(Y)-H_X(Y,Y[Y['wind']==True],Y[Y['wind']==False]))"
   ]
  },
  {
   "cell_type": "code",
   "execution_count": 35,
   "id": "06ef52d5",
   "metadata": {},
   "outputs": [],
   "source": [
    "def IG(Y,X,cut):\n",
    "    \n",
    "    subspace_1 = Y[Y[X] <= cut]\n",
    "    subspace_2 = Y[Y[X] > cut]\n",
    "\n",
    "    return H(Y) - H_X(Y, subspace_1, subspace_2)\n"
   ]
  },
  {
   "cell_type": "code",
   "execution_count": 36,
   "id": "9354e200",
   "metadata": {},
   "outputs": [
    {
     "name": "stdout",
     "output_type": "stream",
     "text": [
      "0.04770911142796064\n",
      "0.010318100909640249\n",
      "0.0004894691870234169\n",
      "0.014956069928972804\n",
      "0.04533417202914447\n",
      "0.0013397424044413464\n",
      "0.0013397424044413464\n",
      "0.02507817350585062\n",
      "0.0004894691870234169\n",
      "0.010318100909640249\n",
      "0.1134008641811034\n",
      "----------------\n",
      "0.04770911142796064\n",
      "0.014956069928972804\n",
      "0.04533417202914447\n",
      "0.09027634939276519\n",
      "0.10224356360985076\n",
      "0.02507817350585062\n",
      "0.010318100909640249\n",
      "0.04770911142796064\n",
      "----------------\n",
      "0.04812703040826949\n",
      "----------------\n",
      "0.22600024438491684\n",
      "0.10224356360985076\n"
     ]
    }
   ],
   "source": [
    "# temperature\n",
    "cut_array = np.unique(np.sort(Y['temperature']))\n",
    "\n",
    "for cut in range(len(cut_array)-1):\n",
    "    print(IG(Y,'temperature',cut_array[cut]))\n",
    "print('----------------')\n",
    "\n",
    "# humidity\n",
    "cut_array = np.unique(np.sort(Y['humidity']))\n",
    "\n",
    "for cut in range(len(cut_array)-1):\n",
    "    print(IG(Y,'humidity',cut_array[cut]))\n",
    "print('----------------')\n",
    "\n",
    "# wind\n",
    "cut_array = np.unique(np.sort(Y['wind']))\n",
    "\n",
    "for cut in range(len(cut_array)-1):\n",
    "    print(IG(Y,'wind',cut_array[cut]))\n",
    "print('----------------')\n",
    "\n",
    "# weather_forecast\n",
    "cut_array = np.unique(np.sort(Y['weather_forecast']))\n",
    "for cut in range(len(cut_array)-1):\n",
    "    print(IG(Y,'weather_forecast',cut_array[cut]))"
   ]
  },
  {
   "cell_type": "code",
   "execution_count": null,
   "id": "6529be1b",
   "metadata": {},
   "outputs": [],
   "source": []
  }
 ],
 "metadata": {
  "kernelspec": {
   "display_name": "Python 3 (ipykernel)",
   "language": "python",
   "name": "python3"
  },
  "language_info": {
   "codemirror_mode": {
    "name": "ipython",
    "version": 3
   },
   "file_extension": ".py",
   "mimetype": "text/x-python",
   "name": "python",
   "nbconvert_exporter": "python",
   "pygments_lexer": "ipython3",
   "version": "3.10.4"
  }
 },
 "nbformat": 4,
 "nbformat_minor": 5
}
