{
 "cells": [
  {
   "cell_type": "markdown",
   "id": "248b632d",
   "metadata": {},
   "source": [
    "# Ex 17\n",
    "## c)"
   ]
  },
  {
   "cell_type": "code",
   "execution_count": 1,
   "id": "20513a92",
   "metadata": {},
   "outputs": [],
   "source": [
    "import pandas as pd\n",
    "import matplotlib.pyplot as plt\n",
    "import numpy as np"
   ]
  },
  {
   "cell_type": "code",
   "execution_count": 2,
   "id": "88c7b5e5",
   "metadata": {},
   "outputs": [
    {
     "data": {
      "text/plain": [
       "14"
      ]
     },
     "execution_count": 2,
     "metadata": {},
     "output_type": "execute_result"
    }
   ],
   "source": [
    "# reading data\n",
    "Y = pd.read_csv(\"soccer.csv\")\n",
    "len(Y['wind'])"
   ]
  },
  {
   "cell_type": "code",
   "execution_count": 3,
   "id": "452d3595",
   "metadata": {},
   "outputs": [
    {
     "name": "stdout",
     "output_type": "stream",
     "text": [
      "Entropy:  0.9402859586706311\n"
     ]
    }
   ],
   "source": [
    "# defining entropy function for this particular dataset\n",
    "def H(Y):\n",
    "    n = len(Y)\n",
    "    p = len(Y[Y['soccer'] == True])/n\n",
    "    return -p * np.log2(p) - (1-p)*np.log2(1-p)\n",
    "\n",
    "print('Entropy: ', H(Y))"
   ]
  },
  {
   "cell_type": "code",
   "execution_count": 4,
   "id": "0fba21f0",
   "metadata": {},
   "outputs": [
    {
     "name": "stdout",
     "output_type": "stream",
     "text": [
      "Checking if function is correct by comparing to result of b): \n",
      "Information gain (wind):  0.04812703040826949\n"
     ]
    }
   ],
   "source": [
    "# prevents divide by zero error\n",
    "def log(p):\n",
    "    if p == 0:\n",
    "        return 0\n",
    "    return np.log2(p)\n",
    "\n",
    "def H_X(Y, subspace_1, subspace_2):\n",
    "    n1 = len(subspace_1)\n",
    "    n2 = len(subspace_2)\n",
    "    n = n1 + n2\n",
    "    \n",
    "    # checking for valid subspaces\n",
    "    if ((n1 == 0) or (n2 == 0)):\n",
    "        return 0\n",
    "    \n",
    "    # probability for p11('soccer=yes'|'subspace=yes')\n",
    "    p11 = len(subspace_1[subspace_1['soccer'] == True])/n1\n",
    "    p12 = len(subspace_1[subspace_1['soccer'] == False])/n1\n",
    "    p21 = len(subspace_2[subspace_2['soccer'] == True])/n2\n",
    "    p22 = len(subspace_2[subspace_2['soccer'] == False])/n2\n",
    "   \n",
    "    return -n1/n*(p11*log(p11) + p12*log(p12)) - n2/n*(p21*log(p21) + p22*log(p22))\n",
    "    \n",
    "print('Checking if function is correct by comparing to result of b): ')\n",
    "print('Information gain (wind): ', H(Y)-H_X(Y,Y[Y['wind']==True],Y[Y['wind']==False]))"
   ]
  },
  {
   "cell_type": "code",
   "execution_count": 5,
   "id": "06ef52d5",
   "metadata": {},
   "outputs": [],
   "source": [
    "def IG(Y,X,cut):\n",
    "    \n",
    "    subspace_1 = Y[Y[X] <= cut]\n",
    "    subspace_2 = Y[Y[X] > cut]\n",
    "\n",
    "    return H(Y) - H_X(Y, subspace_1, subspace_2)\n"
   ]
  },
  {
   "cell_type": "code",
   "execution_count": 6,
   "id": "9354e200",
   "metadata": {},
   "outputs": [
    {
     "name": "stdout",
     "output_type": "stream",
     "text": [
      "[0.04770911 0.0103181  0.00048947 0.01495607 0.04533417 0.00133974\n",
      " 0.00133974 0.02507817 0.00048947 0.0103181  0.11340086]\n",
      "----------------\n",
      "[0.04770911 0.01495607 0.04533417 0.09027635 0.10224356 0.02507817\n",
      " 0.0103181  0.04770911]\n",
      "----------------\n",
      "0.04812703040826949\n",
      "----------------\n",
      "0.22600024438491684\n",
      "0.10224356360985076\n"
     ]
    }
   ],
   "source": [
    "# temperature\n",
    "cut_array = np.unique(np.sort(Y['temperature']))\n",
    "temp_cuts=np.zeros(len(cut_array)-1)\n",
    "\n",
    "for cut in range(len(cut_array)-1):\n",
    "    temp_cuts[cut]=IG(Y,'temperature',cut_array[cut])\n",
    "    \n",
    "print(temp_cuts)\n",
    "print('----------------')\n",
    "\n",
    "# humidity\n",
    "cut_array = np.unique(np.sort(Y['humidity']))\n",
    "hum_cuts=np.zeros(len(cut_array)-1)\n",
    "\n",
    "for cut in range(len(cut_array)-1):\n",
    "    hum_cuts[cut]=IG(Y,'humidity',cut_array[cut])\n",
    "    \n",
    "print(hum_cuts)\n",
    "print('----------------')\n",
    "\n",
    "# wind\n",
    "cut_array = np.unique(np.sort(Y['wind']))\n",
    "\n",
    "for cut in range(len(cut_array)-1):\n",
    "    print(IG(Y,'wind',cut_array[cut]))\n",
    "print('----------------')\n",
    "\n",
    "# weather_forecast\n",
    "cut_array = np.unique(np.sort(Y['weather_forecast']))\n",
    "for cut in range(len(cut_array)-1):\n",
    "    print(IG(Y,'weather_forecast',cut_array[cut]))"
   ]
  },
  {
   "cell_type": "code",
   "execution_count": 11,
   "id": "6529be1b",
   "metadata": {
    "scrolled": false
   },
   "outputs": [
    {
     "data": {
      "text/plain": [
       "Text(0.5, 1.0, 'cut (humidity in %)')"
      ]
     },
     "execution_count": 11,
     "metadata": {},
     "output_type": "execute_result"
    },
    {
     "data": {
      "image/png": "[encoded data removed]",
      "text/plain": [
       "<Figure size 432x288 with 1 Axes>"
      ]
     },
     "metadata": {
      "needs_background": "light"
     },
     "output_type": "display_data"
    },
    {
     "data": {
      "image/png": "[encoded data removed]",
      "text/plain": [
       "<Figure size 432x288 with 1 Axes>"
      ]
     },
     "metadata": {
      "needs_background": "light"
     },
     "output_type": "display_data"
    }
   ],
   "source": [
    "#plots\n",
    "\n",
    "fig1, axs1 = plt.subplots()\n",
    "\n",
    "for k in range (len(temp_cuts)):\n",
    "    axs1.bar(k, temp_cuts[k], color = \"tomato\")\n",
    "     \n",
    "axs1.set_xticks([0, 1, 2, 3, 4, 5, 6 ,7 ,8, 9, 10, 11], np.unique(np.sort(Y['temperature'])))\n",
    "axs1.set_ylabel(\"Information Gain\") \n",
    "axs1.set_title(\"cut (temperature in °C)\")\n",
    "\n",
    "fig2, axs2 = plt.subplots()\n",
    "\n",
    "for k in range (len(hum_cuts)):\n",
    "    axs2.bar(k, hum_cuts[k], color = \"steelblue\")\n",
    "     \n",
    "axs2.set_xticks([0, 1, 2, 3, 4, 5, 6 ,7,8], np.unique(np.sort(Y['humidity'])))\n",
    "axs2.set_ylabel(\"Information Gain\") \n",
    "axs2.set_title(\"cut (humidity in %)\")\n"
   ]
  }
 ],
 "metadata": {
  "kernelspec": {
   "display_name": "Python 3 (ipykernel)",
   "language": "python",
   "name": "python3"
  },
  "language_info": {
   "codemirror_mode": {
    "name": "ipython",
    "version": 3
   },
   "file_extension": ".py",
   "mimetype": "text/x-python",
   "name": "python",
   "nbconvert_exporter": "python",
   "pygments_lexer": "ipython3",
   "version": "3.8.8"
  }
 },
 "nbformat": 4,
 "nbformat_minor": 5
}
