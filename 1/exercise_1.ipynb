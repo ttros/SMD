{
 "cells": [
  {
   "cell_type": "markdown",
   "id": "a1e8c769",
   "metadata": {},
   "source": [
    "# Sheet 1\n",
    "Exercise 1"
   ]
  },
  {
   "cell_type": "code",
   "execution_count": null,
   "id": "09ecda81",
   "metadata": {},
   "outputs": [],
   "source": [
    "#importing extensions\n",
    "import numpy as np\n",
    "import matplotlib.pyplot as plt\n",
    "\n",
    "# defining functions\n",
    "def f(x):\n",
    "    return (x**3+1/3)-(x**3-1/3)\n",
    "def g(x):\n",
    "    return ((3+(x**3)/3)-(3-(x**3)/3))/x**3\n",
    "\n",
    "#defining algebraic solution\n",
    "sol = 2/3"
   ]
  },
  {
   "cell_type": "code",
   "execution_count": null,
   "id": "15bacacc",
   "metadata": {
    "scrolled": true
   },
   "outputs": [],
   "source": [
    "# calculating the deviation of the numerical soltion for f, deviation > 1%\n",
    "# critical for x -> -inf and x -> inf\n",
    "\n",
    "x_f_crit_minus = 0\n",
    "x_f_crit_plus = 0\n",
    "\n",
    "# checking x -> -inf\n",
    "for xx in range(10**7):\n",
    "    if((np.abs(f(-xx)-sol)) > sol*0.01): \n",
    "        x_f_crit_minus = -xx\n",
    "        break\n",
    "\n",
    "# checking x -> inf\n",
    "for xx in range(10**7):\n",
    "    if((np.abs(f(xx)-sol)) > sol*0.01): \n",
    "        x_f_crit_plus = xx\n",
    "        break\n",
    "        \n",
    "print(f'Function f deviates for x < {x_f_crit_minus} and x > {x_f_crit_plus}')"
   ]
  },
  {
   "cell_type": "code",
   "execution_count": null,
   "id": "372d7935",
   "metadata": {},
   "outputs": [],
   "source": [
    "# calculating the deviation of the numerical soltion for g, deviation > 1%\n",
    "# critical for x -> -0 and x -> +0\n",
    "\n",
    "# declaring global variables\n",
    "x_g_crit_minus = 0\n",
    "x_g_crit_plus = 0\n",
    "\n",
    "# checking x -> -0\n",
    "for xx in range(1,10**7):\n",
    "    if((np.abs(g(-1/xx)-sol)) > sol*0.01): \n",
    "        x_g_crit_minus = -1/xx\n",
    "        break\n",
    "        \n",
    "# checking x -> +0\n",
    "for xx in range(1,10**7):\n",
    "    if((np.abs(g(1/xx)-sol)) > sol*0.01): \n",
    "        x_g_crit_plus = -1/xx\n",
    "        break\n",
    "        \n",
    "print(f'Function g deviates for {x_g_crit_minus} < x < {x_g_crit_plus}')"
   ]
  },
  {
   "cell_type": "code",
   "execution_count": null,
   "id": "c1000e17",
   "metadata": {},
   "outputs": [],
   "source": [
    "# calculating for when the numerical solution of f equals 0\n",
    "# critical for x -> -inf and x -> inf\n",
    "\n",
    "# declaring global variables\n",
    "x_f_zero_minus = 0\n",
    "x_f_zero_plus = 0\n",
    "\n",
    "# checking x -> -inf\n",
    "for xx in range(10**7):\n",
    "    if(f(-xx) == 0): \n",
    "        x_f_zero_minus = -xx\n",
    "        break\n",
    "\n",
    "# checking x -> inf\n",
    "for xx in range(10**7):\n",
    "    if(f(xx) == 0): \n",
    "        x_f_zero_plus = xx\n",
    "        break\n",
    "        \n",
    "print(f'Function f equals zero for x < {x_f_zero_minus} and x > {x_f_zero_plus}')"
   ]
  },
  {
   "cell_type": "code",
   "execution_count": null,
   "id": "56370330",
   "metadata": {},
   "outputs": [],
   "source": [
    "# calculating for when the numerical solution of g equals 0\n",
    "# critical for x -> -0 and x -> +0\n",
    "\n",
    "# declaring global variables\n",
    "x_g_zero_minus = 0\n",
    "x_g_zero_plus = 0\n",
    "\n",
    "# checking x -> -0\n",
    "for xx in range(1,10**7):\n",
    "    if(g(-1/xx) == 0): \n",
    "        x_g_zero_minus = -1/xx\n",
    "        break\n",
    "\n",
    "# checking x -> inf\n",
    "for xx in range(1,10**7):\n",
    "    if(g(1/xx) == 0): \n",
    "        x_g_zero_plus = 1/xx\n",
    "        break\n",
    "        \n",
    "print(f'Function g equals zero for {x_g_zero_minus} < x < {x_g_zero_plus}')"
   ]
  },
  {
   "cell_type": "code",
   "execution_count": null,
   "id": "ee850f4c",
   "metadata": {},
   "outputs": [],
   "source": [
    "# graphical representation of functions f and g\n",
    "# plot function f\n",
    "plt.subplot(1,2,1)\n",
    "xx = np.linspace(-175000, 175000, 1000)\n",
    "plt.plot(xx, f(xx), 'b', label='numerical solution of f')\n",
    "plt.plot(xx, 0*xx+2/3, 'r', label='algebraical solution of f')\n",
    "plt.tight_layout(pad=0, h_pad=1.08, w_pad=1.08)\n",
    "plt.legend()\n",
    "\n",
    "# plot function g\n",
    "plt.subplot(1,2,2)\n",
    "xx = np.linspace(-0.5*10**-4,0.5*10**-4, 1000)\n",
    "plt.plot(xx, g(xx), 'b', label='numerical solution of g')\n",
    "plt.plot(xx, 0*xx+2/3, 'r', label='algebraical solution of g')\n",
    "plt.tight_layout(pad=0, h_pad=1.08, w_pad=1.08)\n",
    "plt.legend()\n",
    "\n",
    "plt.show()\n",
    "plt.close()"
   ]
  },
  {
   "cell_type": "code",
   "execution_count": null,
   "id": "4a57091b",
   "metadata": {},
   "outputs": [],
   "source": [
    "# comparing data types float32 and float 64\n",
    "# plot function f float 32\n",
    "plt.subplot(2,2,1)\n",
    "xx = np.linspace(-220, 220, 1000, dtype='float32')\n",
    "plt.plot(xx, f(xx), 'b', label='function f, float32')\n",
    "plt.tight_layout(pad=0, h_pad=1.08, w_pad=1.08)\n",
    "plt.legend()\n",
    "\n",
    "# plot function g float 32\n",
    "plt.subplot(2,2,2)\n",
    "xx = np.linspace(-0.5*10**-1,0.5*10**-1, 1000, dtype='float32')\n",
    "plt.plot(xx, g(xx), 'b', label='function g, float32')\n",
    "plt.tight_layout(pad=0, h_pad=1.08, w_pad=1.08)\n",
    "plt.legend()\n",
    "\n",
    "plt.show()\n",
    "plt.close()\n",
    "\n",
    "# plot function f float 64\n",
    "plt.subplot(2,2,3)\n",
    "xx = np.linspace(-175000, 175000, 1000, dtype='float64')\n",
    "plt.plot(xx, f(xx), 'b', label='function f, float64')\n",
    "plt.tight_layout(pad=0, h_pad=1.08, w_pad=1.08)\n",
    "plt.legend()\n",
    "\n",
    "# plot function g float 64\n",
    "plt.subplot(2,2,4)\n",
    "xx = np.linspace(-0.5*10**-4,0.5*10**-4, 1000, dtype='float64')\n",
    "plt.plot(xx, g(xx), 'b', label='function g, float64')\n",
    "plt.tight_layout(pad=0, h_pad=1.08, w_pad=1.08)\n",
    "plt.legend()\n",
    "\n",
    "plt.show()\n",
    "plt.close()"
   ]
  },
  {
   "cell_type": "markdown",
   "id": "f2e88718",
   "metadata": {},
   "source": [
    "This clearly shows that the range of x for that the functions are stable is highly dependand on the data type used.\n",
    "The stable range changes by the magnitude of 10^3 when using float32 and float 64."
   ]
  },
  {
   "cell_type": "code",
   "execution_count": null,
   "id": "7533b35d",
   "metadata": {},
   "outputs": [],
   "source": []
  }
 ],
 "metadata": {
  "kernelspec": {
   "display_name": "Python 3 (ipykernel)",
   "language": "python",
   "name": "python3"
  },
  "language_info": {
   "codemirror_mode": {
    "name": "ipython",
    "version": 3
   },
   "file_extension": ".py",
   "mimetype": "text/x-python",
   "name": "python",
   "nbconvert_exporter": "python",
   "pygments_lexer": "ipython3",
   "version": "3.10.4"
  }
 },
 "nbformat": 4,
 "nbformat_minor": 5
}
