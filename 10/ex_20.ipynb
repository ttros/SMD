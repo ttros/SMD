{
 "cells": [
  {
   "cell_type": "markdown",
   "id": "d5d6d916",
   "metadata": {},
   "source": [
    "# Exercise 20"
   ]
  },
  {
   "cell_type": "markdown",
   "id": "7ca9bf71",
   "metadata": {},
   "source": [
    "## a)\n",
    "The k-NN algorithm only works if all attributes have a similar magnitude, since comparing distances\n",
    "is only effective the attributes are in the same order of magnitude."
   ]
  },
  {
   "cell_type": "markdown",
   "id": "c7e5c293",
   "metadata": {},
   "source": [
    "## b)\n",
    "The k-NN is called a \"lazy learner\", because it only memorizes the training data. There is no learning\n",
    "of a discriminative function, so the algorithm will inherently be slower in the application phase.\n",
    "However there isn't any learning phase and time is saved here. Generally speaking, these \"lazy learners\"\n",
    "will be slower than smarter algorithms, e.g. random forest."
   ]
  },
  {
   "cell_type": "markdown",
   "id": "a98c6b4d",
   "metadata": {},
   "source": [
    "## c)"
   ]
  },
  {
   "cell_type": "code",
   "execution_count": 1,
   "id": "a91e9f23",
   "metadata": {},
   "outputs": [],
   "source": [
    "import numpy as np\n",
    "from collections import Counter\n",
    "from scipy.spatial import distance\n",
    "\n",
    "class KNN:\n",
    "    '''KNN Classifier.\n",
    "\n",
    "    Attributes\n",
    "    ----------\n",
    "    k : int\n",
    "        Number of neighbors to consider.\n",
    "    '''\n",
    "    def __init__(self, k):\n",
    "        '''Initialization.\n",
    "        Parameters are stored as member variables/attributes.\n",
    "        \n",
    "        Parameters\n",
    "        ----------\n",
    "        k : int\n",
    "            Number of neighbors to consider.\n",
    "        '''\n",
    "        self.k = k\n",
    "\n",
    "    def fit(self, X, y):\n",
    "        '''Fit routine.\n",
    "        Training data is stored within object.\n",
    "        \n",
    "        Parameters\n",
    "        ----------\n",
    "        X : numpy.array, shape=(n_samples, n_attributes)\n",
    "            Training data.\n",
    "        y : numpy.array shape=(n_samples)\n",
    "            Training labels.\n",
    "        '''\n",
    "        self.X_train = X\n",
    "        self.y_train = y\n",
    "\n",
    "    def predict(self, X):\n",
    "        '''Prediction routine.\n",
    "        Predict class association of each sample of X.\n",
    "        \n",
    "        Parameters\n",
    "        ----------\n",
    "        X : numpy.array, shape=(n_samples, n_attributes)\n",
    "            Data to classify.\n",
    "        \n",
    "        Returns\n",
    "        -------\n",
    "        prediction : numpy.array, shape=(n_samples)\n",
    "            Predictions, containing the predicted label of each sample.\n",
    "        '''\n",
    "        prediction = []\n",
    "        for sample in X:\n",
    "            distances=np.zeros(len(self.X_train))\n",
    "            for i in range(len(distances)):\n",
    "                #distances[i] = np.linalg.norm(sample-self.X_train[i])\n",
    "                distances[i] = distance.euclidean(sample,self.X_train[i])\n",
    "            indices = np.argsort(distances)\n",
    "            keys = []\n",
    "            for k in range(self.k):\n",
    "                keys.append(self.y_train[indices[k]])\n",
    "            occurence_count = Counter(keys)\n",
    "            label = occurence_count.most_common(1)[0][0]\n",
    "            prediction.append(label)\n",
    "        return prediction"
   ]
  },
  {
   "cell_type": "markdown",
   "id": "fb087d86",
   "metadata": {},
   "source": [
    "## d)"
   ]
  },
  {
   "cell_type": "code",
   "execution_count": 2,
   "id": "b8ddf49f",
   "metadata": {},
   "outputs": [],
   "source": [
    "import pandas as pd\n",
    "\n",
    "signal = pd.read_hdf('NeutrinoMC.hdf5', key='Signal')\n",
    "background = pd.read_hdf('NeutrinoMC.hdf5', key='Background')"
   ]
  },
  {
   "cell_type": "code",
   "execution_count": 3,
   "id": "8700df38",
   "metadata": {},
   "outputs": [],
   "source": [
    "signals = signal[[\"NumberOfHits\", \"x\", \"y\"]][signal[\"x\"].notna() * signal[\"y\"].notna() * signal[\"NumberOfHits\"].notna()]\n",
    "background = background[[\"NumberOfHits\", \"x\", \"y\"]]\n",
    "events = pd.concat([signals, background])\n",
    "labels = [\"Signal\"]*len(signals)\n",
    "labels.extend([\"Background\"]*len(background))\n",
    "\n",
    "X_train = np.array(pd.concat([events[:2500], events[30000:32500]]))\n",
    "y_train = labels[:2500]\n",
    "y_train.extend(labels[30000:32500])\n",
    "y_train = np.array(y_train)\n",
    "\n",
    "X_test = np.array(pd.concat([events[:10000], events[40000:60000]]))\n",
    "y_test = labels[:10000]\n",
    "y_test.extend(labels[40000:60000])\n",
    "y_test = np.array(y_test)\n",
    "\n",
    "classification_10 = KNN(k = 10)\n",
    "classification_10.fit(X_train, y_train)\n",
    "result = classification_10.predict(X_test)"
   ]
  },
  {
   "cell_type": "markdown",
   "id": "156446f6",
   "metadata": {},
   "source": [
    "Calculating recall, precision and significance:"
   ]
  },
  {
   "cell_type": "code",
   "execution_count": 4,
   "id": "87cd82fd",
   "metadata": {},
   "outputs": [
    {
     "name": "stdout",
     "output_type": "stream",
     "text": [
      "Precision: 0.9609\n",
      "Recall: 0.8287907538381921\n",
      "Siginificance: 0.9208\n"
     ]
    }
   ],
   "source": [
    "tp = len(y_test[(y_test==result)*(y_test=='Signal')])\n",
    "fp = len(y_test[(y_test!=result)*(y_test=='Signal')])\n",
    "tn = len(y_test[(y_test==result)*(y_test=='Background')])\n",
    "fn = len(y_test[(y_test!=result)*(y_test=='Background')])\n",
    "\n",
    "print(f'Precision: {tp/(tp+fp)}')\n",
    "print(f'Recall: {tp/(tp+fn)}')\n",
    "print(f'Siginificance: {(tp+tn)/(tp+tn+fn+fp)}')"
   ]
  },
  {
   "cell_type": "markdown",
   "id": "2923e2a7",
   "metadata": {},
   "source": [
    "## e)"
   ]
  },
  {
   "cell_type": "code",
   "execution_count": 5,
   "id": "393293ef",
   "metadata": {},
   "outputs": [
    {
     "name": "stdout",
     "output_type": "stream",
     "text": [
      "Precision log10: 0.9829\n",
      "Recall log10: 0.8616638905934952\n",
      "Siginificance log10: 0.9417\n"
     ]
    }
   ],
   "source": [
    "X_train_log10 = X_train\n",
    "X_train_log10[:,0] = np.log10(X_train_log10[:,0])\n",
    "\n",
    "X_test_log10 = X_test\n",
    "X_test_log10[:,0] = np.log10(X_test_log10[:,0])\n",
    "\n",
    "classification_log10 = KNN(k = 10)\n",
    "classification_log10.fit(X_train_log10, y_train)\n",
    "result_log = classification_log10.predict(X_test_log10)\n",
    "\n",
    "tp = len(y_test[(y_test==result_log)*(y_test=='Signal')])\n",
    "fp = len(y_test[(y_test!=result_log)*(y_test=='Signal')])\n",
    "tn = len(y_test[(y_test==result_log)*(y_test=='Background')])\n",
    "fn = len(y_test[(y_test!=result_log)*(y_test=='Background')])\n",
    "\n",
    "print(f'Precision log10: {tp/(tp+fp)}')\n",
    "print(f'Recall log10: {tp/(tp+fn)}')\n",
    "print(f'Siginificance log10: {(tp+tn)/(tp+tn+fn+fp)}')"
   ]
  },
  {
   "cell_type": "markdown",
   "id": "e665e7cc",
   "metadata": {},
   "source": [
    "Precision, Recall and Significance all slightly increase, overall the result improves."
   ]
  },
  {
   "cell_type": "markdown",
   "id": "09e188ae",
   "metadata": {},
   "source": [
    "## f)"
   ]
  },
  {
   "cell_type": "code",
   "execution_count": 7,
   "id": "a0f5ab4a",
   "metadata": {},
   "outputs": [
    {
     "name": "stdout",
     "output_type": "stream",
     "text": [
      "Precision k=20: 0.9861\n",
      "Recall k=20: 0.8489883770985794\n",
      "Siginificance k=20: 0.9369\n"
     ]
    }
   ],
   "source": [
    "classification_k20 = KNN(k = 20)\n",
    "classification_k20.fit(X_train, y_train)\n",
    "result_k20 = classification_k20.predict(X_test)\n",
    "\n",
    "tp = len(y_test[(y_test==result_k20)*(y_test=='Signal')])\n",
    "fp = len(y_test[(y_test!=result_k20)*(y_test=='Signal')])\n",
    "tn = len(y_test[(y_test==result_k20)*(y_test=='Background')])\n",
    "fn = len(y_test[(y_test!=result_k20)*(y_test=='Background')])\n",
    "\n",
    "print(f'Precision k=20: {tp/(tp+fp)}')\n",
    "print(f'Recall k=20: {tp/(tp+fn)}')\n",
    "print(f'Siginificance k=20: {(tp+tn)/(tp+tn+fn+fp)}')"
   ]
  },
  {
   "cell_type": "markdown",
   "id": "eb622db6",
   "metadata": {},
   "source": [
    "The results also improve, but not quite as much as with the log10 tranformation."
   ]
  }
 ],
 "metadata": {
  "kernelspec": {
   "display_name": "Python 3 (ipykernel)",
   "language": "python",
   "name": "python3"
  },
  "language_info": {
   "codemirror_mode": {
    "name": "ipython",
    "version": 3
   },
   "file_extension": ".py",
   "mimetype": "text/x-python",
   "name": "python",
   "nbconvert_exporter": "python",
   "pygments_lexer": "ipython3",
   "version": "3.8.8"
  }
 },
 "nbformat": 4,
 "nbformat_minor": 5
}
