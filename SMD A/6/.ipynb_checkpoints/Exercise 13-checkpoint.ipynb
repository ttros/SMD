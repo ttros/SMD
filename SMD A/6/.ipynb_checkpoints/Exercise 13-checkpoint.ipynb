{
 "cells": [
  {
   "cell_type": "code",
   "execution_count": 26,
   "id": "de92f44f",
   "metadata": {},
   "outputs": [
    {
     "name": "stdout",
     "output_type": "stream",
     "text": [
      "The mean vector of population 0 is [-0.00729968  2.96367644]. The mean vector of population 1 is [6.0962719  3.17467385]\n"
     ]
    }
   ],
   "source": [
    "import pandas as pd\n",
    "import numpy as np\n",
    "import numpy.linalg as alg\n",
    "\n",
    "\n",
    "p0 = pd.read_hdf('two_populations.h5', key='P_0_10000')\n",
    "p1 = pd.read_hdf('two_populations.h5', key='P_1')\n",
    "p0_1000 = pd.read_hdf('two_populations.h5' ,key='P_0_1000')\n",
    "# a)\n",
    "p0_ = p0.to_numpy()\n",
    "p0x = p0_[:,0]\n",
    "p0y = p0_[:,1]\n",
    "p0xm = np.mean(p0x)\n",
    "p0ym = np.mean(p0y)\n",
    "mean0 = np.array([p0xm, p0ym])\n",
    "\n",
    " \n",
    "p1_ = p1.to_numpy()\n",
    "p1x = p1_[:,0]\n",
    "p1y = p1_[:,1]\n",
    "p1xm = np.mean(p1x)\n",
    "p1ym = np.mean(p1y)\n",
    "mean1 = np.array([p1xm, p1ym])\n",
    "\n",
    "print(f'The mean vector of population 0 is {mean0}. The mean vector of population 1 is {mean1}.' )\n"
   ]
  },
  {
   "cell_type": "code",
   "execution_count": null,
   "id": "d32ab9e5",
   "metadata": {},
   "outputs": [],
   "source": []
  }
 ],
 "metadata": {
  "kernelspec": {
   "display_name": "Python 3",
   "language": "python",
   "name": "python3"
  },
  "language_info": {
   "codemirror_mode": {
    "name": "ipython",
    "version": 3
   },
   "file_extension": ".py",
   "mimetype": "text/x-python",
   "name": "python",
   "nbconvert_exporter": "python",
   "pygments_lexer": "ipython3",
   "version": "3.8.8"
  }
 },
 "nbformat": 4,
 "nbformat_minor": 5
}
