{
 "cells": [
  {
   "cell_type": "markdown",
   "id": "57c0b877",
   "metadata": {},
   "source": [
    "# ACHTUNG! ALLES FALSCH, WILDES PROBIEREN\n",
    "# Exercise 9\n",
    "Angel distribution"
   ]
  },
  {
   "cell_type": "code",
   "execution_count": 41,
   "id": "d36fd7c0",
   "metadata": {},
   "outputs": [],
   "source": [
    "# importing extensions\n",
    "import numpy as np\n",
    "import matplotlib.pyplot as plt\n",
    "from mpmath import mp\n",
    "import sympy as smp\n",
    "from sympy.functions import Abs\n",
    "import scipy.optimize as opt\n",
    "\n",
    "smp.init_printing()"
   ]
  },
  {
   "cell_type": "code",
   "execution_count": 42,
   "id": "f619baf6",
   "metadata": {
    "scrolled": true
   },
   "outputs": [
    {
     "name": "stdout",
     "output_type": "stream",
     "text": [
      "Probe: 1\n",
      "N = k/(2*sinh(pi*k)) \n",
      "The normalization constant has to be:\n"
     ]
    },
    {
     "data": {
      "image/png": "[encoded data removed]",
      "text/latex": [
       "$\\displaystyle \\frac{k}{2 \\sinh{\\left(\\pi k \\right)}}$"
      ],
      "text/plain": [
       "     k     \n",
       "───────────\n",
       "2⋅sinh(π⋅k)"
      ]
     },
     "execution_count": 42,
     "metadata": {},
     "output_type": "execute_result"
    }
   ],
   "source": [
    "# determining the normalization constant N\n",
    "N, delta_phi, k = smp.symbols('N, delta_phi, k', real = True, positive = True)\n",
    "f = N*smp.exp(-(Abs(delta_phi))*k)\n",
    "f_int = smp.integrate(f, (delta_phi, -smp.pi, smp.pi))\n",
    "N = smp.solve(f_int-1, N)\n",
    "\n",
    "#N = 1/smp.sqrt((smp.exp(-2*smp.pi*k)*(smp.exp(2*smp.pi*k)-1))/k)\n",
    "N=N[0]\n",
    "f = N*smp.exp(-(Abs(delta_phi))*k)\n",
    "f_test = smp.integrate(f,(delta_phi, -smp.pi, smp.pi))\n",
    "print(f'Probe: {smp.simplify(f_test)}')\n",
    "\n",
    "print(f'N = {smp.simplify(N)} \\nThe normalization constant has to be:')\n",
    "smp.simplify(N)"
   ]
  },
  {
   "cell_type": "code",
   "execution_count": 43,
   "id": "d9b3d53b",
   "metadata": {},
   "outputs": [
    {
     "name": "stdout",
     "output_type": "stream",
     "text": [
      "CDF = -exp(-delta_phi*k)/(2*sinh(pi*k)) \n",
      "The CDF function is:\n"
     ]
    },
    {
     "data": {
      "image/png": "[encoded data removed]",
      "text/latex": [
       "$\\displaystyle - \\frac{e^{- \\delta_{\\phi} k}}{2 \\sinh{\\left(\\pi k \\right)}}$"
      ],
      "text/plain": [
       "    -δᵩ⋅k  \n",
       "  -ℯ       \n",
       "───────────\n",
       "2⋅sinh(π⋅k)"
      ]
     },
     "execution_count": 43,
     "metadata": {},
     "output_type": "execute_result"
    }
   ],
   "source": [
    "# determining the CDF function:\n",
    "f_cdf = smp.integrate(f, delta_phi)\n",
    "print(f'CDF = {smp.simplify(f_cdf)} \\nThe CDF function is:')\n",
    "smp.simplify(f_cdf)"
   ]
  }
 ],
 "metadata": {
  "kernelspec": {
   "display_name": "Python 3 (ipykernel)",
   "language": "python",
   "name": "python3"
  },
  "language_info": {
   "codemirror_mode": {
    "name": "ipython",
    "version": 3
   },
   "file_extension": ".py",
   "mimetype": "text/x-python",
   "name": "python",
   "nbconvert_exporter": "python",
   "pygments_lexer": "ipython3",
   "version": "3.8.8"
  }
 },
 "nbformat": 4,
 "nbformat_minor": 5
}
