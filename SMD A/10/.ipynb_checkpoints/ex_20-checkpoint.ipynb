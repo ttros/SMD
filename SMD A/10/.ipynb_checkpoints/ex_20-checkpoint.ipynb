{
 "cells": [
  {
   "cell_type": "markdown",
   "id": "d5d6d916",
   "metadata": {},
   "source": [
    "# Exercise 20"
   ]
  },
  {
   "cell_type": "markdown",
   "id": "7ca9bf71",
   "metadata": {},
   "source": [
    "## a)\n",
    "The k-NN algorithm only works if all attributes have a similar magnitude, since comparing distances\n",
    "is only effective the attributes are in the same order of magnitude."
   ]
  },
  {
   "cell_type": "markdown",
   "id": "c7e5c293",
   "metadata": {},
   "source": [
    "## b)"
   ]
  },
  {
   "cell_type": "code",
   "execution_count": null,
   "id": "585ae4c8",
   "metadata": {},
   "outputs": [],
   "source": []
  }
 ],
 "metadata": {
  "kernelspec": {
   "display_name": "Python 3 (ipykernel)",
   "language": "python",
   "name": "python3"
  },
  "language_info": {
   "codemirror_mode": {
    "name": "ipython",
    "version": 3
   },
   "file_extension": ".py",
   "mimetype": "text/x-python",
   "name": "python",
   "nbconvert_exporter": "python",
   "pygments_lexer": "ipython3",
   "version": "3.10.4"
  }
 },
 "nbformat": 4,
 "nbformat_minor": 5
}
