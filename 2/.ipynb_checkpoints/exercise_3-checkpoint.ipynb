{
 "cells": [
  {
   "cell_type": "markdown",
   "id": "fd78c4c8",
   "metadata": {},
   "source": [
    "# Exercise 3"
   ]
  },
  {
   "cell_type": "markdown",
   "id": "d5397595",
   "metadata": {},
   "source": [
    "a) The following combinations of pips are possible to get a total of 9 pips:\n",
    "    \\begin{align*}\n",
    "        3+6 &= 9 \\\\\n",
    "        4+5 &= 9\n",
    "    \\end{align*}\n",
    "    Each sum can occur twice, depending on the colours of the dice.\n"
   ]
  },
  {
   "cell_type": "code",
   "execution_count": 39,
   "id": "3099dc71",
   "metadata": {},
   "outputs": [
    {
     "name": "stdout",
     "output_type": "stream",
     "text": [
      "P(W_red+W_blue=9)=0.1111111111111111=11.11111111111111%\n"
     ]
    }
   ],
   "source": [
    "#probability for each number of pips:\n",
    "p_1=p_2=p_3=p_4=p_5=p_6=1/6\n",
    "\n",
    "P_A=2*p_3*p_6+2*p_4*p_5\n",
    "print(f'P(W_red+W_blue=9)={P_A}={P_A*100}%')"
   ]
  },
  {
   "cell_type": "markdown",
   "id": "c2f627f3",
   "metadata": {},
   "source": [
    "b) Additionally to a), the sum of 10, 11 or 12 are now also allowed. The new combinations are:\n",
    "   \\begin{align*}\n",
    "        5+5 &= 10 \\\\\n",
    "        4+6 &= 10 \\\\\n",
    "        5+6 &= 11 \\\\\n",
    "        6+6 &= 12\n",
    "    \\end{align*}\n",
    "    Again each sum has two ways to occur, now we only have to add this result to our result from a)."
   ]
  },
  {
   "cell_type": "code",
   "execution_count": 40,
   "id": "11baef05",
   "metadata": {},
   "outputs": [
    {
     "name": "stdout",
     "output_type": "stream",
     "text": [
      "P(W_red+W_blue>8)=0.3333333333333333=33.33333333333333%\n"
     ]
    }
   ],
   "source": [
    "P_B=2*p_5*p_5+2*p_4*p_6+2*p_5*p_6+2*p_6*p_6\n",
    "print(f'P(W_red+W_blue>8)={P_A+P_B}={(P_A+P_B)*100}%')"
   ]
  },
  {
   "cell_type": "markdown",
   "id": "305d7bfd",
   "metadata": {},
   "source": [
    "c) There are only two possibilities for this to happen:"
   ]
  },
  {
   "cell_type": "code",
   "execution_count": 41,
   "id": "5e1dd511",
   "metadata": {
    "scrolled": true
   },
   "outputs": [
    {
     "name": "stdout",
     "output_type": "stream",
     "text": [
      "P(W_red=4,W_blue=5)+P(W_red=5,W_blue=4)=0.05555555555555555=5.555555555555555%\n"
     ]
    }
   ],
   "source": [
    "P_C=2*p_4*p_5\n",
    "print(f'P(W_red=4,W_blue=5)+P(W_red=5,W_blue=4)={P_C}={P_C*100}%')"
   ]
  },
  {
   "cell_type": "markdown",
   "id": "3064576d",
   "metadata": {},
   "source": [
    "d) There is only one event that allows this configuration:"
   ]
  },
  {
   "cell_type": "code",
   "execution_count": 42,
   "id": "9932bad3",
   "metadata": {},
   "outputs": [
    {
     "name": "stdout",
     "output_type": "stream",
     "text": [
      "P(W_red=4,W_blue=5)=0.027777777777777776=2.7777777777777777%\n"
     ]
    }
   ],
   "source": [
    "P_D=p_4*p_5\n",
    "print(f'P(W_red=4,W_blue=5)={P_D}={P_D*100}%')"
   ]
  },
  {
   "cell_type": "markdown",
   "id": "01d249fe",
   "metadata": {},
   "source": [
    "e) Now there is only a single way to reach a sum of 9, since it is already known that the red dice has a pip number of 4."
   ]
  },
  {
   "cell_type": "code",
   "execution_count": 43,
   "id": "6ee7379d",
   "metadata": {},
   "outputs": [
    {
     "name": "stdout",
     "output_type": "stream",
     "text": [
      "P(W_red+W_blue=9|W_red=4)=0.16666666666666666=16.666666666666664%\n"
     ]
    }
   ],
   "source": [
    "P_E=p_5\n",
    "print(f'P(W_red+W_blue=9|W_red=4)={P_E}={P_E*100}%')"
   ]
  },
  {
   "cell_type": "markdown",
   "id": "b411a475",
   "metadata": {},
   "source": [
    "f) Here we have to find the probability of the blue dice having a pip number larger than 4, because\n",
    "    \\begin{equation*}\n",
    "    4+x>8\\,\\text{,for all}\\,x>4\n",
    "    \\end{equation*}"
   ]
  },
  {
   "cell_type": "code",
   "execution_count": 44,
   "id": "7a9ec765",
   "metadata": {},
   "outputs": [
    {
     "name": "stdout",
     "output_type": "stream",
     "text": [
      "P(W_red+W_blue>8|W_red=4)=0.3333333333333333=33.33333333333333%\n"
     ]
    }
   ],
   "source": [
    "P_F=p_5+p_6\n",
    "print(f'P(W_red+W_blue>8|W_red=4)={P_F}={P_F*100}%')"
   ]
  },
  {
   "cell_type": "markdown",
   "id": "58b82a5d",
   "metadata": {},
   "source": [
    "g) At last, the probability here is simply the probability that the blue dice has a pip number of 5:"
   ]
  },
  {
   "cell_type": "code",
   "execution_count": 46,
   "id": "eef3dcca",
   "metadata": {
    "scrolled": true
   },
   "outputs": [
    {
     "name": "stdout",
     "output_type": "stream",
     "text": [
      "P(W_blue=5|W_red=4)= 0.16666666666666666=16.666666666666664%\n"
     ]
    }
   ],
   "source": [
    "P_G=p_5\n",
    "print(f'P(W_blue=5|W_red=4)= {P_G}={P_G*100}%')"
   ]
  }
 ],
 "metadata": {
  "kernelspec": {
   "display_name": "Python 3 (ipykernel)",
   "language": "python",
   "name": "python3"
  },
  "language_info": {
   "codemirror_mode": {
    "name": "ipython",
    "version": 3
   },
   "file_extension": ".py",
   "mimetype": "text/x-python",
   "name": "python",
   "nbconvert_exporter": "python",
   "pygments_lexer": "ipython3",
   "version": "3.10.4"
  }
 },
 "nbformat": 4,
 "nbformat_minor": 5
}
