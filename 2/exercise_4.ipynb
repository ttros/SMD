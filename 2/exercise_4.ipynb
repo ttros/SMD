{
 "cells": [
  {
   "cell_type": "code",
   "execution_count": 24,
   "id": "5ebf9039",
   "metadata": {},
   "outputs": [],
   "source": [
    "# importing extensions\n",
    "import numpy as np\n",
    "import matplotlib.pyplot as plt\n",
    "from mpmath import mp\n",
    "import sympy as smp\n",
    "import scipy.optimize as opt\n",
    "\n",
    "smp.init_printing()\n",
    "\n",
    "# defining constants\n",
    "\n",
    "#k_b = 1.3* 10**(-23) # unit: (m^2*kg)/(s^2*K^1) \n",
    "\n",
    "# defining function\n",
    "\n",
    "def f(v, N, T, m, k_b):\n",
    "    return (N * smp.exp(((-1)*(v**2)*m)/(2*k_b*T))*4*smp.pi*v**2)"
   ]
  },
  {
   "cell_type": "markdown",
   "id": "b583a1c0",
   "metadata": {},
   "source": [
    "The normalization constant makes sure, that the function integrated over the whole area equals 1, therefore we can calculate it, by calculating the definite integral from $-\\infty$ to $+\\infty$ and making it equal 1."
   ]
  },
  {
   "cell_type": "code",
   "execution_count": 25,
   "id": "1b1653b7",
   "metadata": {},
   "outputs": [
    {
     "name": "stdout",
     "output_type": "stream",
     "text": [
      "N = [sqrt(2)*m**(3/2)/(4*pi**(3/2)*T**(3/2)*k_b**(3/2))] \n",
      "And also a prettier symbolize output:\n"
     ]
    },
    {
     "data": {
      "image/png": "[encoded data removed]",
      "text/latex": [
       "$\\displaystyle \\left[ \\frac{\\sqrt{2} m^{\\frac{3}{2}}}{4 \\pi^{\\frac{3}{2}} T^{\\frac{3}{2}} k_{b}^{\\frac{3}{2}}}\\right]$"
      ],
      "text/plain": [
       "⎡         3/2      ⎤\n",
       "⎢     √2⋅m         ⎥\n",
       "⎢──────────────────⎥\n",
       "⎢   3/2  3/2    3/2⎥\n",
       "⎣4⋅π   ⋅T   ⋅k_b   ⎦"
      ]
     },
     "execution_count": 25,
     "metadata": {},
     "output_type": "execute_result"
    }
   ],
   "source": [
    "# determining the normalization constant N\n",
    "\n",
    "v, N, T, m, k_b = smp.symbols('v N T m k_b', real = True, positive = True)\n",
    "f = N * smp.exp(((-1)*(v**2)*m)/(2*k_b*T))*4*smp.pi*v**2\n",
    "f_int = smp.integrate(f, (v, 0, smp.oo))\n",
    "N = smp.solve(f_int-1, N)\n",
    "print(f'N = {N} \\nAnd also a prettier symbolize output:')\n",
    "N"
   ]
  },
  {
   "cell_type": "markdown",
   "id": "13ed55fd",
   "metadata": {},
   "source": [
    "A)"
   ]
  },
  {
   "cell_type": "markdown",
   "id": "ca0b432e",
   "metadata": {},
   "source": [
    "The most probable velocity $v_m$ ist the maximum of $f(v)$. We have to calculate the derivative and make it equal 0."
   ]
  },
  {
   "cell_type": "code",
   "execution_count": 27,
   "id": "2ca8c6c6",
   "metadata": {
    "scrolled": true
   },
   "outputs": [
    {
     "name": "stdout",
     "output_type": "stream",
     "text": [
      "the most probable velocity v_m is v_m(m, T) = 0.176776695296637*pi**(-1.5)*T**(-1.5)*k_b**(-1.5)*m**1.5 \n",
      "And again the symbolized output:\n"
     ]
    },
    {
     "data": {
      "image/png": "[encoded data removed]",
      "text/latex": [
       "$\\displaystyle \\frac{\\sqrt{2} \\sqrt{T} \\sqrt{k_{b}}}{\\sqrt{m}}$"
      ],
      "text/plain": [
       "        _____\n",
       "√2⋅√T⋅╲╱ k_b \n",
       "─────────────\n",
       "      √m     "
      ]
     },
     "execution_count": 27,
     "metadata": {},
     "output_type": "execute_result"
    }
   ],
   "source": [
    "N = m**(3/2)/(2**(5/2)*smp.pi**(3/2)*T**(3/2)*k_b**(3/2))\n",
    "v_m = smp.solve(smp.diff(f,v), v)\n",
    "print(f'the most probable velocity v_m is v_m(m, T) = {N} \\nAnd again the symbolized output:')\n",
    "v_m[0]"
   ]
  },
  {
   "cell_type": "markdown",
   "id": "35b4de65",
   "metadata": {},
   "source": [
    "B)"
   ]
  },
  {
   "cell_type": "markdown",
   "id": "59144aac",
   "metadata": {},
   "source": [
    "The mean of a value $x$ of a distribution $f(x)$ is given by \n",
    "\\begin{equation}\n",
    "    E[X] = \\int_{-\\infty}^{+\\infty} x f(x) \\,dx\n",
    "\\end{equation}"
   ]
  },
  {
   "cell_type": "code",
   "execution_count": 30,
   "id": "9484ceb6",
   "metadata": {},
   "outputs": [
    {
     "name": "stdout",
     "output_type": "stream",
     "text": [
      "the mean of the velocity is v_mean = 0.353553390593274*pi**(-0.5)*T**(-1.5)*k_b**(-1.5)*m**1.5*v_m**2 \n",
      "And the symbolized output:\n"
     ]
    },
    {
     "data": {
      "image/png": "[encoded data removed]",
      "text/latex": [
       "$\\displaystyle \\frac{0.353553390593274 m^{1.5} v_{m}^{2}}{\\pi^{0.5} T^{1.5} k_{b}^{1.5}}$"
      ],
      "text/plain": [
       "                   -0.5  -1.5    -1.5  1.5   2\n",
       "0.353553390593274⋅π    ⋅T    ⋅k_b    ⋅m   ⋅vₘ "
      ]
     },
     "execution_count": 30,
     "metadata": {},
     "output_type": "execute_result"
    }
   ],
   "source": [
    "#calculating the mean of v\n",
    "v_m = smp.symbols('v_m', real = True, positive = True)\n",
    "f_v = N * smp.exp(-v**2*v_m**(-1))*4*smp.pi*v**2\n",
    "v_mean = smp.integrate(f_v*v, (v, 0, smp.oo))\n",
    "print(f'the mean of the velocity is v_mean = {v_mean} \\nAnd the symbolized output:')\n",
    "v_mean"
   ]
  },
  {
   "cell_type": "markdown",
   "id": "17ed3eb9",
   "metadata": {},
   "source": [
    "C)"
   ]
  },
  {
   "cell_type": "code",
   "execution_count": 17,
   "id": "b0668710",
   "metadata": {},
   "outputs": [],
   "source": [
    "#The median is the distributions 0.5-quantile\n"
   ]
  },
  {
   "cell_type": "markdown",
   "id": "35abf361",
   "metadata": {},
   "source": [
    "D)"
   ]
  },
  {
   "cell_type": "code",
   "execution_count": null,
   "id": "61b18f1c",
   "metadata": {},
   "outputs": [],
   "source": []
  },
  {
   "cell_type": "code",
   "execution_count": null,
   "id": "548ed301",
   "metadata": {},
   "outputs": [],
   "source": []
  }
 ],
 "metadata": {
  "kernelspec": {
   "display_name": "Python 3",
   "language": "python",
   "name": "python3"
  },
  "language_info": {
   "codemirror_mode": {
    "name": "ipython",
    "version": 3
   },
   "file_extension": ".py",
   "mimetype": "text/x-python",
   "name": "python",
   "nbconvert_exporter": "python",
   "pygments_lexer": "ipython3",
   "version": "3.8.8"
  }
 },
 "nbformat": 4,
 "nbformat_minor": 5
}
