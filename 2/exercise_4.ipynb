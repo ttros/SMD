{
 "cells": [
  {
   "cell_type": "code",
   "execution_count": 1,
   "id": "5ebf9039",
   "metadata": {},
   "outputs": [],
   "source": [
    "# importing extensions\n",
    "import numpy as np\n",
    "import matplotlib.pyplot as plt\n",
    "from mpmath import mp\n",
    "import sympy as smp\n",
    "import scipy.optimize as opt\n",
    "\n",
    "smp.init_printing()\n",
    "\n",
    "# defining constants\n",
    "\n",
    "#k_b = 1.3* 10**(-23) # unit: (m^2*kg)/(s^2*K^1) \n",
    "\n",
    "# defining function\n",
    "\n",
    "def f(v, N, T, m, k_b):\n",
    "    return (N * smp.exp(((-1)*(v**2)*m)/(2*k_b*T))*4*smp.pi*v**2)"
   ]
  },
  {
   "cell_type": "markdown",
   "id": "b583a1c0",
   "metadata": {},
   "source": [
    "The normalization constant makes sure, that the function integrated over the whole area equals 1, therefore we can calculate it, by calculating the definite integral from $-\\infty$ to $+\\infty$ and making it equal 1."
   ]
  },
  {
   "cell_type": "code",
   "execution_count": 2,
   "id": "1b1653b7",
   "metadata": {},
   "outputs": [
    {
     "name": "stdout",
     "output_type": "stream",
     "text": [
      "N = [sqrt(2)*m**(3/2)/(4*pi**(3/2)*T**(3/2)*k_b**(3/2))] \n",
      "And also a prettier symbolize output:\n"
     ]
    },
    {
     "data": {
      "image/png": "[encoded data removed]",
      "text/latex": [
       "$\\displaystyle \\left[ \\frac{\\sqrt{2} m^{\\frac{3}{2}}}{4 \\pi^{\\frac{3}{2}} T^{\\frac{3}{2}} k_{b}^{\\frac{3}{2}}}\\right]$"
      ],
      "text/plain": [
       "⎡         3/2      ⎤\n",
       "⎢     √2⋅m         ⎥\n",
       "⎢──────────────────⎥\n",
       "⎢   3/2  3/2    3/2⎥\n",
       "⎣4⋅π   ⋅T   ⋅k_b   ⎦"
      ]
     },
     "execution_count": 2,
     "metadata": {},
     "output_type": "execute_result"
    }
   ],
   "source": [
    "# determining the normalization constant N\n",
    "\n",
    "v, N, T, m, k_b = smp.symbols('v N T m k_b', real = True, positive = True)\n",
    "f = N * smp.exp(((-1)*(v**2)*m)/(2*k_b*T))*4*smp.pi*v**2\n",
    "f_int = smp.integrate(f, (v, 0, smp.oo))\n",
    "N = smp.solve(f_int-1, N)\n",
    "print(f'N = {N} \\nAnd also a prettier symbolize output:')\n",
    "N"
   ]
  },
  {
   "cell_type": "markdown",
   "id": "13ed55fd",
   "metadata": {},
   "source": [
    "A)"
   ]
  },
  {
   "cell_type": "markdown",
   "id": "ca0b432e",
   "metadata": {},
   "source": [
    "The most probable velocity $v_m$ ist the maximum of $f(v)$. We have to calculate the derivative and make it equal 0."
   ]
  },
  {
   "cell_type": "code",
   "execution_count": 3,
   "id": "2ca8c6c6",
   "metadata": {
    "scrolled": true
   },
   "outputs": [
    {
     "name": "stdout",
     "output_type": "stream",
     "text": [
      "the most probable velocity v_m is v_m(m, T) = [sqrt(2)*m**(3/2)/(4*pi**(3/2)*T**(3/2)*k_b**(3/2))] \n",
      "And again the symbolized output:\n"
     ]
    },
    {
     "data": {
      "image/png": "[encoded data removed]",
      "text/latex": [
       "$\\displaystyle \\frac{\\sqrt{2} \\sqrt{T} \\sqrt{k_{b}}}{\\sqrt{m}}$"
      ],
      "text/plain": [
       "        _____\n",
       "√2⋅√T⋅╲╱ k_b \n",
       "─────────────\n",
       "      √m     "
      ]
     },
     "execution_count": 3,
     "metadata": {},
     "output_type": "execute_result"
    }
   ],
   "source": [
    "\n",
    "v_m = smp.solve(smp.diff(f,v), v)\n",
    "print(f'the most probable velocity v_m is v_m(m, T) = {N} \\nAnd again the symbolized output:')\n",
    "v_m[0]"
   ]
  },
  {
   "cell_type": "markdown",
   "id": "35b4de65",
   "metadata": {},
   "source": [
    "B)"
   ]
  },
  {
   "cell_type": "markdown",
   "id": "59144aac",
   "metadata": {},
   "source": [
    "The mean of a value $x$ of a distribution $f(x)$ is given by \n",
    "\\begin{equation}\n",
    "    E[X] = \\int_{-\\infty}^{+\\infty} x f(x) \\,dx\n",
    "\\end{equation}"
   ]
  },
  {
   "cell_type": "code",
   "execution_count": 4,
   "id": "9484ceb6",
   "metadata": {},
   "outputs": [
    {
     "name": "stdout",
     "output_type": "stream",
     "text": [
      "the mean of the velocity is v_mean = 2/v_m \n",
      "And the symbolized output:\n"
     ]
    },
    {
     "data": {
      "image/png": "[encoded data removed]",
      "text/latex": [
       "$\\displaystyle \\frac{2}{v_{m}}$"
      ],
      "text/plain": [
       "2 \n",
       "──\n",
       "vₘ"
      ]
     },
     "execution_count": 4,
     "metadata": {},
     "output_type": "execute_result"
    }
   ],
   "source": [
    "#calculating the mean of v\n",
    "v_m, N = smp.symbols('v_m N', real = True, positive = True)\n",
    "N = (smp.pi * v_m**3)**(-1)  #defnining N depending on v_m\n",
    "f_v = N * smp.exp(-v**2*v_m**(-1))*4*smp.pi*v**2     #making f_v depend on v_m and v (N is depending on v_m)\n",
    "v_mean = smp.integrate(f_v*v, (v, 0, smp.oo))\n",
    "print(f'the mean of the velocity is v_mean = {v_mean} \\nAnd the symbolized output:')\n",
    "v_mean"
   ]
  },
  {
   "cell_type": "markdown",
   "id": "17ed3eb9",
   "metadata": {},
   "source": [
    "C)"
   ]
  },
  {
   "cell_type": "code",
   "execution_count": 5,
   "id": "b0668710",
   "metadata": {},
   "outputs": [
    {
     "ename": "TypeError",
     "evalue": "Mul object argument after * must be an iterable, not Symbol",
     "output_type": "error",
     "traceback": [
      "\u001b[0;31m---------------------------------------------------------------------------\u001b[0m",
      "\u001b[0;31mTypeError\u001b[0m                                 Traceback (most recent call last)",
      "Input \u001b[0;32mIn [5]\u001b[0m, in \u001b[0;36m<cell line: 5>\u001b[0;34m()\u001b[0m\n\u001b[1;32m      3\u001b[0m b \u001b[38;5;241m=\u001b[39m smp\u001b[38;5;241m.\u001b[39msymbols(\u001b[38;5;124m'\u001b[39m\u001b[38;5;124mb\u001b[39m\u001b[38;5;124m'\u001b[39m, real \u001b[38;5;241m=\u001b[39m \u001b[38;5;28;01mTrue\u001b[39;00m, positive \u001b[38;5;241m=\u001b[39m \u001b[38;5;28;01mTrue\u001b[39;00m)\n\u001b[1;32m      4\u001b[0m v_me \u001b[38;5;241m=\u001b[39m smp\u001b[38;5;241m.\u001b[39mintegrate(f_v, (v, \u001b[38;5;241m0\u001b[39m, b))\n\u001b[0;32m----> 5\u001b[0m v_med \u001b[38;5;241m=\u001b[39m \u001b[43mopt\u001b[49m\u001b[38;5;241;43m.\u001b[39;49m\u001b[43mfixed_point\u001b[49m\u001b[43m(\u001b[49m\u001b[43mv_me\u001b[49m\u001b[43m,\u001b[49m\u001b[43m \u001b[49m\u001b[38;5;241;43m0.5\u001b[39;49m\u001b[43m,\u001b[49m\u001b[43m \u001b[49m\u001b[43margs\u001b[49m\u001b[38;5;241;43m=\u001b[39;49m\u001b[43m(\u001b[49m\u001b[43mv_m\u001b[49m\u001b[43m)\u001b[49m\u001b[43m)\u001b[49m\n\u001b[1;32m      6\u001b[0m \u001b[38;5;66;03m#v_med = smp.solve(smp.integrate(f_v, (v, 0, b)) -0.5, b)\u001b[39;00m\n\u001b[1;32m      7\u001b[0m v_med\n",
      "File \u001b[0;32m~/.local/anaconda3/lib/python3.8/site-packages/scipy/optimize/minpack.py:942\u001b[0m, in \u001b[0;36mfixed_point\u001b[0;34m(func, x0, args, xtol, maxiter, method)\u001b[0m\n\u001b[1;32m    940\u001b[0m use_accel \u001b[38;5;241m=\u001b[39m {\u001b[38;5;124m'\u001b[39m\u001b[38;5;124mdel2\u001b[39m\u001b[38;5;124m'\u001b[39m: \u001b[38;5;28;01mTrue\u001b[39;00m, \u001b[38;5;124m'\u001b[39m\u001b[38;5;124miteration\u001b[39m\u001b[38;5;124m'\u001b[39m: \u001b[38;5;28;01mFalse\u001b[39;00m}[method]\n\u001b[1;32m    941\u001b[0m x0 \u001b[38;5;241m=\u001b[39m _asarray_validated(x0, as_inexact\u001b[38;5;241m=\u001b[39m\u001b[38;5;28;01mTrue\u001b[39;00m)\n\u001b[0;32m--> 942\u001b[0m \u001b[38;5;28;01mreturn\u001b[39;00m \u001b[43m_fixed_point_helper\u001b[49m\u001b[43m(\u001b[49m\u001b[43mfunc\u001b[49m\u001b[43m,\u001b[49m\u001b[43m \u001b[49m\u001b[43mx0\u001b[49m\u001b[43m,\u001b[49m\u001b[43m \u001b[49m\u001b[43margs\u001b[49m\u001b[43m,\u001b[49m\u001b[43m \u001b[49m\u001b[43mxtol\u001b[49m\u001b[43m,\u001b[49m\u001b[43m \u001b[49m\u001b[43mmaxiter\u001b[49m\u001b[43m,\u001b[49m\u001b[43m \u001b[49m\u001b[43muse_accel\u001b[49m\u001b[43m)\u001b[49m\n",
      "File \u001b[0;32m~/.local/anaconda3/lib/python3.8/site-packages/scipy/optimize/minpack.py:884\u001b[0m, in \u001b[0;36m_fixed_point_helper\u001b[0;34m(func, x0, args, xtol, maxiter, use_accel)\u001b[0m\n\u001b[1;32m    882\u001b[0m p0 \u001b[38;5;241m=\u001b[39m x0\n\u001b[1;32m    883\u001b[0m \u001b[38;5;28;01mfor\u001b[39;00m i \u001b[38;5;129;01min\u001b[39;00m \u001b[38;5;28mrange\u001b[39m(maxiter):\n\u001b[0;32m--> 884\u001b[0m     p1 \u001b[38;5;241m=\u001b[39m func(p0, \u001b[38;5;241m*\u001b[39margs)\n\u001b[1;32m    885\u001b[0m     \u001b[38;5;28;01mif\u001b[39;00m use_accel:\n\u001b[1;32m    886\u001b[0m         p2 \u001b[38;5;241m=\u001b[39m func(p1, \u001b[38;5;241m*\u001b[39margs)\n",
      "\u001b[0;31mTypeError\u001b[0m: Mul object argument after * must be an iterable, not Symbol"
     ]
    }
   ],
   "source": [
    "#The median is the distributions 0.5-quantile\n",
    "#v_me = smp.integrate(f_v, (v, 0, smp.oo))\n",
    "b = smp.symbols('b', real = True, positive = True)\n",
    "v_me = smp.integrate(f_v, (v, 0, b))\n",
    "v_med = opt.fixed_point(v_me, 0.5, args=(v_m))\n",
    "#v_med = smp.solve(smp.integrate(f_v, (v, 0, b)) -0.5, b)\n",
    "v_med"
   ]
  },
  {
   "cell_type": "markdown",
   "id": "35abf361",
   "metadata": {},
   "source": [
    "D)"
   ]
  },
  {
   "cell_type": "code",
   "execution_count": null,
   "id": "61b18f1c",
   "metadata": {},
   "outputs": [],
   "source": []
  },
  {
   "cell_type": "code",
   "execution_count": null,
   "id": "548ed301",
   "metadata": {},
   "outputs": [],
   "source": []
  }
 ],
 "metadata": {
  "kernelspec": {
   "display_name": "Python 3 (ipykernel)",
   "language": "python",
   "name": "python3"
  },
  "language_info": {
   "codemirror_mode": {
    "name": "ipython",
    "version": 3
   },
   "file_extension": ".py",
   "mimetype": "text/x-python",
   "name": "python",
   "nbconvert_exporter": "python",
   "pygments_lexer": "ipython3",
   "version": "3.8.8"
  }
 },
 "nbformat": 4,
 "nbformat_minor": 5
}
