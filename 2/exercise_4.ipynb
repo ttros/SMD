{
 "cells": [
  {
   "cell_type": "code",
   "execution_count": 2,
   "id": "5ebf9039",
   "metadata": {},
   "outputs": [],
   "source": [
    "# importing extensions\n",
    "import numpy as np\n",
    "import matplotlib.pyplot as plt\n",
    "from mpmath import mp\n",
    "import sympy as smp\n",
    "import scipy.optimize as opt\n",
    "\n",
    "smp.init_printing()\n",
    "\n",
    "# defining constants\n",
    "\n",
    "#k_b = 1.3* 10**(-23) # unit: (m^2*kg)/(s^2*K^1) \n",
    "\n",
    "# defining function\n",
    "\n",
    "def f(v, N, T, m, k_b):\n",
    "    return (N * smp.exp(((-1)*(v**2)*m)/(2*k_b*T))*4*smp.pi*v**2)"
   ]
  },
  {
   "cell_type": "markdown",
   "id": "b583a1c0",
   "metadata": {},
   "source": [
    "The normalization constant makes sure, that the function integrated over the whole area equals 1, therefore we can calculate it, by calculating the definite integral from $-\\infty$ to $+\\infty$ and making it equal 1."
   ]
  },
  {
   "cell_type": "code",
   "execution_count": 3,
   "id": "1b1653b7",
   "metadata": {},
   "outputs": [
    {
     "name": "stdout",
     "output_type": "stream",
     "text": [
      "N = [sqrt(2)*m**(3/2)/(4*pi**(3/2)*T**(3/2)*k_b**(3/2))] \n",
      "And also a prettier symbolize output:\n"
     ]
    },
    {
     "data": {
      "image/png": "[encoded data removed]",
      "text/latex": [
       "$\\displaystyle \\left[ \\frac{\\sqrt{2} m^{\\frac{3}{2}}}{4 \\pi^{\\frac{3}{2}} T^{\\frac{3}{2}} k_{b}^{\\frac{3}{2}}}\\right]$"
      ],
      "text/plain": [
       "⎡         3/2      ⎤\n",
       "⎢     √2⋅m         ⎥\n",
       "⎢──────────────────⎥\n",
       "⎢   3/2  3/2    3/2⎥\n",
       "⎣4⋅π   ⋅T   ⋅k_b   ⎦"
      ]
     },
     "execution_count": 3,
     "metadata": {},
     "output_type": "execute_result"
    }
   ],
   "source": [
    "# determining the normalization constant N\n",
    "\n",
    "v, N, T, m, k_b = smp.symbols('v N T m k_b', real = True, positive = True)\n",
    "f = N * smp.exp(((-1)*(v**2)*m)/(2*k_b*T))*4*smp.pi*v**2\n",
    "f_int = smp.integrate(f, (v, 0, smp.oo))\n",
    "N = smp.solve(f_int-1, N)\n",
    "print(f'N = {N} \\nAnd also a prettier symbolize output:')\n",
    "N"
   ]
  },
  {
   "cell_type": "markdown",
   "id": "13ed55fd",
   "metadata": {},
   "source": [
    "A)"
   ]
  },
  {
   "cell_type": "markdown",
   "id": "ca0b432e",
   "metadata": {},
   "source": [
    "The most probable velocity $v_m$ ist the maximum of $f(v)$. We have to calculate the derivative and make it equal 0."
   ]
  },
  {
   "cell_type": "code",
   "execution_count": 11,
   "id": "2ca8c6c6",
   "metadata": {
    "scrolled": true
   },
   "outputs": [
    {
     "name": "stdout",
     "output_type": "stream",
     "text": [
      "the most probable velocity v_m is v_m(m, T) = 1/(pi*v_m**3) \n",
      "And again the symbolized output:\n"
     ]
    },
    {
     "data": {
      "image/png": "[encoded data removed]",
      "text/latex": [
       "$\\displaystyle \\frac{\\sqrt{2} \\sqrt{T} \\sqrt{k_{b}}}{\\sqrt{m}}$"
      ],
      "text/plain": [
       "        _____\n",
       "√2⋅√T⋅╲╱ k_b \n",
       "─────────────\n",
       "      √m     "
      ]
     },
     "execution_count": 11,
     "metadata": {},
     "output_type": "execute_result"
    }
   ],
   "source": [
    "\n",
    "v_m = smp.solve(smp.diff(f,v), v)\n",
    "print(f'the most probable velocity v_m is v_m(m, T) = {N} \\nAnd again the symbolized output:')\n",
    "v_m[0]"
   ]
  },
  {
   "cell_type": "markdown",
   "id": "35b4de65",
   "metadata": {},
   "source": [
    "B)"
   ]
  },
  {
   "cell_type": "markdown",
   "id": "59144aac",
   "metadata": {},
   "source": [
    "The mean of a value $x$ of a distribution $f(x)$ is given by \n",
    "\\begin{equation}\n",
    "    E[X] = \\int_{-\\infty}^{+\\infty} x f(x) \\,dx\n",
    "\\end{equation}"
   ]
  },
  {
   "cell_type": "code",
   "execution_count": 13,
   "id": "9484ceb6",
   "metadata": {},
   "outputs": [
    {
     "name": "stdout",
     "output_type": "stream",
     "text": [
      "the mean of the velocity is v_mean = 2/v_m \n",
      "And the symbolized output:\n"
     ]
    },
    {
     "data": {
      "image/png": "[encoded data removed]",
      "text/latex": [
       "$\\displaystyle \\frac{2}{v_{m}}$"
      ],
      "text/plain": [
       "2 \n",
       "──\n",
       "vₘ"
      ]
     },
     "execution_count": 13,
     "metadata": {},
     "output_type": "execute_result"
    }
   ],
   "source": [
    "#calculating the mean of v\n",
    "v_m, N = smp.symbols('v_m N', real = True, positive = True)\n",
    "N = (smp.pi * v_m**3)**(-1)  #defnining N depending on v_m\n",
    "f_v = N * smp.exp(-v**2*v_m**(-1))*4*smp.pi*v**2     #making f_v depend on v_m and v (N is depending on v_m)\n",
    "v_mean = smp.integrate(f_v*v, (v, 0, smp.oo))\n",
    "print(f'the mean of the velocity is v_mean = {v_mean} \\nAnd the symbolized output:')\n",
    "v_mean"
   ]
  },
  {
   "cell_type": "markdown",
   "id": "17ed3eb9",
   "metadata": {},
   "source": [
    "C)"
   ]
  },
  {
   "cell_type": "code",
   "execution_count": 24,
   "id": "b0668710",
   "metadata": {},
   "outputs": [
    {
     "ename": "TypeError",
     "evalue": "'Mul' object is not callable",
     "output_type": "error",
     "traceback": [
      "\u001b[0;31m---------------------------------------------------------------------------\u001b[0m",
      "\u001b[0;31mTypeError\u001b[0m                                 Traceback (most recent call last)",
      "\u001b[0;32m<ipython-input-24-c91bcb7af3f2>\u001b[0m in \u001b[0;36m<module>\u001b[0;34m\u001b[0m\n\u001b[1;32m      3\u001b[0m \u001b[0mb\u001b[0m \u001b[0;34m=\u001b[0m \u001b[0msmp\u001b[0m\u001b[0;34m.\u001b[0m\u001b[0msymbols\u001b[0m\u001b[0;34m(\u001b[0m\u001b[0;34m'b'\u001b[0m\u001b[0;34m,\u001b[0m \u001b[0mreal\u001b[0m \u001b[0;34m=\u001b[0m \u001b[0;32mTrue\u001b[0m\u001b[0;34m,\u001b[0m \u001b[0mpositive\u001b[0m \u001b[0;34m=\u001b[0m \u001b[0;32mTrue\u001b[0m\u001b[0;34m)\u001b[0m\u001b[0;34m\u001b[0m\u001b[0;34m\u001b[0m\u001b[0m\n\u001b[1;32m      4\u001b[0m \u001b[0mv_me\u001b[0m \u001b[0;34m=\u001b[0m \u001b[0msmp\u001b[0m\u001b[0;34m.\u001b[0m\u001b[0mintegrate\u001b[0m\u001b[0;34m(\u001b[0m\u001b[0mf_v\u001b[0m\u001b[0;34m,\u001b[0m \u001b[0;34m(\u001b[0m\u001b[0mv\u001b[0m\u001b[0;34m,\u001b[0m \u001b[0;36m0\u001b[0m\u001b[0;34m,\u001b[0m \u001b[0mb\u001b[0m\u001b[0;34m)\u001b[0m\u001b[0;34m)\u001b[0m\u001b[0;34m\u001b[0m\u001b[0;34m\u001b[0m\u001b[0m\n\u001b[0;32m----> 5\u001b[0;31m \u001b[0mv_med\u001b[0m \u001b[0;34m=\u001b[0m \u001b[0mopt\u001b[0m\u001b[0;34m.\u001b[0m\u001b[0mfixed_point\u001b[0m\u001b[0;34m(\u001b[0m\u001b[0mv_me\u001b[0m\u001b[0;34m,\u001b[0m \u001b[0;36m0.5\u001b[0m\u001b[0;34m,\u001b[0m \u001b[0margs\u001b[0m\u001b[0;34m=\u001b[0m\u001b[0;34m(\u001b[0m\u001b[0mv_m\u001b[0m\u001b[0;34m)\u001b[0m\u001b[0;34m)\u001b[0m\u001b[0;34m\u001b[0m\u001b[0;34m\u001b[0m\u001b[0m\n\u001b[0m\u001b[1;32m      6\u001b[0m \u001b[0;31m#v_med = smp.solve(smp.integrate(f_v, (v, 0, b)) -0.5, b)\u001b[0m\u001b[0;34m\u001b[0m\u001b[0;34m\u001b[0m\u001b[0;34m\u001b[0m\u001b[0m\n\u001b[1;32m      7\u001b[0m \u001b[0mv_med\u001b[0m\u001b[0;34m\u001b[0m\u001b[0;34m\u001b[0m\u001b[0m\n",
      "\u001b[0;32m~/.local/anaconda3/lib/python3.8/site-packages/scipy/optimize/minpack.py\u001b[0m in \u001b[0;36mfixed_point\u001b[0;34m(func, x0, args, xtol, maxiter, method)\u001b[0m\n\u001b[1;32m    935\u001b[0m     \u001b[0muse_accel\u001b[0m \u001b[0;34m=\u001b[0m \u001b[0;34m{\u001b[0m\u001b[0;34m'del2'\u001b[0m\u001b[0;34m:\u001b[0m \u001b[0;32mTrue\u001b[0m\u001b[0;34m,\u001b[0m \u001b[0;34m'iteration'\u001b[0m\u001b[0;34m:\u001b[0m \u001b[0;32mFalse\u001b[0m\u001b[0;34m}\u001b[0m\u001b[0;34m[\u001b[0m\u001b[0mmethod\u001b[0m\u001b[0;34m]\u001b[0m\u001b[0;34m\u001b[0m\u001b[0;34m\u001b[0m\u001b[0m\n\u001b[1;32m    936\u001b[0m     \u001b[0mx0\u001b[0m \u001b[0;34m=\u001b[0m \u001b[0m_asarray_validated\u001b[0m\u001b[0;34m(\u001b[0m\u001b[0mx0\u001b[0m\u001b[0;34m,\u001b[0m \u001b[0mas_inexact\u001b[0m\u001b[0;34m=\u001b[0m\u001b[0;32mTrue\u001b[0m\u001b[0;34m)\u001b[0m\u001b[0;34m\u001b[0m\u001b[0;34m\u001b[0m\u001b[0m\n\u001b[0;32m--> 937\u001b[0;31m     \u001b[0;32mreturn\u001b[0m \u001b[0m_fixed_point_helper\u001b[0m\u001b[0;34m(\u001b[0m\u001b[0mfunc\u001b[0m\u001b[0;34m,\u001b[0m \u001b[0mx0\u001b[0m\u001b[0;34m,\u001b[0m \u001b[0margs\u001b[0m\u001b[0;34m,\u001b[0m \u001b[0mxtol\u001b[0m\u001b[0;34m,\u001b[0m \u001b[0mmaxiter\u001b[0m\u001b[0;34m,\u001b[0m \u001b[0muse_accel\u001b[0m\u001b[0;34m)\u001b[0m\u001b[0;34m\u001b[0m\u001b[0;34m\u001b[0m\u001b[0m\n\u001b[0m",
      "\u001b[0;32m~/.local/anaconda3/lib/python3.8/site-packages/scipy/optimize/minpack.py\u001b[0m in \u001b[0;36m_fixed_point_helper\u001b[0;34m(func, x0, args, xtol, maxiter, use_accel)\u001b[0m\n\u001b[1;32m    877\u001b[0m     \u001b[0mp0\u001b[0m \u001b[0;34m=\u001b[0m \u001b[0mx0\u001b[0m\u001b[0;34m\u001b[0m\u001b[0;34m\u001b[0m\u001b[0m\n\u001b[1;32m    878\u001b[0m     \u001b[0;32mfor\u001b[0m \u001b[0mi\u001b[0m \u001b[0;32min\u001b[0m \u001b[0mrange\u001b[0m\u001b[0;34m(\u001b[0m\u001b[0mmaxiter\u001b[0m\u001b[0;34m)\u001b[0m\u001b[0;34m:\u001b[0m\u001b[0;34m\u001b[0m\u001b[0;34m\u001b[0m\u001b[0m\n\u001b[0;32m--> 879\u001b[0;31m         \u001b[0mp1\u001b[0m \u001b[0;34m=\u001b[0m \u001b[0mfunc\u001b[0m\u001b[0;34m(\u001b[0m\u001b[0mp0\u001b[0m\u001b[0;34m,\u001b[0m \u001b[0;34m*\u001b[0m\u001b[0margs\u001b[0m\u001b[0;34m)\u001b[0m\u001b[0;34m\u001b[0m\u001b[0;34m\u001b[0m\u001b[0m\n\u001b[0m\u001b[1;32m    880\u001b[0m         \u001b[0;32mif\u001b[0m \u001b[0muse_accel\u001b[0m\u001b[0;34m:\u001b[0m\u001b[0;34m\u001b[0m\u001b[0;34m\u001b[0m\u001b[0m\n\u001b[1;32m    881\u001b[0m             \u001b[0mp2\u001b[0m \u001b[0;34m=\u001b[0m \u001b[0mfunc\u001b[0m\u001b[0;34m(\u001b[0m\u001b[0mp1\u001b[0m\u001b[0;34m,\u001b[0m \u001b[0;34m*\u001b[0m\u001b[0margs\u001b[0m\u001b[0;34m)\u001b[0m\u001b[0;34m\u001b[0m\u001b[0;34m\u001b[0m\u001b[0m\n",
      "\u001b[0;31mTypeError\u001b[0m: 'Mul' object is not callable"
     ]
    }
   ],
   "source": [
    "#The median is the distributions 0.5-quantile\n",
    "#v_me = smp.integrate(f_v, (v, 0, smp.oo))\n",
    "b = smp.symbols('b', real = True, positive = True)\n",
    "v_me = smp.integrate(f_v, (v, 0, b))\n",
    "v_med = opt.fixed_point(v_me, 0.5, args=(v_m))\n",
    "#v_med = smp.solve(smp.integrate(f_v, (v, 0, b)) -0.5, b)\n",
    "v_med"
   ]
  },
  {
   "cell_type": "markdown",
   "id": "35abf361",
   "metadata": {},
   "source": [
    "D)"
   ]
  },
  {
   "cell_type": "code",
   "execution_count": null,
   "id": "61b18f1c",
   "metadata": {},
   "outputs": [],
   "source": []
  },
  {
   "cell_type": "code",
   "execution_count": null,
   "id": "548ed301",
   "metadata": {},
   "outputs": [],
   "source": []
  }
 ],
 "metadata": {
  "kernelspec": {
   "display_name": "Python 3",
   "language": "python",
   "name": "python3"
  },
  "language_info": {
   "codemirror_mode": {
    "name": "ipython",
    "version": 3
   },
   "file_extension": ".py",
   "mimetype": "text/x-python",
   "name": "python",
   "nbconvert_exporter": "python",
   "pygments_lexer": "ipython3",
   "version": "3.8.8"
  }
 },
 "nbformat": 4,
 "nbformat_minor": 5
}
