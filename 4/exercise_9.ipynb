{
 "cells": [
  {
   "cell_type": "markdown",
   "id": "57c0b877",
   "metadata": {},
   "source": [
    "# Exercise 9\n",
    "Angel distribution"
   ]
  },
  {
   "cell_type": "code",
   "execution_count": 1,
   "id": "d36fd7c0",
   "metadata": {},
   "outputs": [],
   "source": [
    "# importing extensions\n",
    "import numpy as np\n",
    "import matplotlib.pyplot as plt\n",
    "from mpmath import mp\n",
    "import sympy as smp\n",
    "from sympy.functions import Abs\n",
    "\n",
    "smp.init_printing()"
   ]
  },
  {
   "cell_type": "code",
   "execution_count": 2,
   "id": "f619baf6",
   "metadata": {
    "scrolled": true
   },
   "outputs": [
    {
     "name": "stdout",
     "output_type": "stream",
     "text": [
      "N = [k*exp(pi*k)/(2*exp(pi*k) - 2)] \n",
      "The normalization constant has to be:\n"
     ]
    },
    {
     "data": {
      "image/png": "[encoded data removed]",
      "text/latex": [
       "$\\displaystyle \\left[ \\frac{k e^{\\pi k}}{2 e^{\\pi k} - 2}\\right]$"
      ],
      "text/plain": [
       "⎡     π⋅k  ⎤\n",
       "⎢  k⋅ℯ     ⎥\n",
       "⎢──────────⎥\n",
       "⎢   π⋅k    ⎥\n",
       "⎣2⋅ℯ    - 2⎦"
      ]
     },
     "execution_count": 2,
     "metadata": {},
     "output_type": "execute_result"
    }
   ],
   "source": [
    "# determining the normalization constant N\n",
    "N, k = smp.symbols('N, k', real = True, positive = True)\n",
    "delta_phi = smp.symbols('psi', real = True)\n",
    "f_int = smp.integrate(N*smp.exp(-Abs(delta_phi)*k),(delta_phi, -smp.pi, smp.pi))\n",
    "N = smp.solve(f_int-1, N)\n",
    "\n",
    "print(f'N = {N} \\nThe normalization constant has to be:')\n",
    "N"
   ]
  },
  {
   "cell_type": "code",
   "execution_count": 3,
   "id": "c542c5ba",
   "metadata": {},
   "outputs": [
    {
     "name": "stdout",
     "output_type": "stream",
     "text": [
      "Piecewise((Piecewise((exp(pi*k)*exp(k*psi)/(2*exp(pi*k) - 2), Ne(2*exp(pi*k) - 2, 0)), (k*psi*exp(pi*k)/(2*exp(pi*k) - 2), True)), psi <= 0), (Piecewise((exp(pi*k)/(2*exp(pi*k) - 2), Ne(2*exp(pi*k) - 2, 0)), (0, True)) + exp(pi*k)/(2*exp(pi*k) - 2) - exp(pi*k)*exp(-k*psi)/(2*exp(pi*k) - 2), True))\n"
     ]
    },
    {
     "data": {
      "image/png": "[encoded data removed]",
      "text/latex": [
       "$\\displaystyle \\begin{cases} \\begin{cases} \\frac{e^{\\pi k} e^{k \\psi}}{2 e^{\\pi k} - 2} & \\text{for}\\: 2 e^{\\pi k} - 2 \\neq 0 \\\\\\frac{k \\psi e^{\\pi k}}{2 e^{\\pi k} - 2} & \\text{otherwise} \\end{cases} & \\text{for}\\: \\psi \\leq 0 \\\\\\begin{cases} \\frac{e^{\\pi k}}{2 e^{\\pi k} - 2} & \\text{for}\\: 2 e^{\\pi k} - 2 \\neq 0 \\\\0 & \\text{otherwise} \\end{cases} + \\frac{e^{\\pi k}}{2 e^{\\pi k} - 2} - \\frac{e^{\\pi k} e^{- k \\psi}}{2 e^{\\pi k} - 2} & \\text{otherwise} \\end{cases}$"
      ],
      "text/plain": [
       "⎧              ⎧ π⋅k  k⋅ψ                                              \n",
       "⎪              ⎪ℯ   ⋅ℯ             π⋅k                                 \n",
       "⎪              ⎪──────────  for 2⋅ℯ    - 2 ≠ 0                         \n",
       "⎪              ⎪   π⋅k                                                 \n",
       "⎪              ⎪2⋅ℯ    - 2                                             \n",
       "⎪              ⎨                                              for ψ ≤ 0\n",
       "⎪              ⎪      π⋅k                                              \n",
       "⎪              ⎪ k⋅ψ⋅ℯ                                                 \n",
       "⎪              ⎪──────────      otherwise                              \n",
       "⎨              ⎪   π⋅k                                                 \n",
       "⎪              ⎩2⋅ℯ    - 2                                             \n",
       "⎪                                                                      \n",
       "⎪⎛⎧    π⋅k                       ⎞                                     \n",
       "⎪⎜⎪   ℯ               π⋅k        ⎟       π⋅k       π⋅k  -k⋅ψ           \n",
       "⎪⎜⎪──────────  for 2⋅ℯ    - 2 ≠ 0⎟      ℯ         ℯ   ⋅ℯ               \n",
       "⎪⎜⎨   π⋅k                        ⎟ + ────────── - ──────────  otherwise\n",
       "⎪⎜⎪2⋅ℯ    - 2                    ⎟      π⋅k          π⋅k               \n",
       "⎪⎜⎪                              ⎟   2⋅ℯ    - 2   2⋅ℯ    - 2           \n",
       "⎩⎝⎩    0           otherwise     ⎠                                     "
      ]
     },
     "execution_count": 3,
     "metadata": {},
     "output_type": "execute_result"
    }
   ],
   "source": [
    "# determining the CDF function:\n",
    "# CDF function is the integrated pdf function\n",
    "cdf = smp.integrate(N[0]*smp.exp(-Abs(delta_phi)*k),delta_phi)\n",
    "print(cdf)\n",
    "cdf"
   ]
  },
  {
   "cell_type": "code",
   "execution_count": null,
   "id": "3240e60a",
   "metadata": {},
   "outputs": [],
   "source": []
  }
 ],
 "metadata": {
  "kernelspec": {
   "display_name": "Python 3",
   "language": "python",
   "name": "python3"
  },
  "language_info": {
   "codemirror_mode": {
    "name": "ipython",
    "version": 3
   },
   "file_extension": ".py",
   "mimetype": "text/x-python",
   "name": "python",
   "nbconvert_exporter": "python",
   "pygments_lexer": "ipython3",
   "version": "3.8.8"
  }
 },
 "nbformat": 4,
 "nbformat_minor": 5
}
