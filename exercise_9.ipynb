{
 "cells": [
  {
   "cell_type": "markdown",
   "id": "57c0b877",
   "metadata": {},
   "source": [
    "# ACHTUNG! ALLES FALSCH, WILDES PROBIEREN\n",
    "# Exercise 9\n",
    "Angel distribution"
   ]
  },
  {
   "cell_type": "code",
   "execution_count": 30,
   "id": "d36fd7c0",
   "metadata": {},
   "outputs": [],
   "source": [
    "# importing extensions\n",
    "import numpy as np\n",
    "import matplotlib.pyplot as plt\n",
    "from mpmath import mp\n",
    "import sympy as smp\n",
    "from sympy.functions import Abs\n",
    "import scipy.optimize as opt\n",
    "\n",
    "smp.init_printing()"
   ]
  },
  {
   "cell_type": "code",
   "execution_count": 40,
   "id": "f619baf6",
   "metadata": {},
   "outputs": [
    {
     "name": "stdout",
     "output_type": "stream",
     "text": [
      "HIER: n*exp(pi*k)/k - n*exp(-pi*k)/k\n",
      "N = sqrt(k)*exp(pi*k)/sqrt(exp(2*pi*k) - 1) \n",
      "And also a prettier symbolize output:\n"
     ]
    },
    {
     "data": {
      "image/png": "[encoded data removed]",
      "text/latex": [
       "$\\displaystyle \\frac{\\sqrt{k} e^{\\pi k}}{\\sqrt{e^{2 \\pi k} - 1}}$"
      ],
      "text/plain": [
       "        π⋅k    \n",
       "    √k⋅ℯ       \n",
       "───────────────\n",
       "   ____________\n",
       "  ╱  2⋅π⋅k     \n",
       "╲╱  ℯ      - 1 "
      ]
     },
     "execution_count": 40,
     "metadata": {},
     "output_type": "execute_result"
    }
   ],
   "source": [
    "# determining the normalization constant N\n",
    "N, delta_phi, k = smp.symbols('n, delta_phi, k', real = True, positive = True)\n",
    "f = N*smp.exp(-Abs(delta_phi)*k)\n",
    "f_int = smp.integrate(f**2, (delta_phi, -smp.pi, smp.pi))\n",
    "# N = smp.solve(f_int-1, N)\n",
    "\n",
    "N = 1/smp.sqrt((smp.exp(-2*smp.pi*k)*(smp.exp(2*smp.pi*k)-1))/k)\n",
    "\n",
    "f_test = smp.integrate(f,(delta_phi, -smp.pi, smp.pi))\n",
    "print(f'HIER: {f_test}')\n",
    "\n",
    "print(f'N = {N} \\nAnd also a prettier symbolize output:')\n",
    "N"
   ]
  },
  {
   "cell_type": "code",
   "execution_count": null,
   "id": "d9b3d53b",
   "metadata": {},
   "outputs": [],
   "source": []
  }
 ],
 "metadata": {
  "kernelspec": {
   "display_name": "Python 3",
   "language": "python",
   "name": "python3"
  },
  "language_info": {
   "codemirror_mode": {
    "name": "ipython",
    "version": 3
   },
   "file_extension": ".py",
   "mimetype": "text/x-python",
   "name": "python",
   "nbconvert_exporter": "python",
   "pygments_lexer": "ipython3",
   "version": "3.8.8"
  }
 },
 "nbformat": 4,
 "nbformat_minor": 5
}
