{
 "cells": [
  {
   "cell_type": "markdown",
   "id": "8b4053c7",
   "metadata": {},
   "source": [
    "# exercise 14"
   ]
  },
  {
   "cell_type": "markdown",
   "id": "dc2d6b3e",
   "metadata": {},
   "source": [
    "## a)"
   ]
  },
  {
   "cell_type": "code",
   "execution_count": 2,
   "id": "922d4e0e",
   "metadata": {},
   "outputs": [
    {
     "name": "stdout",
     "output_type": "stream",
     "text": [
      "[[ 0.03838985  4.73689528  1.64932579  1.62203216]\n",
      " [-1.28401419  2.51704755 -2.26981563  7.3654357 ]\n",
      " [ 2.13045411  4.47629174  2.07632954  0.99711812]\n",
      " ...\n",
      " [ 0.63459198  4.32807824  3.33507954  0.01169718]\n",
      " [ 0.73493229  3.42559698  2.75464801 -0.16355863]\n",
      " [ 0.37243053  3.15423326  3.15357106  0.75982448]]\n",
      "[0 1 0 0 0 0 1 0 0 1 1 1 0 1 1 1 1 1 0 0 0 0 1 1 1 0 0 1 1 0 1 0 0 0 0 1 0\n",
      " 0 1 0 1 1 1 0 0 1 1 1 1 0 1 1 0 0 0 1 0 0 1 0 1 0 1 0 0 1 1 1 1 0 0 1 0 0\n",
      " 1 1 0 0 1 1 1 1 1 0 1 0 0 0 0 1 1 1 1 1 1 1 0 1 1 1 1 1 0 0 0 0 0 0 1 0 0\n",
      " 1 0 0 0 1 1 0 0 0 0 0 1 1 1 1 1 1 0 1 1 1 0 0 1 0 0 0 1 1 0 0 0 1 0 1 0 0\n",
      " 0 0 1 0 1 1 0 0 1 0 1 1 0 0 1 0 0 1 0 0 1 1 1 1 1 0 0 0 1 0 0 0 1 0 1 0 1\n",
      " 1 1 0 0 1 0 1 0 0 0 1 0 0 0 1 1 1 1 1 0 1 0 1 0 1 1 0 0 0 1 1 0 1 1 0 1 1\n",
      " 1 0 1 1 1 0 0 1 1 1 1 1 0 0 1 1 1 0 1 1 1 1 1 1 1 1 1 1 0 1 1 0 0 0 0 1 1\n",
      " 1 0 0 0 1 0 1 1 0 0 0 0 0 1 0 1 1 0 0 1 1 1 0 1 1 0 1 1 1 1 0 1 0 0 0 1 1\n",
      " 1 1 1 1 0 0 0 1 0 0 0 0 0 0 0 1 1 1 1 1 1 0 0 0 0 1 0 0 0 0 1 0 1 1 1 1 0\n",
      " 1 0 1 1 1 0 0 0 1 1 0 0 0 1 0 1 0 1 0 1 0 1 1 1 0 0 1 0 0 1 0 1 1 0 1 0 0\n",
      " 0 1 1 1 1 0 0 1 0 0 0 1 1 1 0 1 0 0 0 1 0 1 0 1 1 0 0 0 1 1 1 0 0 0 0 0 0\n",
      " 1 0 1 0 1 1 1 0 0 1 0 0 0 0 0 1 1 0 1 1 0 0 0 0 1 0 1 1 1 0 1 0 1 0 0 1 0\n",
      " 0 0 0 1 0 1 1 0 0 1 1 0 1 1 0 0 1 0 1 0 0 0 0 1 1 0 1 1 1 0 0 0 0 0 1 0 1\n",
      " 0 1 0 0 1 0 0 0 1 1 1 0 0 1 1 0 1 1 1 1 1 0 0 1 1 0 1 0 0 0 1 0 1 1 0 0 1\n",
      " 1 0 0 0 0 0 0 1 1 1 0 0 0 1 0 1 1 1 0 1 1 0 1 1 0 0 1 1 1 1 0 1 1 0 1 0 0\n",
      " 0 1 1 1 1 1 1 1 1 1 0 0 1 0 0 1 0 1 1 1 0 0 1 0 1 0 0 1 0 1 1 0 0 0 0 0 0\n",
      " 1 0 1 0 0 1 1 1 1 0 1 1 0 1 0 0 0 0 0 1 0 0 1 0 1 1 0 0 1 0 0 1 1 1 1 0 0\n",
      " 1 1 0 0 1 0 0 0 1 0 0 1 0 0 1 0 0 0 0 1 1 1 0 1 0 0 1 0 1 0 0 1 0 1 1 1 1\n",
      " 1 0 0 1 1 1 0 0 0 0 1 1 0 1 1 1 0 1 1 1 0 1 1 1 1 0 1 1 1 1 0 1 0 0 1 0 1\n",
      " 0 1 0 1 0 0 0 0 1 1 1 1 0 1 1 1 0 1 1 0 1 1 0 0 1 1 1 0 0 1 1 1 1 0 0 0 0\n",
      " 0 0 1 0 1 1 0 1 0 0 1 0 1 0 1 1 1 1 1 1 1 1 1 0 1 1 1 0 1 1 1 1 0 1 1 0 0\n",
      " 1 0 1 1 1 0 0 0 1 0 1 0 1 1 1 0 1 1 0 0 0 0 1 0 0 0 1 1 0 0 0 1 0 0 1 0 0\n",
      " 0 0 0 1 0 0 1 0 1 1 1 0 1 1 0 1 1 1 0 1 1 0 1 1 1 0 0 0 1 0 0 0 1 0 1 1 1\n",
      " 1 0 0 1 1 1 1 1 0 0 1 1 0 1 0 0 0 0 1 0 0 1 0 1 0 1 0 0 1 0 0 0 1 0 1 0 1\n",
      " 0 0 1 1 0 1 0 1 0 1 0 0 1 1 0 1 0 1 0 1 1 0 1 1 1 0 0 0 0 1 1 0 0 0 0 0 0\n",
      " 1 0 1 0 1 1 0 0 1 0 0 0 0 1 0 0 0 0 1 0 0 1 1 1 1 0 0 0 1 1 1 1 0 0 1 0 0\n",
      " 1 0 0 0 0 0 0 0 0 1 1 0 0 0 1 1 1 0 0 0 0 1 1 0 1 1 0 1 1 1 1 1 0 1 0 0 0\n",
      " 0]\n"
     ]
    }
   ],
   "source": [
    "from sklearn.datasets import make_blobs\n",
    "import matplotlib.pyplot as plt\n",
    "\n",
    "x, y = make_blobs(n_samples=1000, centers=2, n_features=4, random_state=0)\n",
    "\n",
    "print(x)\n",
    "print(y)\n",
    "\n",
    "#plt.scatter(x,y)"
   ]
  },
  {
   "cell_type": "code",
   "execution_count": null,
   "id": "4647baf3",
   "metadata": {},
   "outputs": [],
   "source": [
    "#from sklearn.decomposition import PCA\n",
    "\n",
    "#pca = PCA(n_components=3)\n",
    "#transformed = pca.fit_transform(X)\n",
    "\n",
    "#plots.plot_3d_views(transformed, y)\n",
    "\n",
    "#from sklearn.decomposition import PCA\n",
    "\n",
    "#pca = PCA(n_components=2)\n",
    "#transformed = pca.fit_transform(X)\n",
    "\n",
    "#plt.figure()\n",
    "#plt.scatter(transformed[:, 0], transformed[:, 1], c=y, cmap=cmap)\n",
    "#None"
   ]
  }
 ],
 "metadata": {
  "kernelspec": {
   "display_name": "Python 3 (ipykernel)",
   "language": "python",
   "name": "python3"
  },
  "language_info": {
   "codemirror_mode": {
    "name": "ipython",
    "version": 3
   },
   "file_extension": ".py",
   "mimetype": "text/x-python",
   "name": "python",
   "nbconvert_exporter": "python",
   "pygments_lexer": "ipython3",
   "version": "3.10.4"
  }
 },
 "nbformat": 4,
 "nbformat_minor": 5
}
