{
 "cells": [
  {
   "cell_type": "markdown",
   "metadata": {},
   "source": [
    "B)"
   ]
  },
  {
   "cell_type": "markdown",
   "metadata": {},
   "source": [
    "we use the recursive function $x_{j+1} = ((a \\cdot x_j + c) \\mod{m})$ to determine the period length of the sequence of randomly generated numbers.\n",
    "\n",
    "The given values are $c = 3$ and $m = 1024$. We start with $x_0 = 0$ and choose three different values of $a$: two, three and four."
   ]
  },
  {
   "cell_type": "code",
   "execution_count": 5,
   "metadata": {},
   "outputs": [
    {
     "name": "stdout",
     "output_type": "stream",
     "text": [
      "a20 = 5\n",
      "a30 = 10\n",
      "a40 = 4\n",
      "a9 = 1023\n"
     ]
    }
   ],
   "source": [
    "import numpy as np\n",
    "from project_a2.random import LCG\n",
    "\n",
    "def array(state, state_array):\n",
    "    for n in range(len(state_array)):\n",
    "        if  state == state_array[n]:\n",
    "            return 0\n",
    "    return 1\n",
    "\n",
    "def length_check(a_):\n",
    "    n = 0\n",
    "    generator = LCG(0, a=a_, c=3, m=1024)\n",
    "    current_state = np.zeros(1023)\n",
    "    generator.advance()\n",
    "    while n != 1023 and (generator.state != 0) and array(generator.state, current_state):\n",
    "        current_state[n] = generator.state\n",
    "        generator.advance()\n",
    "        n += 1\n",
    "        #print(generator.state)\n",
    "    return n\n",
    "\n",
    "print(f'a20 = {length_check(20)}')\n",
    "print(f'a30 = {length_check(30)}')\n",
    "print(f'a40 = {length_check(40)}')\n",
    "print(f'a9 = {length_check(9)}')"
   ]
  },
  {
   "cell_type": "markdown",
   "metadata": {},
   "source": [
    "for $a= 20$ the period length is $5$, for $a= 30$ it is $10$, for $a= 40$ it is $4$ and for $a=9$ the period length is $1023$.\n",
    "\n",
    "Maximum period length:\n",
    "\n",
    "The four requirements for the maximum period length are $c \\neq 0$, $c$ and $m$ are coprime, each prime factor of $m$ divides $(a-1)$ and if $m$ is divisible by 4, so is $(a-1)$.\n",
    "\n",
    "Only the last two requirements are dependend on $a$, so we will check for which values of $a$ these apply.\n",
    "\n",
    "$m$ only has the prime factor $2$, so $(a-1)$ has to be devisible by $2$. Also, $m$ is devisible by $4$, so $(a-1)$ has to be as well.\n",
    "\n",
    "Every number that is devisible by $4$ is also devisible by $2$, but not the other way around. That is why every $a$ has to be $a = (n \\cdot 4) + 1$ with $n \\in \\mathbb{N}_{>0}$.\n"
   ]
  },
  {
   "cell_type": "markdown",
   "metadata": {},
   "source": [
    "Interpretation of the lcg PDF:\n",
    "\n",
    "The distribution seems to be random, so the method works."
   ]
  },
  {
   "cell_type": "code",
   "execution_count": null,
   "metadata": {},
   "outputs": [],
   "source": []
  }
 ],
 "metadata": {
  "kernelspec": {
   "display_name": "Python 3",
   "language": "python",
   "name": "python3"
  },
  "language_info": {
   "codemirror_mode": {
    "name": "ipython",
    "version": 3
   },
   "file_extension": ".py",
   "mimetype": "text/x-python",
   "name": "python",
   "nbconvert_exporter": "python",
   "pygments_lexer": "ipython3",
   "version": "3.8.8"
  }
 },
 "nbformat": 4,
 "nbformat_minor": 2
}
