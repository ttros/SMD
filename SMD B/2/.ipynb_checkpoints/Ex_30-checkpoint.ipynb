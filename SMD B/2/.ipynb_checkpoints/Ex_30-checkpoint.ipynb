{
 "cells": [
  {
   "cell_type": "code",
   "execution_count": 1,
   "id": "6712c985",
   "metadata": {},
   "outputs": [],
   "source": [
    "import numpy as np"
   ]
  },
  {
   "cell_type": "markdown",
   "id": "63f9c758",
   "metadata": {},
   "source": [
    "# Exercise 30\n",
    "## a)"
   ]
  },
  {
   "cell_type": "markdown",
   "id": "0446c510",
   "metadata": {},
   "source": [
    "$ f(\\psi) = a_1 f_1(\\psi) + a_2 f_2(\\psi) $\n",
    "\n",
    "$ f(\\psi) = a_1 \\cos(\\psi) + a_2 \\sin(\\psi) $\n",
    "\n",
    "Design matrix:\n",
    "\n",
    "$ A = (f_1(\\psi), f_2(\\psi)) $\n",
    "\n",
    "$ A = (\\cos(\\psi), \\sin(\\psi)) $"
   ]
  },
  {
   "cell_type": "code",
   "execution_count": 2,
   "id": "1a4cc485",
   "metadata": {},
   "outputs": [
    {
     "name": "stdout",
     "output_type": "stream",
     "text": [
      "Design Matrix:\n",
      " [[ 1.00000000e+00  0.00000000e+00]\n",
      " [ 8.66025404e-01  5.00000000e-01]\n",
      " [ 5.00000000e-01  8.66025404e-01]\n",
      " [ 6.12323400e-17  1.00000000e+00]\n",
      " [-5.00000000e-01  8.66025404e-01]\n",
      " [-8.66025404e-01  5.00000000e-01]\n",
      " [-1.00000000e+00  1.22464680e-16]\n",
      " [-8.66025404e-01 -5.00000000e-01]\n",
      " [-5.00000000e-01 -8.66025404e-01]\n",
      " [-1.83697020e-16 -1.00000000e+00]\n",
      " [ 5.00000000e-01 -8.66025404e-01]\n",
      " [ 8.66025404e-01 -5.00000000e-01]]\n"
     ]
    }
   ],
   "source": [
    "# importing data\n",
    "psi = [0, 30, 60, 90, 120, 150, 180, 210, 240, 270, 300, 330]\n",
    "psi = np.multiply(psi,2*np.pi/360)\n",
    "asym = [-0.032, 0.010, 0.057, 0.068, 0.076, 0.080, 0.031, 0.005, -0.041, -0.090, -0.088, -0.074]\n",
    "\n",
    "A = np.array([np.cos(psi), np.sin(psi)]).T\n",
    "print('Design Matrix:\\n', A)"
   ]
  },
  {
   "cell_type": "markdown",
   "id": "be353ce3",
   "metadata": {},
   "source": [
    "$B = (A^TA)^{-1}A^T$"
   ]
  },
  {
   "cell_type": "code",
   "execution_count": 3,
   "id": "e72715fc",
   "metadata": {},
   "outputs": [
    {
     "name": "stdout",
     "output_type": "stream",
     "text": [
      "a =  [-0.0375063   0.07739978]\n"
     ]
    }
   ],
   "source": [
    "B = np.linalg.inv(A.T@A)@A.T\n",
    "a = B@asym\n",
    "print('a = ', a)"
   ]
  },
  {
   "cell_type": "markdown",
   "id": "33d3f65b",
   "metadata": {},
   "source": [
    "## b)"
   ]
  },
  {
   "cell_type": "code",
   "execution_count": 10,
   "id": "73a223bb",
   "metadata": {},
   "outputs": [
    {
     "name": "stdout",
     "output_type": "stream",
     "text": [
      "covariance matrix:\n",
      " [[ 2.01666667e-05 -1.31944981e-21]\n",
      " [-1.31944981e-21  2.01666667e-05]] \n",
      "\n",
      "errors:\n",
      " a_1: 0.004490731195102493 \n",
      " a_2: 0.004490731195102493 \n",
      "\n",
      "correlation coefficient:\n",
      " -6.542726332681614e-17\n"
     ]
    }
   ],
   "source": [
    "#error of asym: 0.011\n",
    "V = np.diag([0.011**2]*12)  # V: Covariance matrix of \"asym\" measurements\n",
    "\n",
    "#covariance matrix of a1, a2\n",
    "# Cov = B@V@B.T #nur der S04\n",
    "\n",
    "Cov = 0.011**2 * np.linalg.inv(A.T@A) # should give same result\n",
    "\n",
    "print(\"covariance matrix:\\n\", Cov, \"\\n\")\n",
    "print(\"errors:\\n\", \"a_1:\", np.sqrt(Cov[0,0]), \"\\n\", \"a_2:\", np.sqrt(Cov[1,1]), \"\\n\")\n",
    "print(\"correlation coefficient:\\n\", Cov[0,1]/(np.sqrt(Cov[0,0])*np.sqrt(Cov[1,1])))"
   ]
  },
  {
   "cell_type": "markdown",
   "id": "5b60edc2",
   "metadata": {},
   "source": [
    "$\\rho = \\frac{\\text{Cov}(a_1,a_2)}{\\sigma_{a1}\\sigma_{a2}}$"
   ]
  },
  {
   "cell_type": "code",
   "execution_count": 11,
   "id": "45e3488c",
   "metadata": {
    "scrolled": true
   },
   "outputs": [
    {
     "data": {
      "text/plain": [
       "[<matplotlib.lines.Line2D at 0x7fb1ca29ceb0>]"
      ]
     },
     "execution_count": 11,
     "metadata": {},
     "output_type": "execute_result"
    },
    {
     "data": {
      "image/png": "[encoded data removed]",
      "text/plain": [
       "<Figure size 432x288 with 1 Axes>"
      ]
     },
     "metadata": {
      "needs_background": "light"
     },
     "output_type": "display_data"
    }
   ],
   "source": [
    "import matplotlib.pyplot as plt\n",
    "fig = plt.figure()\n",
    "\n",
    "x = np.linspace(0, 2*np.pi, 1000)\n",
    "\n",
    "ax = fig.add_subplot(1,1,1)\n",
    "ax.plot(psi, asym, marker = \"x\", lw = 0)\n",
    "ax.plot(x, a[0]*np.cos(x) + a[1]*np.sin(x))"
   ]
  },
  {
   "cell_type": "markdown",
   "id": "49c3f70a",
   "metadata": {},
   "source": [
    "## c)"
   ]
  },
  {
   "cell_type": "code",
   "execution_count": null,
   "id": "c6cdcd6f",
   "metadata": {},
   "outputs": [],
   "source": []
  }
 ],
 "metadata": {
  "kernelspec": {
   "display_name": "Python 3 (ipykernel)",
   "language": "python",
   "name": "python3"
  },
  "language_info": {
   "codemirror_mode": {
    "name": "ipython",
    "version": 3
   },
   "file_extension": ".py",
   "mimetype": "text/x-python",
   "name": "python",
   "nbconvert_exporter": "python",
   "pygments_lexer": "ipython3",
   "version": "3.9.7"
  }
 },
 "nbformat": 4,
 "nbformat_minor": 5
}
