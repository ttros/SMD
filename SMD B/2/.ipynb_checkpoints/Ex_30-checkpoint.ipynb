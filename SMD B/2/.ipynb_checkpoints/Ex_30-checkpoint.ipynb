{
 "cells": [
  {
   "cell_type": "code",
   "execution_count": 2,
   "id": "6712c985",
   "metadata": {},
   "outputs": [],
   "source": [
    "import numpy as np"
   ]
  },
  {
   "cell_type": "markdown",
   "id": "63f9c758",
   "metadata": {},
   "source": [
    "# Exercise 30\n",
    "## a)"
   ]
  },
  {
   "cell_type": "markdown",
   "id": "0446c510",
   "metadata": {},
   "source": [
    "$ f(\\psi) = a_1 f_1(\\psi) + a_2 f_2(\\psi) $\n",
    "\n",
    "$ f(\\psi) = a_1 \\cos(\\psi) + a_2 \\sin(\\psi) $\n",
    "\n",
    "Design matrix:\n",
    "\n",
    "$ A = (f_1(\\psi), f_2(\\psi)) $\n",
    "\n",
    "$ A = (\\cos(\\psi), \\sin(\\psi)) $"
   ]
  },
  {
   "cell_type": "code",
   "execution_count": 3,
   "id": "1a4cc485",
   "metadata": {},
   "outputs": [
    {
     "name": "stdout",
     "output_type": "stream",
     "text": [
      "Design Matrix:\n",
      " [[ 1.          0.        ]\n",
      " [ 0.15425145 -0.98803162]\n",
      " [-0.95241298 -0.30481062]\n",
      " [-0.44807362  0.89399666]\n",
      " [ 0.81418097  0.58061118]\n",
      " [ 0.69925081 -0.71487643]\n",
      " [-0.59846007 -0.80115264]\n",
      " [-0.88387747  0.46771852]\n",
      " [ 0.32578131  0.94544515]\n",
      " [ 0.98438195 -0.17604595]\n",
      " [-0.02209662 -0.99975584]\n",
      " [-0.99119882 -0.13238163]]\n"
     ]
    }
   ],
   "source": [
    "# importing data\n",
    "psi = [0, 30, 60, 90, 120, 150, 180, 210, 240, 270, 300, 330]\n",
    "asym = [-0.032, 0.010, 0.057, 0.068, 0.076, 0.080, 0.031, 0.005, -0.041, -0.090, -0.088, -0.074]\n",
    "\n",
    "A = np.array([np.cos(psi), np.sin(psi)]).T\n",
    "print('Design Matrix:\\n', A)"
   ]
  },
  {
   "cell_type": "markdown",
   "id": "be353ce3",
   "metadata": {},
   "source": [
    "$B = (A^TA)^{-1}A^T$"
   ]
  },
  {
   "cell_type": "code",
   "execution_count": 4,
   "id": "e72715fc",
   "metadata": {},
   "outputs": [
    {
     "name": "stdout",
     "output_type": "stream",
     "text": [
      "a =  [-0.00738765  0.01328259]\n"
     ]
    }
   ],
   "source": [
    "B = np.matmul(np.linalg.inv(np.matmul(A.T,A)),A.T)\n",
    "a = B@asym\n",
    "print('a = ', a)"
   ]
  },
  {
   "cell_type": "markdown",
   "id": "33d3f65b",
   "metadata": {},
   "source": [
    "## b)"
   ]
  },
  {
   "cell_type": "code",
   "execution_count": 26,
   "id": "73a223bb",
   "metadata": {},
   "outputs": [
    {
     "name": "stdout",
     "output_type": "stream",
     "text": [
      "covariance matrix:\n",
      " [[ 1.86721276e-05 -2.17340331e-07]\n",
      " [-2.17340331e-07  2.19267708e-05]] \n",
      "\n",
      "errors:\n",
      " a_1: 0.004321125737056743 \n",
      " a_2: 0.004321125737056743 \n",
      "\n",
      "correlation coefficient:\n",
      " -0.011639826763261503\n"
     ]
    },
    {
     "data": {
      "text/plain": [
       "array([[ 1.86721276e-05, -2.17340331e-07],\n",
       "       [-2.17340331e-07,  2.19267708e-05]])"
      ]
     },
     "execution_count": 26,
     "metadata": {},
     "output_type": "execute_result"
    }
   ],
   "source": [
    "#error of asym: 0.011\n",
    "V = np.diag([0.011**2]*12)  # V: Covariance matrix of \"asym\" measurements\n",
    "\n",
    "#covariance matrix of a1, a2\n",
    "Cov = B@V@B.T #nur der S04\n",
    "\n",
    "#Cov = 0.011**2 * np.linalg.inv(A.T@A) same result, other formula\n",
    "\n",
    "print(\"covariance matrix:\\n\", Cov, \"\\n\")\n",
    "print(\"errors:\\n\", \"a_1:\", np.sqrt(Cov[0,0]), \"\\n\", \"a_2:\", np.sqrt(Cov[0,0]), \"\\n\")\n",
    "print(\"correlation coefficient:\\n\", Cov[0,1]/(np.sqrt(Cov[0,0])*np.sqrt(Cov[0,0])))"
   ]
  },
  {
   "cell_type": "markdown",
   "id": "5b60edc2",
   "metadata": {},
   "source": [
    "$\\rho = \\frac{\\text{Cov}(a_1,a_2)}{\\sigma_{a1}\\sigma_{a2}}$"
   ]
  },
  {
   "cell_type": "markdown",
   "id": "49c3f70a",
   "metadata": {},
   "source": [
    "## c)"
   ]
  },
  {
   "cell_type": "code",
   "execution_count": null,
   "id": "5452a87f",
   "metadata": {},
   "outputs": [],
   "source": []
  }
 ],
 "metadata": {
  "kernelspec": {
   "display_name": "Python 3 (ipykernel)",
   "language": "python",
   "name": "python3"
  },
  "language_info": {
   "codemirror_mode": {
    "name": "ipython",
    "version": 3
   },
   "file_extension": ".py",
   "mimetype": "text/x-python",
   "name": "python",
   "nbconvert_exporter": "python",
   "pygments_lexer": "ipython3",
   "version": "3.9.7"
  }
 },
 "nbformat": 4,
 "nbformat_minor": 5
}
