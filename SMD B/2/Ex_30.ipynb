{
 "cells": [
  {
   "cell_type": "code",
   "execution_count": 2,
   "id": "53b5de03",
   "metadata": {},
   "outputs": [],
   "source": [
    "import numpy as np"
   ]
  },
  {
   "cell_type": "markdown",
   "id": "e4822fd8",
   "metadata": {},
   "source": [
    "# Exercise 30\n",
    "## a)"
   ]
  },
  {
   "cell_type": "markdown",
   "id": "e5da2b3d",
   "metadata": {},
   "source": [
    "$ f(\\psi) = \n",
    "\n",
    "$ f(\\psi) = a_0 \\cos(\\psi) + a_1 \\sin(\\psi) $\n",
    "\n",
    "Design matrix: $ A = (\\cos(\\psi), \\sin(\\psi)) $"
   ]
  },
  {
   "cell_type": "code",
   "execution_count": 19,
   "id": "74b9c4ae",
   "metadata": {},
   "outputs": [
    {
     "name": "stdout",
     "output_type": "stream",
     "text": [
      "Design Matrix:\n",
      " [[ 1.          0.        ]\n",
      " [ 0.15425145 -0.98803162]\n",
      " [-0.95241298 -0.30481062]\n",
      " [-0.44807362  0.89399666]\n",
      " [ 0.81418097  0.58061118]\n",
      " [ 0.69925081 -0.71487643]\n",
      " [-0.59846007 -0.80115264]\n",
      " [-0.88387747  0.46771852]\n",
      " [ 0.32578131  0.94544515]\n",
      " [ 0.98438195 -0.17604595]\n",
      " [-0.02209662 -0.99975584]\n",
      " [-0.99119882 -0.13238163]]\n"
     ]
    },
    {
     "data": {
      "text/plain": [
       "array([[6.48099479, 0.06424026],\n",
       "       [0.06424026, 5.51900521]])"
      ]
     },
     "execution_count": 19,
     "metadata": {},
     "output_type": "execute_result"
    }
   ],
   "source": [
    "# importing data\n",
    "psi = [0, 30, 60, 90, 120, 150, 180, 210, 240, 270, 300, 330]\n",
    "asym = [-0.032, 0.010, 0.057, 0.068, 0.076, 0.080, 0.031, 0.005, -0.041, -0.090, -0.088, -0.074]\n",
    "\n",
    "A = np.array([np.cos(psi), np.sin(psi)]).T\n",
    "print('Design Matrix:\\n', A)"
   ]
  },
  {
   "cell_type": "markdown",
   "id": "f296d2c2",
   "metadata": {},
   "source": [
    "$B = (A^TA)^{-1}A^T$"
   ]
  },
  {
   "cell_type": "code",
   "execution_count": 24,
   "id": "b5b1fdbf",
   "metadata": {},
   "outputs": [
    {
     "data": {
      "text/plain": [
       "array([-0.00738765,  0.01328259])"
      ]
     },
     "execution_count": 24,
     "metadata": {},
     "output_type": "execute_result"
    }
   ],
   "source": [
    "B = np.matmul(np.linalg.inv(np.matmul(A.T,A)),A.T)\n",
    "print('a = np.matmul(B,asym)"
   ]
  },
  {
   "cell_type": "code",
   "execution_count": null,
   "id": "ed03a84b",
   "metadata": {},
   "outputs": [],
   "source": []
  }
 ],
 "metadata": {
  "kernelspec": {
   "display_name": "Python 3",
   "language": "python",
   "name": "python3"
  },
  "language_info": {
   "codemirror_mode": {
    "name": "ipython",
    "version": 3
   },
   "file_extension": ".py",
   "mimetype": "text/x-python",
   "name": "python",
   "nbconvert_exporter": "python",
   "pygments_lexer": "ipython3",
   "version": "3.8.8"
  }
 },
 "nbformat": 4,
 "nbformat_minor": 5
}
