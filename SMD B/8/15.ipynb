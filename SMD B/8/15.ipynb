{
 "cells": [
  {
   "cell_type": "code",
   "execution_count": 1,
   "id": "c79f4edc",
   "metadata": {},
   "outputs": [],
   "source": [
    "import numpy as np\n",
    "import matplotlib.pyplot as plt"
   ]
  },
  {
   "cell_type": "markdown",
   "id": "c69c8403",
   "metadata": {},
   "source": [
    "# Exercise 15\n",
    "\n",
    "## a) \n",
    "Implementing method to generate response matrix A."
   ]
  },
  {
   "cell_type": "code",
   "execution_count": 2,
   "id": "5d1a5a2d",
   "metadata": {},
   "outputs": [
    {
     "data": {
      "text/plain": [
       "array([[0.77, 0.23, 0.  , 0.  , 0.  ],\n",
       "       [0.23, 0.54, 0.23, 0.  , 0.  ],\n",
       "       [0.  , 0.23, 0.54, 0.23, 0.  ],\n",
       "       [0.  , 0.  , 0.23, 0.54, 0.23],\n",
       "       [0.  , 0.  , 0.  , 0.23, 0.77]])"
      ]
     },
     "execution_count": 2,
     "metadata": {},
     "output_type": "execute_result"
    }
   ],
   "source": [
    "eps = 0.23\n",
    "\n",
    "\n",
    "def A(n):\n",
    "    temp = np.array(n*[1-2*eps])\n",
    "    temp[0] = 1-eps\n",
    "    temp[-1] = 1-eps\n",
    "    \n",
    "    return np.diag((n-1)*[eps],1) + np.diag(temp) + np.diag((n-1)*[eps],-1)\n",
    "\n",
    "A(5)"
   ]
  },
  {
   "cell_type": "markdown",
   "id": "fc03f19c",
   "metadata": {},
   "source": [
    "Die Matrix A beschreibt die Fluktuationen der Bins einer Messreihe in die anderen Bins. Also eine Art 'Verschmieren' der Bins in die benachbarten Bins.\n",
    "\n",
    "## b)"
   ]
  },
  {
   "cell_type": "code",
   "execution_count": 3,
   "id": "bb6ce7af",
   "metadata": {},
   "outputs": [
    {
     "name": "stdout",
     "output_type": "stream",
     "text": [
      "g =  [260.16 459.01 645.6  749.66 794.8  798.79 775.09 733.93 682.62 625.54\n",
      " 566.46 508.46 452.92 400.69 352.38 308.69 269.15 233.92 202.46 179.67]\n"
     ]
    }
   ],
   "source": [
    "f = np.array([193, 485, 664, 763, 804, 805, 779, 736, 684, 626, 566, 508, 452, 400, 351, 308, 268, 233, 202, 173])\n",
    "\n",
    "g = A(20)@f.T\n",
    "\n",
    "print('g = ', g)"
   ]
  },
  {
   "cell_type": "code",
   "execution_count": 4,
   "id": "bea56396",
   "metadata": {},
   "outputs": [
    {
     "name": "stdout",
     "output_type": "stream",
     "text": [
      "g_measured =  [236. 434. 613. 752. 834. 772. 813. 698. 674. 639. 551. 503. 432. 380.\n",
      " 338. 311. 244. 240. 209. 176.]\n"
     ]
    }
   ],
   "source": [
    "rng = np.random.default_rng(69*69)\n",
    "g_measured = np.zeros(20)\n",
    "\n",
    "for i in range(len(g)):\n",
    "    g_measured[i] = rng.poisson(g[i])\n",
    "\n",
    "print('g_measured = ', g_measured)"
   ]
  },
  {
   "cell_type": "markdown",
   "id": "7777311d",
   "metadata": {},
   "source": [
    "## c)\n",
    "Die Gleichung $g = Af$ wird zu $c = Db$ mit $b=U^{-1}f$ und $c=U^{-1}g$ und ermöglicht uns, f einfach über Eigenwertmultiplikation zu bestimmen."
   ]
  },
  {
   "cell_type": "code",
   "execution_count": 5,
   "id": "7153a7bb",
   "metadata": {},
   "outputs": [],
   "source": [
    "A_20 = A(20)\n",
    "D_values, U = np.linalg.eig(A_20)\n",
    "\n",
    "#U = np.around(U, 2)\n",
    "idx = D_values.argsort()[::-1]\n",
    "D_values = D_values[idx]\n",
    "U = U[:,idx]\n",
    "\n",
    "D = np.diag(D_values)\n",
    "\n",
    "D_inv = np.linalg.inv(D)\n",
    "U_inv = np.linalg.inv(U)\n",
    "\n",
    "\n",
    "A_test = np.around(U@D@U_inv,6)\n",
    "#A_test"
   ]
  },
  {
   "cell_type": "markdown",
   "id": "86fb78ec",
   "metadata": {},
   "source": [
    "## d)\n"
   ]
  },
  {
   "cell_type": "code",
   "execution_count": 6,
   "id": "431cd4fe",
   "metadata": {},
   "outputs": [
    {
     "data": {
      "text/plain": [
       "<BarContainer object of 20 artists>"
      ]
     },
     "execution_count": 6,
     "metadata": {},
     "output_type": "execute_result"
    },
    {
     "data": {
      "image/png": "[encoded data removed]",
      "text/plain": [
       "<Figure size 432x288 with 1 Axes>"
      ]
     },
     "metadata": {
      "needs_background": "light"
     },
     "output_type": "display_data"
    }
   ],
   "source": [
    "c = U_inv@g_measured\n",
    "b = D_inv@c\n",
    "#Varianz von Poissonverteilung ist einfach nur N, also einfach Diagonalmatrix von g_measured\n",
    "V = np.diag(g_measured)\n",
    "\n",
    "B = D_inv@U_inv\n",
    "\n",
    "cov = B@V@B.T\n",
    "\n",
    "b_norm = np.zeros(20)\n",
    "\n",
    "for i in range(len(b_norm)):\n",
    "    b_norm[i] = b[i]/np.sqrt(cov[i][i])\n",
    "    \n",
    "i = np.linspace(0,19,20)\n",
    "fig, ax = plt.subplots()\n",
    "ax.bar(i,-b_norm) #negativ geplottet, weil schoener"
   ]
  },
  {
   "cell_type": "markdown",
   "id": "ed64dbae",
   "metadata": {},
   "source": [
    "Koeffizienten kleiner als 1 werden als Oszillationen angenommen, die keine Informationen beinhalten. Daher wird der cutoff-Index auf i=7 gesetzt.\n",
    "\n",
    "## e)"
   ]
  },
  {
   "cell_type": "code",
   "execution_count": 52,
   "id": "0f9a8d3a",
   "metadata": {},
   "outputs": [
    {
     "data": {
      "text/plain": [
       "<matplotlib.legend.Legend at 0x7fc2f4bf76d0>"
      ]
     },
     "execution_count": 52,
     "metadata": {},
     "output_type": "execute_result"
    },
    {
     "data": {
      "image/png": "[encoded data removed]",
      "text/plain": [
       "<Figure size 1368x504 with 1 Axes>"
      ]
     },
     "metadata": {
      "needs_background": "light"
     },
     "output_type": "display_data"
    }
   ],
   "source": [
    "b_cut = np.append(b[0:8], np.zeros(12))\n",
    "\n",
    "f_unreg = U@b\n",
    "f_reg = U@b_cut\n",
    "\n",
    "\n",
    "errors = np.sqrt(np.diag(U@cov@U.T))\n",
    "\n",
    "fig, ax = plt.subplots(figsize=(19,7))\n",
    "ax.plot(i,f, label='PDF', c='black', linewidth=2.4)\n",
    "ax.errorbar(i,f_reg, xerr=0.5, yerr = errors/10, fmt='+', label ='regularized', c='#84bc2c', elinewidth=2.4)\n",
    "ax.errorbar(i,f_unreg, xerr = 0.5, yerr = errors, fmt='+', label='unregularized', c='#d495bc', elinewidth=2.4)\n",
    "ax.set_xlabel('x')\n",
    "ax.set_ylabel('events')\n",
    "ax.legend()\n"
   ]
  },
  {
   "cell_type": "code",
   "execution_count": null,
   "id": "432f04a2",
   "metadata": {},
   "outputs": [],
   "source": []
  }
 ],
 "metadata": {
  "kernelspec": {
   "display_name": "Python 3",
   "language": "python",
   "name": "python3"
  },
  "language_info": {
   "codemirror_mode": {
    "name": "ipython",
    "version": 3
   },
   "file_extension": ".py",
   "mimetype": "text/x-python",
   "name": "python",
   "nbconvert_exporter": "python",
   "pygments_lexer": "ipython3",
   "version": "3.8.8"
  }
 },
 "nbformat": 4,
 "nbformat_minor": 5
}
