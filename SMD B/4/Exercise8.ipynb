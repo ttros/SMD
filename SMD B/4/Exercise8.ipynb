{
 "cells": [
  {
   "cell_type": "markdown",
   "id": "0c59de57",
   "metadata": {},
   "source": [
    "# Exercise 8"
   ]
  },
  {
   "cell_type": "code",
   "execution_count": 1,
   "id": "e2390fd6",
   "metadata": {},
   "outputs": [],
   "source": [
    "import numpy as np\n",
    "import matplotlib.pyplot as plt"
   ]
  },
  {
   "cell_type": "markdown",
   "id": "83e33d7d",
   "metadata": {},
   "source": [
    "Die Likelihood-Funktion L und die negative log-likelihood-Funktion lauten:"
   ]
  },
  {
   "cell_type": "markdown",
   "id": "ae0ca545",
   "metadata": {},
   "source": [
    "$L(\\lambda) = \\Pi_i \\frac{\\lambda^{x_i}}{x_i!}e^{-\\lambda}$\n",
    "\n",
    "$l(\\lambda) = -\\text{ln}(L) = -\\Sigma_i (x_i \\text{ln}(\\lambda) - \\text{ln}(x_i!) + \\lambda)$\n",
    "\n",
    "$\\Rightarrow l(\\lambda) = 3\\lambda - (13+8+9) \\text{ln}(\\lambda) + \\text{ln}(13! \\cdot 8! \\cdot 9!)$"
   ]
  },
  {
   "cell_type": "code",
   "execution_count": 24,
   "id": "e6e1d2f7",
   "metadata": {},
   "outputs": [],
   "source": [
    "#def poisson(x, y): # Poisson-Verteilung (y := lambda)\n",
    "#   return y**x/np.math.factorial(x)*np.exp(-y)\n",
    "\n",
    "def l(y):  # negative log-likelihood function (y := lambda)\n",
    "    return 3*y -(13+8+9)*np.log(y) + np.log(np.math.factorial(13)) + np.log(np.math.factorial(8)) + np.log(np.math.factorial(9))\n",
    "    #np.log(np.math.factorial(13)*np.math.factorial(8)*np.math.factorial(9))"
   ]
  },
  {
   "cell_type": "code",
   "execution_count": 51,
   "id": "f91b2275",
   "metadata": {},
   "outputs": [
    {
     "name": "stdout",
     "output_type": "stream",
     "text": [
      "Minimum: ( [10.00018002] , [6.88104145] )\n"
     ]
    },
    {
     "data": {
      "image/png": "[encoded data removed]",
      "text/plain": [
       "<Figure size 432x288 with 1 Axes>"
      ]
     },
     "metadata": {
      "needs_background": "light"
     },
     "output_type": "display_data"
    }
   ],
   "source": [
    "fig, ax = plt.subplots(1,1)\n",
    "\n",
    "x = np.linspace(0.1, 40, 10000)\n",
    "y = l(x)\n",
    "\n",
    "min_x = x[y == np.min(y)]\n",
    "\n",
    "ax.plot(x, y, label = \"$l(\\lambda)$\", color = \"cornflowerblue\")\n",
    "ax.vlines(min_x, 0, 120, ls = \"dashed\", color = \"forestgreen\", label = \"$\\lamda_\\text{min}$\")\n",
    "\n",
    "ax.set_xlabel(\"$\\lambda$\")\n",
    "ax.set_ylabel(\"$l(\\lambda)$\")\n",
    "ax.set_xlim(0, 40)\n",
    "ax.set_ylim(0, 120)\n",
    "\n",
    "#ax.legend()\n",
    "plt.grid()\n",
    "\n",
    "print(\"Minimum: (\", min_x, \",\", l(min_x),\")\")"
   ]
  },
  {
   "cell_type": "code",
   "execution_count": null,
   "id": "930c21fd",
   "metadata": {},
   "outputs": [],
   "source": []
  }
 ],
 "metadata": {
  "kernelspec": {
   "display_name": "Python 3 (ipykernel)",
   "language": "python",
   "name": "python3"
  },
  "language_info": {
   "codemirror_mode": {
    "name": "ipython",
    "version": 3
   },
   "file_extension": ".py",
   "mimetype": "text/x-python",
   "name": "python",
   "nbconvert_exporter": "python",
   "pygments_lexer": "ipython3",
   "version": "3.10.4"
  }
 },
 "nbformat": 4,
 "nbformat_minor": 5
}
