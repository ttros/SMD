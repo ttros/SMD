{
 "cells": [
  {
   "cell_type": "code",
   "execution_count": 1,
   "id": "93594796",
   "metadata": {},
   "outputs": [],
   "source": [
    "import numpy as np\n",
    "import matplotlib.pyplot as plt\n",
    "import scipy.optimize as op"
   ]
  },
  {
   "cell_type": "markdown",
   "id": "caa2f65e",
   "metadata": {},
   "source": [
    "# Exercise 14"
   ]
  },
  {
   "cell_type": "markdown",
   "id": "4e42ad76",
   "metadata": {},
   "source": [
    "## a)\n",
    "<img src=\"files/14_a.png\">"
   ]
  },
  {
   "cell_type": "code",
   "execution_count": 2,
   "id": "ca733ea1",
   "metadata": {},
   "outputs": [
    {
     "name": "stdout",
     "output_type": "stream",
     "text": [
      "Most probable count rate mu =  4218.0\n"
     ]
    }
   ],
   "source": [
    "t = np.array([1,2,3,4,5,6,7])\n",
    "x = np.array([4135, 4202, 4203, 4218, 4227, 4231, 4310])\n",
    "\n",
    "mu = np.sum(x)/len(x)\n",
    "\n",
    "print('Most probable count rate mu = ', mu)"
   ]
  },
  {
   "cell_type": "markdown",
   "id": "c5d09472",
   "metadata": {},
   "source": [
    "## b)\n",
    "Linear steigender Fluss: $\\lambda (t) = \\lambda_0 + m\\cdot t$\n",
    "\n",
    "<img src=\"files/14_b.png\">"
   ]
  },
  {
   "cell_type": "code",
   "execution_count": 3,
   "id": "5df720e4",
   "metadata": {},
   "outputs": [
    {
     "name": "stdout",
     "output_type": "stream",
     "text": [
      "lambda = \t 4135.716556249791\n",
      "m = \t\t 20.776547014992307 (pro Tag)\n"
     ]
    }
   ],
   "source": [
    "# neg. log likelihood\n",
    "def F(lamda, m, x, t):\n",
    "    return -x*np.log(lamda+m*t) + lamda +m*t # Konstanter Teil mit Fakultät weggelassen, weil der konstant ist\n",
    "\n",
    "\n",
    "def F_tot(params): \n",
    "    F_t = 0\n",
    "    for i in np.arange(len(x)):\n",
    "        F_t = F_t + F(params[0], params[1], x[i], t[i])\n",
    "    return F_t\n",
    "    #return F(params[0], params[1], x[0], t[0]) + F(params[0], params[1], x[1], t[1]) + F(params[0], params[1], x[2], t[2]) + F(params[0], params[1], x[3], t[3]) + F(params[0], params[1], x[4], t[4]) + F(params[0], params[1], x[5], t[5])\n",
    "\n",
    "# Startvektor mit 1. Datenpunkt und Steigung zwischen ersten und letzten Datenpunkt\n",
    "x_0 = [x[0],(x[5]-x[0])/5]\n",
    "res = op.minimize(F_tot, x_0, bounds=[(0,None),(0,None)]) #Bounds wegen Positivität von Lambda und m\n",
    "#print(res)\n",
    "\n",
    "print('lambda = \\t', res.x[0])\n",
    "print('m = \\t\\t', res.x[1], \"(pro Tag)\")\n",
    "# Die Werte hängen noch geringfügig vom Startvektor ab"
   ]
  },
  {
   "cell_type": "markdown",
   "id": "1ba21a84",
   "metadata": {},
   "source": [
    "## c)\n",
    "\n",
    "Aufstellen des Verhältnisses der Likelihoods:\n",
    "\n",
    "<img src=\"files/14_c.png\">"
   ]
  },
  {
   "cell_type": "code",
   "execution_count": 4,
   "id": "ecccf657",
   "metadata": {},
   "outputs": [
    {
     "name": "stdout",
     "output_type": "stream",
     "text": [
      "3.111751922800984\n"
     ]
    }
   ],
   "source": [
    "X = 0\n",
    "lam_0 = res.x[0]\n",
    "m = res.x[1]\n",
    "\n",
    "for i in np.arange(len(x)):\n",
    "    X = X -2*(x[i]*np.log((lam_0 + m*t[i])/mu) + mu - lam_0 - m*t[i])\n",
    "    \n",
    "print(-X) # warum ist das negativ lel"
   ]
  },
  {
   "cell_type": "markdown",
   "id": "0c8d1e32",
   "metadata": {},
   "source": [
    "Wilks Theorem: $-2\\text{log}(\\Gamma)$ ist $\\chi^2$ verteilt. (Hier: mit einem Freiheitsgrad)\n",
    "\n",
    "Bedingung für die Gültigkeit des Theorems sind, dass die Nullhypothese aus einer linearen Transformation der alternativen Hypothese hervorgeht (ist offensichtlich der Fall) und der Stichprobenumfang groß ist, was auf Grund der hohen Zählraten gegeben ist. \n",
    "\n",
    "Die Signifikanz lässt sich aus der Tabelle im Skript ablesen (1 degree of freedom) zu ca. 0,05%."
   ]
  },
  {
   "cell_type": "markdown",
   "id": "252297d4",
   "metadata": {},
   "source": [
    "## d)"
   ]
  },
  {
   "cell_type": "code",
   "execution_count": 5,
   "id": "576547c4",
   "metadata": {
    "scrolled": true
   },
   "outputs": [
    {
     "name": "stdout",
     "output_type": "stream",
     "text": [
      "Updated probable count rate mu =  4241.0\n"
     ]
    }
   ],
   "source": [
    "t = np.array([1,2,3,4,5,6,7,14])\n",
    "x = np.array([4135, 4202, 4203, 4218, 4227, 4231, 4310, 4402])\n",
    "\n",
    "mu_new = np.sum(x)/len(x)\n",
    "\n",
    "print('Updated probable count rate mu = ', mu_new)"
   ]
  },
  {
   "cell_type": "code",
   "execution_count": 6,
   "id": "7c1bf4ac",
   "metadata": {},
   "outputs": [
    {
     "name": "stdout",
     "output_type": "stream",
     "text": [
      "lambda = \t 4134.116407434454\n",
      "m = \t\t 19.91387369956547 (pro Tag)\n"
     ]
    }
   ],
   "source": [
    "x_0 = [x[0],(x[6]-x[0])/6]\n",
    "res = op.minimize(F_tot, x_0, bounds=[(0,None),(0,None)])\n",
    "#print(res)\n",
    "\n",
    "print('lambda = \\t', res.x[0])\n",
    "print('m = \\t\\t', res.x[1], \"(pro Tag)\")"
   ]
  },
  {
   "cell_type": "code",
   "execution_count": 7,
   "id": "acde2e7f",
   "metadata": {},
   "outputs": [
    {
     "name": "stdout",
     "output_type": "stream",
     "text": [
      "10.953865050738273\n"
     ]
    }
   ],
   "source": [
    "X = 0\n",
    "lam_0 = res.x[0]\n",
    "m = res.x[1]\n",
    "\n",
    "for i in np.arange(len(x)):\n",
    "    X = X -2*(x[i]*np.log((lam_0 + m*t[i])/mu) + mu - lam_0 - m*t[i])\n",
    "    \n",
    "print(-X)"
   ]
  },
  {
   "cell_type": "markdown",
   "id": "92b954e1",
   "metadata": {},
   "source": [
    "Nun ergibt sich eine Signifikanz von über 99% bzw. von mehr als 3$\\sigma$."
   ]
  },
  {
   "cell_type": "markdown",
   "id": "dfcf5ffb",
   "metadata": {},
   "source": [
    "## e)"
   ]
  },
  {
   "cell_type": "markdown",
   "id": "1cdff1ef",
   "metadata": {},
   "source": [
    "Die Messergebnisse stammen aus einer anderen Messreihe und somit können die Daten nicht einfach mit denen der ursprünglichen Messreihe verglichen werden. Es könnten andere Messbedingungen vorliegen die für andere statistische bzw. systematische Fehler sorgen."
   ]
  }
 ],
 "metadata": {
  "kernelspec": {
   "display_name": "Python 3 (ipykernel)",
   "language": "python",
   "name": "python3"
  },
  "language_info": {
   "codemirror_mode": {
    "name": "ipython",
    "version": 3
   },
   "file_extension": ".py",
   "mimetype": "text/x-python",
   "name": "python",
   "nbconvert_exporter": "python",
   "pygments_lexer": "ipython3",
   "version": "3.9.12"
  }
 },
 "nbformat": 4,
 "nbformat_minor": 5
}
