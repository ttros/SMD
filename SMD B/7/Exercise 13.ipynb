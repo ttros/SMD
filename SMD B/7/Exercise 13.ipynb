{
 "cells": [
  {
   "cell_type": "markdown",
   "id": "6e7a83d4",
   "metadata": {},
   "source": [
    "# Exercise 13"
   ]
  },
  {
   "cell_type": "markdown",
   "id": "38eb86bb",
   "metadata": {},
   "source": [
    "## a)\n",
    "\n",
    "Die Poisson-Verteilung hat den Erwartungswert und die Varianz $\\lambda$, demnach sollte die Gaussverteilung so gewählt werden,\n",
    "dass $\\mu = \\lambda$ und $\\sigma = \\sqrt{\\text{Var}(X)} = \\sqrt{\\lambda}$ gilt."
   ]
  },
  {
   "cell_type": "markdown",
   "id": "6db2e848",
   "metadata": {},
   "source": [
    "## b)"
   ]
  },
  {
   "cell_type": "code",
   "execution_count": 1,
   "id": "8d49c665",
   "metadata": {},
   "outputs": [],
   "source": [
    "import numpy as np\n",
    "import matplotlib.pyplot as plt"
   ]
  },
  {
   "cell_type": "code",
   "execution_count": 2,
   "id": "6c2ba953",
   "metadata": {},
   "outputs": [],
   "source": [
    "def KST(bins_1, bins_2, alpha): # bins_i should have same binning\n",
    "    n_1, n_2 = np.sum(bins_1), np.sum(bins_2) # total number of measurements in each histogram\n",
    "    d = np.max(np.abs(bins_1/n_1 - bins_2/n_2)) # divide by n to ensure normalisation\n",
    "    return np.sqrt(n_1*n_2/(n_1+n_2))*d <= np.sqrt(np.log(2/alpha)/2) # returns true if H_0 is accepted, false otherwise"
   ]
  },
  {
   "cell_type": "markdown",
   "id": "34f03941",
   "metadata": {},
   "source": [
    "## c)"
   ]
  },
  {
   "cell_type": "code",
   "execution_count": 51,
   "id": "94ca00e3",
   "metadata": {},
   "outputs": [],
   "source": [
    "rng = np.random.default_rng(420) # random number generator\n",
    "\n",
    "def test(lamda, alpha):\n",
    "    \n",
    "    # drawing random numbers from each distribution\n",
    "    x_1 = rng.poisson(lam = lamda, size = 10000)\n",
    "    x_2 = np.around(rng.normal(loc = lamda, scale = np.sqrt(lamda), size = 10000))\n",
    "    \n",
    "    # create binning\n",
    "    bins_1, limits, patches = plt.hist(x_1, bins = 100, range = (lamda-5*np.sqrt(lamda), lamda+5*np.sqrt(lamda)))\n",
    "    bins_2, limits, patches = plt.hist(x_2, bins = 100, range = (lamda-5*np.sqrt(lamda), lamda+5*np.sqrt(lamda)))\n",
    "    plt.close()\n",
    "    \n",
    "    # test wether hypothesis is accepted\n",
    "    return KST(bins_1, bins_2, alpha)"
   ]
  },
  {
   "cell_type": "markdown",
   "id": "04b66f87",
   "metadata": {},
   "source": [
    "Bestimmen ab welchem $\\lambda$ die Verteilungen nicht mehr unterschieden werden können ($\\alpha = 0.05$)"
   ]
  },
  {
   "cell_type": "markdown",
   "id": "4291ef7e",
   "metadata": {},
   "source": [
    "Durch austesten kann grob ermittelt werden, dass der kritische Wert für $\\lambda$ zwischen 1 und 10 liegen sollte."
   ]
  },
  {
   "cell_type": "code",
   "execution_count": 57,
   "id": "15db282f",
   "metadata": {},
   "outputs": [
    {
     "name": "stdout",
     "output_type": "stream",
     "text": [
      "Lambda =  4.909090909090909\n"
     ]
    }
   ],
   "source": [
    "l = np.linspace(1, 10, 100)\n",
    "\n",
    "for i in range(len(l)):\n",
    "    if test(l[i], 0.05) == True:\n",
    "        print(\"Lambda = \", l[i])\n",
    "        break"
   ]
  },
  {
   "cell_type": "markdown",
   "id": "e1fafab8",
   "metadata": {},
   "source": [
    "Ist in diesem Fall der kritische Wert. (Obwohl wir einen seed verwenden, hängt das Ergebnis von den gezogenen Zufallszahlen ab)."
   ]
  },
  {
   "cell_type": "markdown",
   "id": "36158167",
   "metadata": {},
   "source": [
    "## d)"
   ]
  },
  {
   "cell_type": "code",
   "execution_count": 81,
   "id": "a5e5b9c0",
   "metadata": {},
   "outputs": [
    {
     "name": "stdout",
     "output_type": "stream",
     "text": [
      "Lambda (2.5%) =  4.454545454545455\n",
      "Lambda (0.1%) =  3.272727272727273\n"
     ]
    }
   ],
   "source": [
    "for i in range(len(l)):\n",
    "    if test(l[i], 0.025) == True:\n",
    "        print(\"Lambda (2.5%) = \", l[i])\n",
    "        break\n",
    "        \n",
    "for i in range(len(l)):\n",
    "    if test(l[i], 0.001) == True:\n",
    "        print(\"Lambda (0.1%) = \", l[i])\n",
    "        break        "
   ]
  },
  {
   "cell_type": "code",
   "execution_count": null,
   "id": "761b095a",
   "metadata": {},
   "outputs": [],
   "source": []
  }
 ],
 "metadata": {
  "kernelspec": {
   "display_name": "Python 3 (ipykernel)",
   "language": "python",
   "name": "python3"
  },
  "language_info": {
   "codemirror_mode": {
    "name": "ipython",
    "version": 3
   },
   "file_extension": ".py",
   "mimetype": "text/x-python",
   "name": "python",
   "nbconvert_exporter": "python",
   "pygments_lexer": "ipython3",
   "version": "3.10.4"
  }
 },
 "nbformat": 4,
 "nbformat_minor": 5
}
