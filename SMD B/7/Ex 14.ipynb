{
 "cells": [
  {
   "cell_type": "code",
   "execution_count": 15,
   "id": "93594796",
   "metadata": {},
   "outputs": [],
   "source": [
    "import numpy as np\n",
    "import matplotlib.pyplot as plt\n",
    "import scipy.optimize as op"
   ]
  },
  {
   "cell_type": "markdown",
   "id": "caa2f65e",
   "metadata": {},
   "source": [
    "# Exercise 14"
   ]
  },
  {
   "cell_type": "markdown",
   "id": "4e42ad76",
   "metadata": {},
   "source": [
    "## a)\n",
    "<img src=\"files/13_a.png\">"
   ]
  },
  {
   "cell_type": "code",
   "execution_count": 47,
   "id": "ca733ea1",
   "metadata": {},
   "outputs": [
    {
     "name": "stdout",
     "output_type": "stream",
     "text": [
      "Most probable count rate mu =  4218.0\n"
     ]
    }
   ],
   "source": [
    "t = np.array([1,2,3,4,5,6,7])\n",
    "x = np.array([4135, 4202, 4203, 4218, 4227, 4231, 4310])\n",
    "\n",
    "mu = np.sum(x)/len(x)\n",
    "\n",
    "print('Most probable count rate mu = ', mu)"
   ]
  },
  {
   "cell_type": "markdown",
   "id": "f5b2831c",
   "metadata": {},
   "source": [
    "Linear steigender Fluss: $\\lambda (t) = \\lambda_0 + m\\cdot t$"
   ]
  },
  {
   "cell_type": "markdown",
   "id": "c5d09472",
   "metadata": {},
   "source": [
    "## b)\n",
    "\n",
    "<img src=\"files/13_b.png\">"
   ]
  },
  {
   "cell_type": "code",
   "execution_count": 45,
   "id": "5df720e4",
   "metadata": {},
   "outputs": [
    {
     "name": "stdout",
     "output_type": "stream",
     "text": [
      "lambda = \t 4145.4520213805745\n",
      "m = \t\t 16.506761322979663\n"
     ]
    }
   ],
   "source": [
    "# neg. log likelihood\n",
    "def F(lamda, m, x, t):\n",
    "    return -x*np.log(lamda+m*t) + lamda +m*t # Konstanter Teil mit Fakultät weggelassen, weil der konstant ist\n",
    "\n",
    "\n",
    "def F_tot(params): \n",
    "    return F(params[0], params[1], x[0], t[0]) + F(params[0], params[1], x[1], t[1]) + F(params[0], params[1], x[2], t[2]) + F(params[0], params[1], x[3], t[3]) + F(params[0], params[1], x[4], t[4]) + F(params[0], params[1], x[5], t[5])\n",
    "\n",
    "# Startvektor mit 1. Datenpunkt und Steigung zwischen ersten beiden Datenpunkten\n",
    "x_0 = [x[0],(x[1]-x[0])]\n",
    "\n",
    "res = op.minimize(F_tot,x_0, bounds=[(0,None),(0,None)]) #Bounds wegen Positivität von Lambda und m\n",
    "res.x\n",
    "\n",
    "print('lambda = \\t', res.x[0])\n",
    "print('m = \\t\\t', res.x[1])"
   ]
  },
  {
   "cell_type": "code",
   "execution_count": null,
   "id": "823207df",
   "metadata": {},
   "outputs": [],
   "source": []
  }
 ],
 "metadata": {
  "kernelspec": {
   "display_name": "Python 3",
   "language": "python",
   "name": "python3"
  },
  "language_info": {
   "codemirror_mode": {
    "name": "ipython",
    "version": 3
   },
   "file_extension": ".py",
   "mimetype": "text/x-python",
   "name": "python",
   "nbconvert_exporter": "python",
   "pygments_lexer": "ipython3",
   "version": "3.8.8"
  }
 },
 "nbformat": 4,
 "nbformat_minor": 5
}
