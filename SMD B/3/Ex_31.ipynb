{
 "cells": [
  {
   "cell_type": "code",
   "execution_count": 2,
   "id": "ba84f64a",
   "metadata": {},
   "outputs": [],
   "source": [
    "import numpy as np\n",
    "import pandas as pd\n",
    "import matplotlib.pyplot as plt"
   ]
  },
  {
   "cell_type": "markdown",
   "id": "1511d3db",
   "metadata": {},
   "source": [
    "# Exercise 31\n",
    "## a)"
   ]
  },
  {
   "cell_type": "code",
   "execution_count": 97,
   "id": "6d04e63f",
   "metadata": {},
   "outputs": [
    {
     "name": "stdout",
     "output_type": "stream",
     "text": [
      "Coefficents:  [ 2.50619533e-01 -5.78875871e-01  7.03767007e-01 -3.37061731e-01\n",
      "  7.69042416e-02 -8.41974710e-03  3.55422916e-04]\n"
     ]
    }
   ],
   "source": [
    "data_a = pd.read_csv('ex_a.csv')\n",
    "\n",
    "#data_a.columns\n",
    "x = data_a['x'].values\n",
    "y = data_a[' \"y_0\"'].values #warum macht man da ein Leerzeichen vor den Namen???!!!???!!!???!!!???!!!???!!!\n",
    "\n",
    "\n",
    "def poly(n,x):\n",
    "    return x**n\n",
    "\n",
    "def poly6(x, a):\n",
    "    return a[0] + a[1]*x + a[2]*x**2 + a[3]*x**3 + a[4]*x**4 + a[5]*x**5 + a[6]*x**6\n",
    "\n",
    "\n",
    "# design matrix\n",
    "A = np.array([poly(0,x), poly(1,x), poly(2,x), poly(3,x), poly(4,x), poly(5,x), poly(6,x)]).T\n",
    "\n",
    "a = (np.linalg.inv(A.T@A)@A.T)@y\n",
    "\n",
    "print('Coefficents: ', a)"
   ]
  },
  {
   "cell_type": "code",
   "execution_count": 95,
   "id": "8db94607",
   "metadata": {},
   "outputs": [
    {
     "data": {
      "text/plain": [
       "[<matplotlib.lines.Line2D at 0x7fcbcefb2b50>]"
      ]
     },
     "execution_count": 95,
     "metadata": {},
     "output_type": "execute_result"
    },
    {
     "data": {
      "image/png": "[encoded data removed]",
      "text/plain": [
       "<Figure size 432x288 with 1 Axes>"
      ]
     },
     "metadata": {
      "needs_background": "light"
     },
     "output_type": "display_data"
    }
   ],
   "source": [
    "fig = plt.figure()\n",
    "\n",
    "xx = np.linspace(0,8,1000)\n",
    "\n",
    "ax = fig.add_subplot(1,1,1)\n",
    "ax.plot(x,y,'x')\n",
    "ax.plot(xx, poly6(xx,a))"
   ]
  },
  {
   "cell_type": "code",
   "execution_count": null,
   "id": "b3fbbd00",
   "metadata": {},
   "outputs": [],
   "source": []
  }
 ],
 "metadata": {
  "kernelspec": {
   "display_name": "Python 3",
   "language": "python",
   "name": "python3"
  },
  "language_info": {
   "codemirror_mode": {
    "name": "ipython",
    "version": 3
   },
   "file_extension": ".py",
   "mimetype": "text/x-python",
   "name": "python",
   "nbconvert_exporter": "python",
   "pygments_lexer": "ipython3",
   "version": "3.8.8"
  }
 },
 "nbformat": 4,
 "nbformat_minor": 5
}
