{
 "cells": [
  {
   "cell_type": "markdown",
   "id": "8e40ef9e",
   "metadata": {},
   "source": [
    "## a)"
   ]
  },
  {
   "cell_type": "code",
   "execution_count": 1,
   "id": "af4ed88f",
   "metadata": {},
   "outputs": [],
   "source": [
    "import numpy as np\n",
    "import matplotlib.pyplot as plt\n",
    "\n",
    "height, weight = np.genfromtxt(\"height_weight.txt\", unpack = True)"
   ]
  },
  {
   "cell_type": "code",
   "execution_count": 2,
   "id": "4a35a3bd",
   "metadata": {},
   "outputs": [
    {
     "data": {
      "image/png": "[encoded data removed]",
      "text/plain": [
       "<Figure size 432x288 with 6 Axes>"
      ]
     },
     "metadata": {
      "needs_background": "light"
     },
     "output_type": "display_data"
    }
   ],
   "source": [
    "fig, axs = plt.subplots(3,2)\n",
    "\n",
    "axs[0][0].hist(height, bins = 5)\n",
    "axs[0][1].hist(height, bins = 10)\n",
    "axs[1][0].hist(height, bins = 15)\n",
    "axs[1][1].hist(height, bins = 20)\n",
    "axs[2][0].hist(height, bins = 30)\n",
    "axs[2][1].hist(height, bins = 50)\n",
    "\n",
    "axs[0][0].set_title(\"5\")\n",
    "axs[0][1].set_title(\"10\")\n",
    "axs[1][0].set_title(\"15\")\n",
    "axs[1][1].set_title(\"20\")\n",
    "axs[2][0].set_title(\"30\")\n",
    "axs[2][1].set_title(\"50\")\n",
    "\n",
    "plt.tight_layout()"
   ]
  },
  {
   "cell_type": "code",
   "execution_count": 3,
   "id": "6908e159",
   "metadata": {},
   "outputs": [
    {
     "data": {
      "image/png": "[encoded data removed]",
      "text/plain": [
       "<Figure size 432x288 with 6 Axes>"
      ]
     },
     "metadata": {
      "needs_background": "light"
     },
     "output_type": "display_data"
    }
   ],
   "source": [
    "fig1, axs1 = plt.subplots(3,2)\n",
    "\n",
    "axs1[0][0].hist(weight, bins = 5)\n",
    "axs1[0][1].hist(weight, bins = 10)\n",
    "axs1[1][0].hist(weight, bins = 15)\n",
    "axs1[1][1].hist(weight, bins = 20)\n",
    "axs1[2][0].hist(weight, bins = 30)\n",
    "axs1[2][1].hist(weight, bins = 50)\n",
    "\n",
    "axs1[0][0].set_title(\"5\")\n",
    "axs1[0][1].set_title(\"10\")\n",
    "axs1[1][0].set_title(\"15\")\n",
    "axs1[1][1].set_title(\"20\")\n",
    "axs1[2][0].set_title(\"30\")\n",
    "axs1[2][1].set_title(\"50\")\n",
    "\n",
    "plt.tight_layout()"
   ]
  },
  {
   "cell_type": "code",
   "execution_count": 4,
   "id": "50408a11",
   "metadata": {},
   "outputs": [
    {
     "name": "stdout",
     "output_type": "stream",
     "text": [
      "1.97\n",
      "1.63\n"
     ]
    }
   ],
   "source": [
    "print(np.max(height))\n",
    "print(np.min(height))"
   ]
  },
  {
   "cell_type": "markdown",
   "id": "5cc56710",
   "metadata": {},
   "source": [
    "## b)\n",
    "\n",
    "Mehr Daten --> allgemein mehr bins möglich\n",
    "Aber:\n",
    "- maximale Bin Anzahl abhängig von Messgenauigkeit:\n",
    "    - Größe in cm: "
   ]
  },
  {
   "cell_type": "markdown",
   "id": "11137b2e",
   "metadata": {},
   "source": [
    "## c)"
   ]
  },
  {
   "cell_type": "code",
   "execution_count": 5,
   "id": "262e094d",
   "metadata": {},
   "outputs": [
    {
     "name": "stdout",
     "output_type": "stream",
     "text": [
      "[62 77 12 ... 36 73 99]\n"
     ]
    }
   ],
   "source": [
    "rng = np.random.default_rng(420)\n",
    "numbers = rng.integers(1, 100, 10**5)\n",
    "print(numbers)\n",
    "\n",
    "numbers_log = np.log(numbers)"
   ]
  },
  {
   "cell_type": "code",
   "execution_count": 6,
   "id": "a57650b9",
   "metadata": {},
   "outputs": [
    {
     "data": {
      "image/png": "[encoded data removed]",
      "text/plain": [
       "<Figure size 432x288 with 6 Axes>"
      ]
     },
     "metadata": {
      "needs_background": "light"
     },
     "output_type": "display_data"
    }
   ],
   "source": [
    "fig2, axs2 = plt.subplots(3,2)\n",
    "\n",
    "axs2[0][0].hist(numbers_log, bins = 5)\n",
    "axs2[0][1].hist(numbers_log, bins = 15)\n",
    "axs2[1][0].hist(numbers_log, bins = 25)\n",
    "axs2[1][1].hist(numbers_log, bins = 30)\n",
    "axs2[2][0].hist(numbers_log, bins = 50)\n",
    "axs2[2][1].hist(numbers_log, bins = 100)\n",
    "\n",
    "axs2[0][0].set_title(\"5\")\n",
    "axs2[0][1].set_title(\"15\")\n",
    "axs2[1][0].set_title(\"25\")\n",
    "axs2[1][1].set_title(\"30\")\n",
    "axs2[2][0].set_title(\"50\")\n",
    "axs2[2][1].set_title(\"100\")\n",
    "\n",
    "plt.tight_layout()"
   ]
  },
  {
   "cell_type": "code",
   "execution_count": null,
   "id": "80e0a225",
   "metadata": {},
   "outputs": [],
   "source": []
  }
 ],
 "metadata": {
  "kernelspec": {
   "display_name": "Python 3",
   "language": "python",
   "name": "python3"
  },
  "language_info": {
   "codemirror_mode": {
    "name": "ipython",
    "version": 3
   },
   "file_extension": ".py",
   "mimetype": "text/x-python",
   "name": "python",
   "nbconvert_exporter": "python",
   "pygments_lexer": "ipython3",
   "version": "3.8.8"
  }
 },
 "nbformat": 4,
 "nbformat_minor": 5
}
