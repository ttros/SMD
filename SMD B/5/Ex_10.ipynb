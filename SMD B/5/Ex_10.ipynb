{
 "cells": [
  {
   "cell_type": "code",
   "execution_count": 1,
   "id": "3b4d8001",
   "metadata": {},
   "outputs": [],
   "source": [
    "import numpy as np\n",
    "import matplotlib.pyplot as plt"
   ]
  },
  {
   "cell_type": "markdown",
   "id": "3eb56d87",
   "metadata": {},
   "source": [
    "# Ex 10\n",
    "Given is the likelihood function for a measured value 𝑥 at a given parameter 𝑎\n",
    "𝐿(𝑋;𝑎)=1 1 mit 𝑎>0. (1) 𝜋 1+(𝑥−𝑎)2\n",
    "\n",
    "## a)\n",
    "Using the Neyman construction, determine the central frequentist 90 % confidence interval for 𝑎 when a value 𝑥 = 10 was measured."
   ]
  },
  {
   "cell_type": "markdown",
   "id": "04a4aaa2",
   "metadata": {},
   "source": [
    "Likelihood funktion integerieren:\n",
    "\n",
    "$\\int L(x,a) = \\frac{1}{\\pi}\\arctan(x-a)$\n",
    "\n",
    "Symmetrisches Intervall bestimmen. Untere Grenze, indem integrieren bis $x_{unten}$, wo integral 0,05 ist:\n",
    "\n",
    "$\\int_{-\\infty}^{x_{unten}} L(x,a) = 0.05$\n",
    "\n",
    "$\\Leftrightarrow \\frac{1}{\\pi}\\arctan(x-a) |_{-\\infty}^{_{unten}} = 0.05 $\n",
    "\n",
    "$\\Leftrightarrow \\lim \\limits_{u \\to -\\infty}\\frac{1}{\\pi}(\\arctan(x_{unten}-a) - \\arctan(u-a)) = 0.05$\n",
    "\n",
    "$\\Leftrightarrow \\frac{1}{\\pi}(\\arctan(x_{unten}-a) - \\frac{-\\pi}{2}) = 0.05$\n",
    "\n",
    "$\\Leftrightarrow \\arctan(x_{unten}-a) = 0.05 \\pi - \\frac{\\pi}{2}$\n",
    "\n",
    "$\\Leftrightarrow x_{unten} = \\tan(\\frac{-9}{20}\\pi)+a$\n",
    "\n",
    "\n",
    "$\\Rightarrow x_{unten} \\approx -6.31 + a$\n",
    "\n",
    "Obere Grenze:\n",
    "\n",
    "$\\Rightarrow \\frac{1}{\\pi}\\arctan(x-a) |_{x_{oben}}^{\\infty} = 0.05 $\n",
    "\n",
    "$\\Leftrightarrow x_{oben} = \\tan(\\frac{9}{20}) + a$\n",
    "\n",
    "$\\Rightarrow x_{oben} \\approx 6.31 + a$"
   ]
  },
  {
   "cell_type": "code",
   "execution_count": 2,
   "id": "840d9057",
   "metadata": {
    "scrolled": true
   },
   "outputs": [
    {
     "data": {
      "text/plain": [
       "6.313751514675041"
      ]
     },
     "execution_count": 2,
     "metadata": {},
     "output_type": "execute_result"
    }
   ],
   "source": [
    "x = np.tan(9/20 * np.pi)\n",
    "x"
   ]
  },
  {
   "cell_type": "code",
   "execution_count": 8,
   "id": "32e8a821",
   "metadata": {
    "scrolled": true
   },
   "outputs": [
    {
     "data": {
      "text/plain": [
       "<matplotlib.collections.LineCollection at 0x7faf15467e50>"
      ]
     },
     "execution_count": 8,
     "metadata": {},
     "output_type": "execute_result"
    },
    {
     "data": {
      "image/png": "[encoded data removed]",
      "text/plain": [
       "<Figure size 432x288 with 1 Axes>"
      ]
     },
     "metadata": {
      "needs_background": "light"
     },
     "output_type": "display_data"
    }
   ],
   "source": [
    "def L(a,x=10):\n",
    "    return 1/np.pi * 1/(1+(x-a)**2)\n",
    "\n",
    "a = np.linspace(-10,25,1000)\n",
    "\n",
    "fig, ax = plt.subplots(1,1)\n",
    "ax.plot(a,-6.31+a, label = \"$x_{unten}$\")\n",
    "ax.plot(a,a, ls = \"dashed\", label = \"$x_{\\mu}$\")\n",
    "ax.plot(a,6.31+a , label = \"$x_{oben}$\")\n",
    "ax.set_xlim(-8,25)\n",
    "ax.set_ylim(0,25)\n",
    "plt.grid()\n",
    "plt.legend()\n",
    "\n",
    "ax.hlines(10, -6,25, ls = \"dashed\", color = \"gold\") #zu .hlines korrigiert"
   ]
  },
  {
   "cell_type": "markdown",
   "id": "35ac5d58",
   "metadata": {},
   "source": [
    "## b) Reiner Müll "
   ]
  },
  {
   "cell_type": "code",
   "execution_count": 4,
   "id": "b3456fee",
   "metadata": {},
   "outputs": [],
   "source": [
    "a_max = 40 # völlig absurde Annahme, da man ne uniform-distribution sonst nicht angeben kann\n",
    "x = 10\n",
    "\n",
    "def p(a, x, a_max):\n",
    "    return 1/((1 + (x-a)**2)*(np.arctan(x)-np.arctan(x-a_max)))\n",
    "\n",
    "def a_u(x, a_max):\n",
    "    return x - np.tan(0.05*(np.arctan(x)-np.arctan(x-a_max))+np.arctan(x))\n",
    "\n",
    "def a_o(x, a_max):\n",
    "    return x - np.tan(0.05*(np.arctan(x-a_max)-np.arctan(x)) + np.arctan(x-a_max))"
   ]
  },
  {
   "cell_type": "code",
   "execution_count": 5,
   "id": "2c75e2c6",
   "metadata": {},
   "outputs": [
    {
     "name": "stdout",
     "output_type": "stream",
     "text": [
      "10.073689331407861\n",
      "3.471409072590541\n"
     ]
    },
    {
     "data": {
      "image/png": "[encoded data removed]",
      "text/plain": [
       "<Figure size 432x288 with 1 Axes>"
      ]
     },
     "metadata": {
      "needs_background": "light"
     },
     "output_type": "display_data"
    }
   ],
   "source": [
    "a_m = np.linspace(15, 200, 10000)\n",
    "\n",
    "plt.plot(a_m, a_u(10, a_m))\n",
    "plt.plot(a_m, a_o(10, a_m))\n",
    "\n",
    "print(a_o(10, 10))\n",
    "print(a_o(10, 10000))"
   ]
  },
  {
   "cell_type": "markdown",
   "id": "4086ce65",
   "metadata": {},
   "source": []
  }
 ],
 "metadata": {
  "kernelspec": {
   "display_name": "Python 3",
   "language": "python",
   "name": "python3"
  },
  "language_info": {
   "codemirror_mode": {
    "name": "ipython",
    "version": 3
   },
   "file_extension": ".py",
   "mimetype": "text/x-python",
   "name": "python",
   "nbconvert_exporter": "python",
   "pygments_lexer": "ipython3",
   "version": "3.8.8"
  }
 },
 "nbformat": 4,
 "nbformat_minor": 5
}
