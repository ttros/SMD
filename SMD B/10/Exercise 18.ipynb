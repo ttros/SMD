{
 "cells": [
  {
   "cell_type": "markdown",
   "id": "3acd4cd1",
   "metadata": {},
   "source": [
    "# Exercise 18"
   ]
  },
  {
   "cell_type": "code",
   "execution_count": 1,
   "id": "c21fa960",
   "metadata": {},
   "outputs": [],
   "source": [
    "import numpy as np\n",
    "import matplotlib.pyplot as plt\n",
    "import scipy as sc\n",
    "import pandas as pd"
   ]
  },
  {
   "cell_type": "markdown",
   "id": "a2b78886",
   "metadata": {},
   "source": [
    "## a)"
   ]
  },
  {
   "cell_type": "code",
   "execution_count": 2,
   "id": "491f7042",
   "metadata": {},
   "outputs": [
    {
     "data": {
      "text/html": [
       "<div>\n",
       "<style scoped>\n",
       "    .dataframe tbody tr th:only-of-type {\n",
       "        vertical-align: middle;\n",
       "    }\n",
       "\n",
       "    .dataframe tbody tr th {\n",
       "        vertical-align: top;\n",
       "    }\n",
       "\n",
       "    .dataframe thead th {\n",
       "        text-align: right;\n",
       "    }\n",
       "</style>\n",
       "<table border=\"1\" class=\"dataframe\">\n",
       "  <thead>\n",
       "    <tr style=\"text-align: right;\">\n",
       "      <th></th>\n",
       "      <th>Date</th>\n",
       "      <th>Time</th>\n",
       "      <th>Measurement</th>\n",
       "      <th>Temperature</th>\n",
       "    </tr>\n",
       "  </thead>\n",
       "  <tbody>\n",
       "    <tr>\n",
       "      <th>0</th>\n",
       "      <td>01.01.2000</td>\n",
       "      <td>00:00</td>\n",
       "      <td>2000.000000</td>\n",
       "      <td>3.0</td>\n",
       "    </tr>\n",
       "    <tr>\n",
       "      <th>1</th>\n",
       "      <td>01.01.2000</td>\n",
       "      <td>00:15</td>\n",
       "      <td>2000.000028</td>\n",
       "      <td>3.0</td>\n",
       "    </tr>\n",
       "    <tr>\n",
       "      <th>2</th>\n",
       "      <td>01.01.2000</td>\n",
       "      <td>00:30</td>\n",
       "      <td>2000.000057</td>\n",
       "      <td>3.0</td>\n",
       "    </tr>\n",
       "    <tr>\n",
       "      <th>3</th>\n",
       "      <td>01.01.2000</td>\n",
       "      <td>00:45</td>\n",
       "      <td>2000.000085</td>\n",
       "      <td>3.0</td>\n",
       "    </tr>\n",
       "    <tr>\n",
       "      <th>4</th>\n",
       "      <td>01.01.2000</td>\n",
       "      <td>01:00</td>\n",
       "      <td>2000.000114</td>\n",
       "      <td>3.0</td>\n",
       "    </tr>\n",
       "    <tr>\n",
       "      <th>...</th>\n",
       "      <td>...</td>\n",
       "      <td>...</td>\n",
       "      <td>...</td>\n",
       "      <td>...</td>\n",
       "    </tr>\n",
       "    <tr>\n",
       "      <th>307885</th>\n",
       "      <td>31.12.2008</td>\n",
       "      <td>23:10</td>\n",
       "      <td>2008.999905</td>\n",
       "      <td>-4.0</td>\n",
       "    </tr>\n",
       "    <tr>\n",
       "      <th>307886</th>\n",
       "      <td>31.12.2008</td>\n",
       "      <td>23:20</td>\n",
       "      <td>2008.999924</td>\n",
       "      <td>-3.0</td>\n",
       "    </tr>\n",
       "    <tr>\n",
       "      <th>307887</th>\n",
       "      <td>31.12.2008</td>\n",
       "      <td>23:30</td>\n",
       "      <td>2008.999943</td>\n",
       "      <td>-3.0</td>\n",
       "    </tr>\n",
       "    <tr>\n",
       "      <th>307888</th>\n",
       "      <td>31.12.2008</td>\n",
       "      <td>23:40</td>\n",
       "      <td>2008.999962</td>\n",
       "      <td>-4.0</td>\n",
       "    </tr>\n",
       "    <tr>\n",
       "      <th>307889</th>\n",
       "      <td>31.12.2008</td>\n",
       "      <td>23:50</td>\n",
       "      <td>2008.999981</td>\n",
       "      <td>-4.0</td>\n",
       "    </tr>\n",
       "  </tbody>\n",
       "</table>\n",
       "<p>307890 rows × 4 columns</p>\n",
       "</div>"
      ],
      "text/plain": [
       "              Date   Time  Measurement  Temperature\n",
       "0       01.01.2000  00:00  2000.000000          3.0\n",
       "1       01.01.2000  00:15  2000.000028          3.0\n",
       "2       01.01.2000  00:30  2000.000057          3.0\n",
       "3       01.01.2000  00:45  2000.000085          3.0\n",
       "4       01.01.2000  01:00  2000.000114          3.0\n",
       "...            ...    ...          ...          ...\n",
       "307885  31.12.2008  23:10  2008.999905         -4.0\n",
       "307886  31.12.2008  23:20  2008.999924         -3.0\n",
       "307887  31.12.2008  23:30  2008.999943         -3.0\n",
       "307888  31.12.2008  23:40  2008.999962         -4.0\n",
       "307889  31.12.2008  23:50  2008.999981         -4.0\n",
       "\n",
       "[307890 rows x 4 columns]"
      ]
     },
     "execution_count": 2,
     "metadata": {},
     "output_type": "execute_result"
    }
   ],
   "source": [
    "df = pd.read_csv('temperatures_dortmund.csv')\n",
    "df"
   ]
  },
  {
   "cell_type": "markdown",
   "id": "d4dd5323",
   "metadata": {},
   "source": [
    "Fourier Analyse ist nicht möglich, da die Messdaten nicht äquidistant genommen wurden. Lomb-Scargle ist jedoch anwendbar."
   ]
  },
  {
   "cell_type": "markdown",
   "id": "8763d558",
   "metadata": {},
   "source": [
    "## b)\n",
    "Vorbereiten des Datensatzes"
   ]
  },
  {
   "cell_type": "code",
   "execution_count": 3,
   "id": "b7fdad46",
   "metadata": {},
   "outputs": [],
   "source": [
    "#df['Temperature'].isnull().values.any()\n",
    "\n",
    "df = df.dropna() # drop all NaN entries\n",
    "df = df[df.Measurement < 2009] # some entries have comma at wrong place, causing time > 2009\n",
    "\n",
    "#df['Temperature'].isnull().values.any()\n",
    "\n",
    "#df"
   ]
  },
  {
   "cell_type": "markdown",
   "id": "cb00c0f6",
   "metadata": {},
   "source": [
    "Anwenden von lomb scargle"
   ]
  },
  {
   "cell_type": "code",
   "execution_count": 17,
   "id": "17ebc48b",
   "metadata": {},
   "outputs": [],
   "source": [
    "from scipy.signal import lombscargle\n",
    "\n",
    "data = df.to_numpy()\n",
    "\n",
    "temp = data[:,3]\n",
    "time = data[:,2]\n",
    "\n",
    "n_frequencies = 1000\n",
    "f = np.linspace(1/(4*365), 9, n_frequencies) # anfang der Frequenzen: ein viertel Tag\n",
    "\n",
    "pgram = lombscargle(time, temp, f, normalize=True)"
   ]
  },
  {
   "cell_type": "code",
   "execution_count": 18,
   "id": "e1c2d7ea",
   "metadata": {
    "scrolled": true
   },
   "outputs": [
    {
     "data": {
      "text/plain": [
       "(0.0, 9.0)"
      ]
     },
     "execution_count": 18,
     "metadata": {},
     "output_type": "execute_result"
    },
    {
     "data": {
      "image/png": "[encoded data removed]",
      "text/plain": [
       "<Figure size 432x288 with 2 Axes>"
      ]
     },
     "metadata": {
      "needs_background": "light"
     },
     "output_type": "display_data"
    }
   ],
   "source": [
    "fig, ax = plt.subplots(2,1)\n",
    "\n",
    "ax[0].plot(time, temp, marker = \".\", ms = 0.1, lw = 0, c = \"lightcoral\")\n",
    "ax[0].set_xlim(2000, 2009)\n",
    "\n",
    "ax[1].plot(f, pgram, c = \"cornflowerblue\")\n",
    "ax[1].set_xlim(0, 9)"
   ]
  },
  {
   "cell_type": "raw",
   "id": "2650742d",
   "metadata": {},
   "source": [
    "Frequenzen im Bereich von unter einem Jahr können nicht scharf aufgelöst werden.\n",
    "Frequenzen über neun Jahren sind auf Grund des Datensatzes ebenfalls nicht sinnvoll.\n",
    "Es ergibt sich ein Peak bei einem Jahr, der zu erwarten war. Darüber hinaus findet sich ein größerer Peak bei 6 Jahren"
   ]
  },
  {
   "cell_type": "code",
   "execution_count": null,
   "id": "59aebc45",
   "metadata": {},
   "outputs": [],
   "source": []
  }
 ],
 "metadata": {
  "kernelspec": {
   "display_name": "Python 3 (ipykernel)",
   "language": "python",
   "name": "python3"
  },
  "language_info": {
   "codemirror_mode": {
    "name": "ipython",
    "version": 3
   },
   "file_extension": ".py",
   "mimetype": "text/x-python",
   "name": "python",
   "nbconvert_exporter": "python",
   "pygments_lexer": "ipython3",
   "version": "3.10.4"
  }
 },
 "nbformat": 4,
 "nbformat_minor": 5
}
